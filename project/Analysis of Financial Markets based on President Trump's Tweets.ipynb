{
  "nbformat": 4,
  "nbformat_minor": 0,
  "metadata": {
    "colab": {
      "name": "Analysis of Financial Markets based on President Trump's Tweets.ipynb",
      "provenance": [],
      "toc_visible": true
    },
    "kernelspec": {
      "name": "python3",
      "display_name": "Python 3"
    }
  },
  "cells": [
    {
      "cell_type": "markdown",
      "metadata": {
        "id": "ROMGhF7rMA5A"
      },
      "source": [
        "# Analysis of Financial Markets based on President Trump's Tweets"
      ]
    },
    {
      "cell_type": "markdown",
      "metadata": {
        "id": "bXn_tV83MWDf"
      },
      "source": [
        "## Data Preprocessing"
      ]
    },
    {
      "cell_type": "markdown",
      "metadata": {
        "id": "mgzRCu-FGqFT"
      },
      "source": [
        "### Importing Data"
      ]
    },
    {
      "cell_type": "code",
      "metadata": {
        "id": "_M2pnc_dMo_0"
      },
      "source": [
        "!pip install -q kaggle"
      ],
      "execution_count": 1,
      "outputs": []
    },
    {
      "cell_type": "code",
      "metadata": {
        "id": "dWSxK2PmDlih"
      },
      "source": [
        "# Upload kaggle.json file containing your API key\n",
        "from google.colab import files\n",
        "files.upload()"
      ],
      "execution_count": null,
      "outputs": []
    },
    {
      "cell_type": "code",
      "metadata": {
        "id": "IE8U9jcbDlYb"
      },
      "source": [
        "!mkdir ~/.kaggle "
      ],
      "execution_count": null,
      "outputs": []
    },
    {
      "cell_type": "code",
      "metadata": {
        "id": "8DGSg0MqDlPZ"
      },
      "source": [
        "!cp kaggle.json ~/.kaggle/"
      ],
      "execution_count": 4,
      "outputs": []
    },
    {
      "cell_type": "code",
      "metadata": {
        "id": "Nllv8f7wDlIT"
      },
      "source": [
        "! chmod 600 ~/.kaggle/kaggle.json"
      ],
      "execution_count": 5,
      "outputs": []
    },
    {
      "cell_type": "code",
      "metadata": {
        "id": "IdfNuhLlDk3C"
      },
      "source": [
        "# Check to see if the API is working correctly \n",
        "# ! kaggle datasets list"
      ],
      "execution_count": 6,
      "outputs": []
    },
    {
      "cell_type": "code",
      "metadata": {
        "id": "CHuIyg52E-TW"
      },
      "source": [
        "! kaggle datasets download -d austinreese/trump-tweets"
      ],
      "execution_count": null,
      "outputs": []
    },
    {
      "cell_type": "code",
      "metadata": {
        "id": "zKHNkzvcnu9T"
      },
      "source": [
        "! pip install yfinance"
      ],
      "execution_count": null,
      "outputs": []
    },
    {
      "cell_type": "markdown",
      "metadata": {
        "id": "uNfK8sCXGw55"
      },
      "source": [
        "### Data Cleaning"
      ]
    },
    {
      "cell_type": "code",
      "metadata": {
        "id": "d8v2ZLENL8D9"
      },
      "source": [
        "import pandas as pd\n",
        "import numpy as np\n",
        "from zipfile import ZipFile"
      ],
      "execution_count": 9,
      "outputs": []
    },
    {
      "cell_type": "markdown",
      "metadata": {
        "id": "VRDswxwgsXg2"
      },
      "source": [
        "#### Twitter Data"
      ]
    },
    {
      "cell_type": "code",
      "metadata": {
        "id": "Pxr9sendFwme",
        "outputId": "8de4573f-28c7-4991-8f3a-d319cdce1903",
        "colab": {
          "base_uri": "https://localhost:8080/",
          "height": 612
        }
      },
      "source": [
        "data = ZipFile(\"/content/trump-tweets.zip\")\n",
        "trump_tweets = pd.read_csv(data.open('trumptweets.csv'))\n",
        "trump_tweets.head()"
      ],
      "execution_count": 41,
      "outputs": [
        {
          "output_type": "execute_result",
          "data": {
            "text/html": [
              "<div>\n",
              "<style scoped>\n",
              "    .dataframe tbody tr th:only-of-type {\n",
              "        vertical-align: middle;\n",
              "    }\n",
              "\n",
              "    .dataframe tbody tr th {\n",
              "        vertical-align: top;\n",
              "    }\n",
              "\n",
              "    .dataframe thead th {\n",
              "        text-align: right;\n",
              "    }\n",
              "</style>\n",
              "<table border=\"1\" class=\"dataframe\">\n",
              "  <thead>\n",
              "    <tr style=\"text-align: right;\">\n",
              "      <th></th>\n",
              "      <th>id</th>\n",
              "      <th>link</th>\n",
              "      <th>content</th>\n",
              "      <th>date</th>\n",
              "      <th>retweets</th>\n",
              "      <th>favorites</th>\n",
              "      <th>mentions</th>\n",
              "      <th>hashtags</th>\n",
              "      <th>geo</th>\n",
              "    </tr>\n",
              "  </thead>\n",
              "  <tbody>\n",
              "    <tr>\n",
              "      <th>0</th>\n",
              "      <td>1698308935</td>\n",
              "      <td>https://twitter.com/realDonaldTrump/status/169...</td>\n",
              "      <td>Be sure to tune in and watch Donald Trump on L...</td>\n",
              "      <td>2009-05-04 20:54:25</td>\n",
              "      <td>500</td>\n",
              "      <td>868</td>\n",
              "      <td>NaN</td>\n",
              "      <td>NaN</td>\n",
              "      <td>NaN</td>\n",
              "    </tr>\n",
              "    <tr>\n",
              "      <th>1</th>\n",
              "      <td>1701461182</td>\n",
              "      <td>https://twitter.com/realDonaldTrump/status/170...</td>\n",
              "      <td>Donald Trump will be appearing on The View tom...</td>\n",
              "      <td>2009-05-05 03:00:10</td>\n",
              "      <td>33</td>\n",
              "      <td>273</td>\n",
              "      <td>NaN</td>\n",
              "      <td>NaN</td>\n",
              "      <td>NaN</td>\n",
              "    </tr>\n",
              "    <tr>\n",
              "      <th>2</th>\n",
              "      <td>1737479987</td>\n",
              "      <td>https://twitter.com/realDonaldTrump/status/173...</td>\n",
              "      <td>Donald Trump reads Top Ten Financial Tips on L...</td>\n",
              "      <td>2009-05-08 15:38:08</td>\n",
              "      <td>12</td>\n",
              "      <td>18</td>\n",
              "      <td>NaN</td>\n",
              "      <td>NaN</td>\n",
              "      <td>NaN</td>\n",
              "    </tr>\n",
              "    <tr>\n",
              "      <th>3</th>\n",
              "      <td>1741160716</td>\n",
              "      <td>https://twitter.com/realDonaldTrump/status/174...</td>\n",
              "      <td>New Blog Post: Celebrity Apprentice Finale and...</td>\n",
              "      <td>2009-05-08 22:40:15</td>\n",
              "      <td>11</td>\n",
              "      <td>24</td>\n",
              "      <td>NaN</td>\n",
              "      <td>NaN</td>\n",
              "      <td>NaN</td>\n",
              "    </tr>\n",
              "    <tr>\n",
              "      <th>4</th>\n",
              "      <td>1773561338</td>\n",
              "      <td>https://twitter.com/realDonaldTrump/status/177...</td>\n",
              "      <td>\"My persona will never be that of a wallflower...</td>\n",
              "      <td>2009-05-12 16:07:28</td>\n",
              "      <td>1399</td>\n",
              "      <td>1965</td>\n",
              "      <td>NaN</td>\n",
              "      <td>NaN</td>\n",
              "      <td>NaN</td>\n",
              "    </tr>\n",
              "  </tbody>\n",
              "</table>\n",
              "</div>"
            ],
            "text/plain": [
              "           id                                               link  ... hashtags geo\n",
              "0  1698308935  https://twitter.com/realDonaldTrump/status/169...  ...      NaN NaN\n",
              "1  1701461182  https://twitter.com/realDonaldTrump/status/170...  ...      NaN NaN\n",
              "2  1737479987  https://twitter.com/realDonaldTrump/status/173...  ...      NaN NaN\n",
              "3  1741160716  https://twitter.com/realDonaldTrump/status/174...  ...      NaN NaN\n",
              "4  1773561338  https://twitter.com/realDonaldTrump/status/177...  ...      NaN NaN\n",
              "\n",
              "[5 rows x 9 columns]"
            ]
          },
          "metadata": {
            "tags": []
          },
          "execution_count": 41
        }
      ]
    },
    {
      "cell_type": "code",
      "metadata": {
        "id": "igqeNfvgJS6-",
        "outputId": "93e75629-5cd7-4c1a-e3be-3ae19cc255b6",
        "colab": {
          "base_uri": "https://localhost:8080/",
          "height": 34
        }
      },
      "source": [
        "trump_tweets.shape"
      ],
      "execution_count": 42,
      "outputs": [
        {
          "output_type": "execute_result",
          "data": {
            "text/plain": [
              "(41122, 9)"
            ]
          },
          "metadata": {
            "tags": []
          },
          "execution_count": 42
        }
      ]
    },
    {
      "cell_type": "markdown",
      "metadata": {
        "id": "OMHFArhhJuuv"
      },
      "source": [
        "The dataframe shows that there are 41,122 rows and 9 columns. Three of these columns mention, hashtags, and geo are currenly showing NaN for the first five rows. "
      ]
    },
    {
      "cell_type": "code",
      "metadata": {
        "id": "k3gmWYbBKWIe",
        "outputId": "826ad22a-0554-4639-b1c7-a73babfa661f",
        "colab": {
          "base_uri": "https://localhost:8080/",
          "height": 297
        }
      },
      "source": [
        "trump_tweets.describe()"
      ],
      "execution_count": 43,
      "outputs": [
        {
          "output_type": "execute_result",
          "data": {
            "text/html": [
              "<div>\n",
              "<style scoped>\n",
              "    .dataframe tbody tr th:only-of-type {\n",
              "        vertical-align: middle;\n",
              "    }\n",
              "\n",
              "    .dataframe tbody tr th {\n",
              "        vertical-align: top;\n",
              "    }\n",
              "\n",
              "    .dataframe thead th {\n",
              "        text-align: right;\n",
              "    }\n",
              "</style>\n",
              "<table border=\"1\" class=\"dataframe\">\n",
              "  <thead>\n",
              "    <tr style=\"text-align: right;\">\n",
              "      <th></th>\n",
              "      <th>id</th>\n",
              "      <th>retweets</th>\n",
              "      <th>favorites</th>\n",
              "      <th>geo</th>\n",
              "    </tr>\n",
              "  </thead>\n",
              "  <tbody>\n",
              "    <tr>\n",
              "      <th>count</th>\n",
              "      <td>4.112200e+04</td>\n",
              "      <td>41122.000000</td>\n",
              "      <td>41122.000000</td>\n",
              "      <td>0.0</td>\n",
              "    </tr>\n",
              "    <tr>\n",
              "      <th>mean</th>\n",
              "      <td>6.088909e+17</td>\n",
              "      <td>5455.590657</td>\n",
              "      <td>22356.899105</td>\n",
              "      <td>NaN</td>\n",
              "    </tr>\n",
              "    <tr>\n",
              "      <th>std</th>\n",
              "      <td>3.027946e+17</td>\n",
              "      <td>10130.076661</td>\n",
              "      <td>41501.859711</td>\n",
              "      <td>NaN</td>\n",
              "    </tr>\n",
              "    <tr>\n",
              "      <th>min</th>\n",
              "      <td>1.698309e+09</td>\n",
              "      <td>0.000000</td>\n",
              "      <td>0.000000</td>\n",
              "      <td>NaN</td>\n",
              "    </tr>\n",
              "    <tr>\n",
              "      <th>25%</th>\n",
              "      <td>3.549428e+17</td>\n",
              "      <td>25.000000</td>\n",
              "      <td>28.000000</td>\n",
              "      <td>NaN</td>\n",
              "    </tr>\n",
              "    <tr>\n",
              "      <th>50%</th>\n",
              "      <td>5.609149e+17</td>\n",
              "      <td>291.000000</td>\n",
              "      <td>247.000000</td>\n",
              "      <td>NaN</td>\n",
              "    </tr>\n",
              "    <tr>\n",
              "      <th>75%</th>\n",
              "      <td>7.941218e+17</td>\n",
              "      <td>8778.000000</td>\n",
              "      <td>32970.750000</td>\n",
              "      <td>NaN</td>\n",
              "    </tr>\n",
              "    <tr>\n",
              "      <th>max</th>\n",
              "      <td>1.219077e+18</td>\n",
              "      <td>309892.000000</td>\n",
              "      <td>857678.000000</td>\n",
              "      <td>NaN</td>\n",
              "    </tr>\n",
              "  </tbody>\n",
              "</table>\n",
              "</div>"
            ],
            "text/plain": [
              "                 id       retweets      favorites  geo\n",
              "count  4.112200e+04   41122.000000   41122.000000  0.0\n",
              "mean   6.088909e+17    5455.590657   22356.899105  NaN\n",
              "std    3.027946e+17   10130.076661   41501.859711  NaN\n",
              "min    1.698309e+09       0.000000       0.000000  NaN\n",
              "25%    3.549428e+17      25.000000      28.000000  NaN\n",
              "50%    5.609149e+17     291.000000     247.000000  NaN\n",
              "75%    7.941218e+17    8778.000000   32970.750000  NaN\n",
              "max    1.219077e+18  309892.000000  857678.000000  NaN"
            ]
          },
          "metadata": {
            "tags": []
          },
          "execution_count": 43
        }
      ]
    },
    {
      "cell_type": "code",
      "metadata": {
        "id": "HGVik1eoL_oM",
        "outputId": "d4aab374-6faf-49c3-842d-560067d0d58e",
        "colab": {
          "base_uri": "https://localhost:8080/",
          "height": 759
        }
      },
      "source": [
        "#Remove NaN columns\n",
        "trump_tweets = trump_tweets.drop(labels=['mentions', 'hashtags', 'geo'], axis='columns')\n",
        "trump_tweets"
      ],
      "execution_count": 44,
      "outputs": [
        {
          "output_type": "execute_result",
          "data": {
            "text/html": [
              "<div>\n",
              "<style scoped>\n",
              "    .dataframe tbody tr th:only-of-type {\n",
              "        vertical-align: middle;\n",
              "    }\n",
              "\n",
              "    .dataframe tbody tr th {\n",
              "        vertical-align: top;\n",
              "    }\n",
              "\n",
              "    .dataframe thead th {\n",
              "        text-align: right;\n",
              "    }\n",
              "</style>\n",
              "<table border=\"1\" class=\"dataframe\">\n",
              "  <thead>\n",
              "    <tr style=\"text-align: right;\">\n",
              "      <th></th>\n",
              "      <th>id</th>\n",
              "      <th>link</th>\n",
              "      <th>content</th>\n",
              "      <th>date</th>\n",
              "      <th>retweets</th>\n",
              "      <th>favorites</th>\n",
              "    </tr>\n",
              "  </thead>\n",
              "  <tbody>\n",
              "    <tr>\n",
              "      <th>0</th>\n",
              "      <td>1698308935</td>\n",
              "      <td>https://twitter.com/realDonaldTrump/status/169...</td>\n",
              "      <td>Be sure to tune in and watch Donald Trump on L...</td>\n",
              "      <td>2009-05-04 20:54:25</td>\n",
              "      <td>500</td>\n",
              "      <td>868</td>\n",
              "    </tr>\n",
              "    <tr>\n",
              "      <th>1</th>\n",
              "      <td>1701461182</td>\n",
              "      <td>https://twitter.com/realDonaldTrump/status/170...</td>\n",
              "      <td>Donald Trump will be appearing on The View tom...</td>\n",
              "      <td>2009-05-05 03:00:10</td>\n",
              "      <td>33</td>\n",
              "      <td>273</td>\n",
              "    </tr>\n",
              "    <tr>\n",
              "      <th>2</th>\n",
              "      <td>1737479987</td>\n",
              "      <td>https://twitter.com/realDonaldTrump/status/173...</td>\n",
              "      <td>Donald Trump reads Top Ten Financial Tips on L...</td>\n",
              "      <td>2009-05-08 15:38:08</td>\n",
              "      <td>12</td>\n",
              "      <td>18</td>\n",
              "    </tr>\n",
              "    <tr>\n",
              "      <th>3</th>\n",
              "      <td>1741160716</td>\n",
              "      <td>https://twitter.com/realDonaldTrump/status/174...</td>\n",
              "      <td>New Blog Post: Celebrity Apprentice Finale and...</td>\n",
              "      <td>2009-05-08 22:40:15</td>\n",
              "      <td>11</td>\n",
              "      <td>24</td>\n",
              "    </tr>\n",
              "    <tr>\n",
              "      <th>4</th>\n",
              "      <td>1773561338</td>\n",
              "      <td>https://twitter.com/realDonaldTrump/status/177...</td>\n",
              "      <td>\"My persona will never be that of a wallflower...</td>\n",
              "      <td>2009-05-12 16:07:28</td>\n",
              "      <td>1399</td>\n",
              "      <td>1965</td>\n",
              "    </tr>\n",
              "    <tr>\n",
              "      <th>...</th>\n",
              "      <td>...</td>\n",
              "      <td>...</td>\n",
              "      <td>...</td>\n",
              "      <td>...</td>\n",
              "      <td>...</td>\n",
              "      <td>...</td>\n",
              "    </tr>\n",
              "    <tr>\n",
              "      <th>41117</th>\n",
              "      <td>1218962544372670467</td>\n",
              "      <td>https://twitter.com/realDonaldTrump/status/121...</td>\n",
              "      <td>I have never seen the Republican Party as Stro...</td>\n",
              "      <td>2020-01-19 19:24:52</td>\n",
              "      <td>32620</td>\n",
              "      <td>213817</td>\n",
              "    </tr>\n",
              "    <tr>\n",
              "      <th>41118</th>\n",
              "      <td>1219004689716412416</td>\n",
              "      <td>https://twitter.com/realDonaldTrump/status/121...</td>\n",
              "      <td>Now Mini Mike Bloomberg is critical of Jack Wi...</td>\n",
              "      <td>2020-01-19 22:12:20</td>\n",
              "      <td>36239</td>\n",
              "      <td>149571</td>\n",
              "    </tr>\n",
              "    <tr>\n",
              "      <th>41119</th>\n",
              "      <td>1219053709428248576</td>\n",
              "      <td>https://twitter.com/realDonaldTrump/status/121...</td>\n",
              "      <td>I was thrilled to be back in the Great State o...</td>\n",
              "      <td>2020-01-20 01:27:07</td>\n",
              "      <td>16588</td>\n",
              "      <td>66944</td>\n",
              "    </tr>\n",
              "    <tr>\n",
              "      <th>41120</th>\n",
              "      <td>1219066007731310593</td>\n",
              "      <td>https://twitter.com/realDonaldTrump/status/121...</td>\n",
              "      <td>“In the House, the President got less due proc...</td>\n",
              "      <td>2020-01-20 02:16:00</td>\n",
              "      <td>20599</td>\n",
              "      <td>81921</td>\n",
              "    </tr>\n",
              "    <tr>\n",
              "      <th>41121</th>\n",
              "      <td>1219076533354037249</td>\n",
              "      <td>https://twitter.com/realDonaldTrump/status/121...</td>\n",
              "      <td>A great show! Check it out tonight at 9pm. @ F...</td>\n",
              "      <td>2020-01-20 02:57:49</td>\n",
              "      <td>7947</td>\n",
              "      <td>34902</td>\n",
              "    </tr>\n",
              "  </tbody>\n",
              "</table>\n",
              "<p>41122 rows × 6 columns</p>\n",
              "</div>"
            ],
            "text/plain": [
              "                        id  ... favorites\n",
              "0               1698308935  ...       868\n",
              "1               1701461182  ...       273\n",
              "2               1737479987  ...        18\n",
              "3               1741160716  ...        24\n",
              "4               1773561338  ...      1965\n",
              "...                    ...  ...       ...\n",
              "41117  1218962544372670467  ...    213817\n",
              "41118  1219004689716412416  ...    149571\n",
              "41119  1219053709428248576  ...     66944\n",
              "41120  1219066007731310593  ...     81921\n",
              "41121  1219076533354037249  ...     34902\n",
              "\n",
              "[41122 rows x 6 columns]"
            ]
          },
          "metadata": {
            "tags": []
          },
          "execution_count": 44
        }
      ]
    },
    {
      "cell_type": "code",
      "metadata": {
        "id": "HB5eAktbO3Jk",
        "outputId": "2efcc170-4102-408f-f31b-6942cc7b431a",
        "colab": {
          "base_uri": "https://localhost:8080/",
          "height": 136
        }
      },
      "source": [
        "trump_tweets.dtypes"
      ],
      "execution_count": 45,
      "outputs": [
        {
          "output_type": "execute_result",
          "data": {
            "text/plain": [
              "id            int64\n",
              "link         object\n",
              "content      object\n",
              "date         object\n",
              "retweets      int64\n",
              "favorites     int64\n",
              "dtype: object"
            ]
          },
          "metadata": {
            "tags": []
          },
          "execution_count": 45
        }
      ]
    },
    {
      "cell_type": "code",
      "metadata": {
        "id": "-kxy8gPaP8H0"
      },
      "source": [
        "# The date column is an object when it should be datetime\n",
        "trump_tweets['date'] = pd.to_datetime(trump_tweets['date'], format='%Y%m%d %H:%M:%S')"
      ],
      "execution_count": 46,
      "outputs": []
    },
    {
      "cell_type": "code",
      "metadata": {
        "id": "qdCweL3JMtsw"
      },
      "source": [
        "# Split the date column into 2 seperate columns\n",
        "trump_tweets['Time'],trump_tweets['Date']= trump_tweets['date'].apply(lambda x:x.time()), trump_tweets['date'].apply(lambda x:x.date())\n",
        "trump_tweets = trump_tweets.drop(labels='date',axis='columns')"
      ],
      "execution_count": 47,
      "outputs": []
    },
    {
      "cell_type": "code",
      "metadata": {
        "id": "mRjtuYLTRxWr",
        "outputId": "b064acdb-6f33-429f-9c63-d2a709be6da3",
        "colab": {
          "base_uri": "https://localhost:8080/",
          "height": 289
        }
      },
      "source": [
        "trump_tweets.head()"
      ],
      "execution_count": 48,
      "outputs": [
        {
          "output_type": "execute_result",
          "data": {
            "text/html": [
              "<div>\n",
              "<style scoped>\n",
              "    .dataframe tbody tr th:only-of-type {\n",
              "        vertical-align: middle;\n",
              "    }\n",
              "\n",
              "    .dataframe tbody tr th {\n",
              "        vertical-align: top;\n",
              "    }\n",
              "\n",
              "    .dataframe thead th {\n",
              "        text-align: right;\n",
              "    }\n",
              "</style>\n",
              "<table border=\"1\" class=\"dataframe\">\n",
              "  <thead>\n",
              "    <tr style=\"text-align: right;\">\n",
              "      <th></th>\n",
              "      <th>id</th>\n",
              "      <th>link</th>\n",
              "      <th>content</th>\n",
              "      <th>retweets</th>\n",
              "      <th>favorites</th>\n",
              "      <th>Time</th>\n",
              "      <th>Date</th>\n",
              "    </tr>\n",
              "  </thead>\n",
              "  <tbody>\n",
              "    <tr>\n",
              "      <th>0</th>\n",
              "      <td>1698308935</td>\n",
              "      <td>https://twitter.com/realDonaldTrump/status/169...</td>\n",
              "      <td>Be sure to tune in and watch Donald Trump on L...</td>\n",
              "      <td>500</td>\n",
              "      <td>868</td>\n",
              "      <td>20:54:25</td>\n",
              "      <td>2009-05-04</td>\n",
              "    </tr>\n",
              "    <tr>\n",
              "      <th>1</th>\n",
              "      <td>1701461182</td>\n",
              "      <td>https://twitter.com/realDonaldTrump/status/170...</td>\n",
              "      <td>Donald Trump will be appearing on The View tom...</td>\n",
              "      <td>33</td>\n",
              "      <td>273</td>\n",
              "      <td>03:00:10</td>\n",
              "      <td>2009-05-05</td>\n",
              "    </tr>\n",
              "    <tr>\n",
              "      <th>2</th>\n",
              "      <td>1737479987</td>\n",
              "      <td>https://twitter.com/realDonaldTrump/status/173...</td>\n",
              "      <td>Donald Trump reads Top Ten Financial Tips on L...</td>\n",
              "      <td>12</td>\n",
              "      <td>18</td>\n",
              "      <td>15:38:08</td>\n",
              "      <td>2009-05-08</td>\n",
              "    </tr>\n",
              "    <tr>\n",
              "      <th>3</th>\n",
              "      <td>1741160716</td>\n",
              "      <td>https://twitter.com/realDonaldTrump/status/174...</td>\n",
              "      <td>New Blog Post: Celebrity Apprentice Finale and...</td>\n",
              "      <td>11</td>\n",
              "      <td>24</td>\n",
              "      <td>22:40:15</td>\n",
              "      <td>2009-05-08</td>\n",
              "    </tr>\n",
              "    <tr>\n",
              "      <th>4</th>\n",
              "      <td>1773561338</td>\n",
              "      <td>https://twitter.com/realDonaldTrump/status/177...</td>\n",
              "      <td>\"My persona will never be that of a wallflower...</td>\n",
              "      <td>1399</td>\n",
              "      <td>1965</td>\n",
              "      <td>16:07:28</td>\n",
              "      <td>2009-05-12</td>\n",
              "    </tr>\n",
              "  </tbody>\n",
              "</table>\n",
              "</div>"
            ],
            "text/plain": [
              "           id  ...        Date\n",
              "0  1698308935  ...  2009-05-04\n",
              "1  1701461182  ...  2009-05-05\n",
              "2  1737479987  ...  2009-05-08\n",
              "3  1741160716  ...  2009-05-08\n",
              "4  1773561338  ...  2009-05-12\n",
              "\n",
              "[5 rows x 7 columns]"
            ]
          },
          "metadata": {
            "tags": []
          },
          "execution_count": 48
        }
      ]
    },
    {
      "cell_type": "code",
      "metadata": {
        "id": "TrmgNCVxqQmT",
        "outputId": "477c02e4-2ba4-4c48-abd1-516e27de2b63",
        "colab": {
          "base_uri": "https://localhost:8080/",
          "height": 221
        }
      },
      "source": [
        "trump_tweets['content']"
      ],
      "execution_count": 49,
      "outputs": [
        {
          "output_type": "execute_result",
          "data": {
            "text/plain": [
              "0        Be sure to tune in and watch Donald Trump on L...\n",
              "1        Donald Trump will be appearing on The View tom...\n",
              "2        Donald Trump reads Top Ten Financial Tips on L...\n",
              "3        New Blog Post: Celebrity Apprentice Finale and...\n",
              "4        \"My persona will never be that of a wallflower...\n",
              "                               ...                        \n",
              "41117    I have never seen the Republican Party as Stro...\n",
              "41118    Now Mini Mike Bloomberg is critical of Jack Wi...\n",
              "41119    I was thrilled to be back in the Great State o...\n",
              "41120    “In the House, the President got less due proc...\n",
              "41121    A great show! Check it out tonight at 9pm. @ F...\n",
              "Name: content, Length: 41122, dtype: object"
            ]
          },
          "metadata": {
            "tags": []
          },
          "execution_count": 49
        }
      ]
    },
    {
      "cell_type": "code",
      "metadata": {
        "id": "FFCM_Tlisn_1",
        "outputId": "13d60946-7363-40d1-a357-979b3a5efac1",
        "colab": {
          "base_uri": "https://localhost:8080/",
          "height": 221
        }
      },
      "source": [
        "# Remove punctuation from content column\n",
        "trump_tweets['content'] = trump_tweets['content'].str.replace('[^\\w\\s]','')\n",
        "trump_tweets['content'] "
      ],
      "execution_count": 50,
      "outputs": [
        {
          "output_type": "execute_result",
          "data": {
            "text/plain": [
              "0        Be sure to tune in and watch Donald Trump on L...\n",
              "1        Donald Trump will be appearing on The View tom...\n",
              "2        Donald Trump reads Top Ten Financial Tips on L...\n",
              "3        New Blog Post Celebrity Apprentice Finale and ...\n",
              "4        My persona will never be that of a wallflower ...\n",
              "                               ...                        \n",
              "41117    I have never seen the Republican Party as Stro...\n",
              "41118    Now Mini Mike Bloomberg is critical of Jack Wi...\n",
              "41119    I was thrilled to be back in the Great State o...\n",
              "41120    In the House the President got less due proces...\n",
              "41121    A great show Check it out tonight at 9pm  FoxN...\n",
              "Name: content, Length: 41122, dtype: object"
            ]
          },
          "metadata": {
            "tags": []
          },
          "execution_count": 50
        }
      ]
    },
    {
      "cell_type": "code",
      "metadata": {
        "id": "ft8p4G2ltELF",
        "outputId": "48696467-74f7-400d-f9fb-f4d854efe8d1",
        "colab": {
          "base_uri": "https://localhost:8080/",
          "height": 289
        }
      },
      "source": [
        "trump_tweets.head()"
      ],
      "execution_count": 51,
      "outputs": [
        {
          "output_type": "execute_result",
          "data": {
            "text/html": [
              "<div>\n",
              "<style scoped>\n",
              "    .dataframe tbody tr th:only-of-type {\n",
              "        vertical-align: middle;\n",
              "    }\n",
              "\n",
              "    .dataframe tbody tr th {\n",
              "        vertical-align: top;\n",
              "    }\n",
              "\n",
              "    .dataframe thead th {\n",
              "        text-align: right;\n",
              "    }\n",
              "</style>\n",
              "<table border=\"1\" class=\"dataframe\">\n",
              "  <thead>\n",
              "    <tr style=\"text-align: right;\">\n",
              "      <th></th>\n",
              "      <th>id</th>\n",
              "      <th>link</th>\n",
              "      <th>content</th>\n",
              "      <th>retweets</th>\n",
              "      <th>favorites</th>\n",
              "      <th>Time</th>\n",
              "      <th>Date</th>\n",
              "    </tr>\n",
              "  </thead>\n",
              "  <tbody>\n",
              "    <tr>\n",
              "      <th>0</th>\n",
              "      <td>1698308935</td>\n",
              "      <td>https://twitter.com/realDonaldTrump/status/169...</td>\n",
              "      <td>Be sure to tune in and watch Donald Trump on L...</td>\n",
              "      <td>500</td>\n",
              "      <td>868</td>\n",
              "      <td>20:54:25</td>\n",
              "      <td>2009-05-04</td>\n",
              "    </tr>\n",
              "    <tr>\n",
              "      <th>1</th>\n",
              "      <td>1701461182</td>\n",
              "      <td>https://twitter.com/realDonaldTrump/status/170...</td>\n",
              "      <td>Donald Trump will be appearing on The View tom...</td>\n",
              "      <td>33</td>\n",
              "      <td>273</td>\n",
              "      <td>03:00:10</td>\n",
              "      <td>2009-05-05</td>\n",
              "    </tr>\n",
              "    <tr>\n",
              "      <th>2</th>\n",
              "      <td>1737479987</td>\n",
              "      <td>https://twitter.com/realDonaldTrump/status/173...</td>\n",
              "      <td>Donald Trump reads Top Ten Financial Tips on L...</td>\n",
              "      <td>12</td>\n",
              "      <td>18</td>\n",
              "      <td>15:38:08</td>\n",
              "      <td>2009-05-08</td>\n",
              "    </tr>\n",
              "    <tr>\n",
              "      <th>3</th>\n",
              "      <td>1741160716</td>\n",
              "      <td>https://twitter.com/realDonaldTrump/status/174...</td>\n",
              "      <td>New Blog Post Celebrity Apprentice Finale and ...</td>\n",
              "      <td>11</td>\n",
              "      <td>24</td>\n",
              "      <td>22:40:15</td>\n",
              "      <td>2009-05-08</td>\n",
              "    </tr>\n",
              "    <tr>\n",
              "      <th>4</th>\n",
              "      <td>1773561338</td>\n",
              "      <td>https://twitter.com/realDonaldTrump/status/177...</td>\n",
              "      <td>My persona will never be that of a wallflower ...</td>\n",
              "      <td>1399</td>\n",
              "      <td>1965</td>\n",
              "      <td>16:07:28</td>\n",
              "      <td>2009-05-12</td>\n",
              "    </tr>\n",
              "  </tbody>\n",
              "</table>\n",
              "</div>"
            ],
            "text/plain": [
              "           id  ...        Date\n",
              "0  1698308935  ...  2009-05-04\n",
              "1  1701461182  ...  2009-05-05\n",
              "2  1737479987  ...  2009-05-08\n",
              "3  1741160716  ...  2009-05-08\n",
              "4  1773561338  ...  2009-05-12\n",
              "\n",
              "[5 rows x 7 columns]"
            ]
          },
          "metadata": {
            "tags": []
          },
          "execution_count": 51
        }
      ]
    },
    {
      "cell_type": "markdown",
      "metadata": {
        "id": "njqokwBae5YJ"
      },
      "source": [
        "Slice out the rows that are not needed. "
      ]
    },
    {
      "cell_type": "code",
      "metadata": {
        "id": "wbtY5FyFeFaP",
        "outputId": "d48c2f7a-0cc3-4f8e-ca18-5dc1bdac8620",
        "colab": {
          "base_uri": "https://localhost:8080/",
          "height": 793
        }
      },
      "source": [
        "dates = trump_tweets[trump_tweets['Date'] >= pd.to_datetime('2016-11-08')]\n",
        "dates"
      ],
      "execution_count": 60,
      "outputs": [
        {
          "output_type": "execute_result",
          "data": {
            "text/html": [
              "<div>\n",
              "<style scoped>\n",
              "    .dataframe tbody tr th:only-of-type {\n",
              "        vertical-align: middle;\n",
              "    }\n",
              "\n",
              "    .dataframe tbody tr th {\n",
              "        vertical-align: top;\n",
              "    }\n",
              "\n",
              "    .dataframe thead th {\n",
              "        text-align: right;\n",
              "    }\n",
              "</style>\n",
              "<table border=\"1\" class=\"dataframe\">\n",
              "  <thead>\n",
              "    <tr style=\"text-align: right;\">\n",
              "      <th></th>\n",
              "      <th>id</th>\n",
              "      <th>link</th>\n",
              "      <th>content</th>\n",
              "      <th>retweets</th>\n",
              "      <th>favorites</th>\n",
              "      <th>Time</th>\n",
              "      <th>Date</th>\n",
              "    </tr>\n",
              "  </thead>\n",
              "  <tbody>\n",
              "    <tr>\n",
              "      <th>30889</th>\n",
              "      <td>795770006306861057</td>\n",
              "      <td>https://twitter.com/realDonaldTrump/status/795...</td>\n",
              "      <td>LIVE on  Periscope Join me for a few minutes i...</td>\n",
              "      <td>8765</td>\n",
              "      <td>27429</td>\n",
              "      <td>00:28:48</td>\n",
              "      <td>2016-11-08</td>\n",
              "    </tr>\n",
              "    <tr>\n",
              "      <th>30890</th>\n",
              "      <td>795779987152523264</td>\n",
              "      <td>https://twitter.com/realDonaldTrump/status/795...</td>\n",
              "      <td>Thank you Pennsylvania Going to New Hampshire ...</td>\n",
              "      <td>7743</td>\n",
              "      <td>25771</td>\n",
              "      <td>01:08:28</td>\n",
              "      <td>2016-11-08</td>\n",
              "    </tr>\n",
              "    <tr>\n",
              "      <th>30891</th>\n",
              "      <td>795781945607278592</td>\n",
              "      <td>https://twitter.com/realDonaldTrump/status/795...</td>\n",
              "      <td>Today in Florida I pledged to stand with the p...</td>\n",
              "      <td>12110</td>\n",
              "      <td>32433</td>\n",
              "      <td>01:16:15</td>\n",
              "      <td>2016-11-08</td>\n",
              "    </tr>\n",
              "    <tr>\n",
              "      <th>30892</th>\n",
              "      <td>795782371895349250</td>\n",
              "      <td>https://twitter.com/realDonaldTrump/status/795...</td>\n",
              "      <td>Big news to share in New Hampshire tonight Pol...</td>\n",
              "      <td>11281</td>\n",
              "      <td>38360</td>\n",
              "      <td>01:17:57</td>\n",
              "      <td>2016-11-08</td>\n",
              "    </tr>\n",
              "    <tr>\n",
              "      <th>30893</th>\n",
              "      <td>795834203430645760</td>\n",
              "      <td>https://twitter.com/realDonaldTrump/status/795...</td>\n",
              "      <td>Unbelievable evening in New Hampshire  THANK Y...</td>\n",
              "      <td>7796</td>\n",
              "      <td>28222</td>\n",
              "      <td>04:43:54</td>\n",
              "      <td>2016-11-08</td>\n",
              "    </tr>\n",
              "    <tr>\n",
              "      <th>...</th>\n",
              "      <td>...</td>\n",
              "      <td>...</td>\n",
              "      <td>...</td>\n",
              "      <td>...</td>\n",
              "      <td>...</td>\n",
              "      <td>...</td>\n",
              "      <td>...</td>\n",
              "    </tr>\n",
              "    <tr>\n",
              "      <th>41117</th>\n",
              "      <td>1218962544372670467</td>\n",
              "      <td>https://twitter.com/realDonaldTrump/status/121...</td>\n",
              "      <td>I have never seen the Republican Party as Stro...</td>\n",
              "      <td>32620</td>\n",
              "      <td>213817</td>\n",
              "      <td>19:24:52</td>\n",
              "      <td>2020-01-19</td>\n",
              "    </tr>\n",
              "    <tr>\n",
              "      <th>41118</th>\n",
              "      <td>1219004689716412416</td>\n",
              "      <td>https://twitter.com/realDonaldTrump/status/121...</td>\n",
              "      <td>Now Mini Mike Bloomberg is critical of Jack Wi...</td>\n",
              "      <td>36239</td>\n",
              "      <td>149571</td>\n",
              "      <td>22:12:20</td>\n",
              "      <td>2020-01-19</td>\n",
              "    </tr>\n",
              "    <tr>\n",
              "      <th>41119</th>\n",
              "      <td>1219053709428248576</td>\n",
              "      <td>https://twitter.com/realDonaldTrump/status/121...</td>\n",
              "      <td>I was thrilled to be back in the Great State o...</td>\n",
              "      <td>16588</td>\n",
              "      <td>66944</td>\n",
              "      <td>01:27:07</td>\n",
              "      <td>2020-01-20</td>\n",
              "    </tr>\n",
              "    <tr>\n",
              "      <th>41120</th>\n",
              "      <td>1219066007731310593</td>\n",
              "      <td>https://twitter.com/realDonaldTrump/status/121...</td>\n",
              "      <td>In the House the President got less due proces...</td>\n",
              "      <td>20599</td>\n",
              "      <td>81921</td>\n",
              "      <td>02:16:00</td>\n",
              "      <td>2020-01-20</td>\n",
              "    </tr>\n",
              "    <tr>\n",
              "      <th>41121</th>\n",
              "      <td>1219076533354037249</td>\n",
              "      <td>https://twitter.com/realDonaldTrump/status/121...</td>\n",
              "      <td>A great show Check it out tonight at 9pm  FoxN...</td>\n",
              "      <td>7947</td>\n",
              "      <td>34902</td>\n",
              "      <td>02:57:49</td>\n",
              "      <td>2020-01-20</td>\n",
              "    </tr>\n",
              "  </tbody>\n",
              "</table>\n",
              "<p>10233 rows × 7 columns</p>\n",
              "</div>"
            ],
            "text/plain": [
              "                        id  ...        Date\n",
              "30889   795770006306861057  ...  2016-11-08\n",
              "30890   795779987152523264  ...  2016-11-08\n",
              "30891   795781945607278592  ...  2016-11-08\n",
              "30892   795782371895349250  ...  2016-11-08\n",
              "30893   795834203430645760  ...  2016-11-08\n",
              "...                    ...  ...         ...\n",
              "41117  1218962544372670467  ...  2020-01-19\n",
              "41118  1219004689716412416  ...  2020-01-19\n",
              "41119  1219053709428248576  ...  2020-01-20\n",
              "41120  1219066007731310593  ...  2020-01-20\n",
              "41121  1219076533354037249  ...  2020-01-20\n",
              "\n",
              "[10233 rows x 7 columns]"
            ]
          },
          "metadata": {
            "tags": []
          },
          "execution_count": 60
        }
      ]
    },
    {
      "cell_type": "markdown",
      "metadata": {
        "id": "VAOK1pu8sTiR"
      },
      "source": [
        "#### Stock Market Data"
      ]
    },
    {
      "cell_type": "markdown",
      "metadata": {
        "id": "A__c6pWu4HLf"
      },
      "source": [
        "The Yahoo Finance API is utilized for market data from November 8th 2016 through present day."
      ]
    },
    {
      "cell_type": "code",
      "metadata": {
        "id": "v2wBDo0Rn5_e",
        "outputId": "18c624b3-cc5a-45ed-8588-4274fea07ced",
        "colab": {
          "base_uri": "https://localhost:8080/",
          "height": 34
        }
      },
      "source": [
        "import yfinance as yf\n",
        "market_data = yf.download('NDAQ',start='2016-11-08')\n",
        "market_data.to_csv('market_data.csv')"
      ],
      "execution_count": 25,
      "outputs": [
        {
          "output_type": "stream",
          "text": [
            "\r[*********************100%***********************]  1 of 1 completed\n"
          ],
          "name": "stdout"
        }
      ]
    },
    {
      "cell_type": "code",
      "metadata": {
        "id": "_qJQU_1AxfnO",
        "outputId": "9d6eeef0-1d37-438a-fcd3-aae5ccf013ec",
        "colab": {
          "base_uri": "https://localhost:8080/",
          "height": 204
        }
      },
      "source": [
        "stock_data = pd.read_csv('/content/market_data.csv')\n",
        "stock_data.head()"
      ],
      "execution_count": 26,
      "outputs": [
        {
          "output_type": "execute_result",
          "data": {
            "text/html": [
              "<div>\n",
              "<style scoped>\n",
              "    .dataframe tbody tr th:only-of-type {\n",
              "        vertical-align: middle;\n",
              "    }\n",
              "\n",
              "    .dataframe tbody tr th {\n",
              "        vertical-align: top;\n",
              "    }\n",
              "\n",
              "    .dataframe thead th {\n",
              "        text-align: right;\n",
              "    }\n",
              "</style>\n",
              "<table border=\"1\" class=\"dataframe\">\n",
              "  <thead>\n",
              "    <tr style=\"text-align: right;\">\n",
              "      <th></th>\n",
              "      <th>Date</th>\n",
              "      <th>Open</th>\n",
              "      <th>High</th>\n",
              "      <th>Low</th>\n",
              "      <th>Close</th>\n",
              "      <th>Adj Close</th>\n",
              "      <th>Volume</th>\n",
              "    </tr>\n",
              "  </thead>\n",
              "  <tbody>\n",
              "    <tr>\n",
              "      <th>0</th>\n",
              "      <td>2016-11-08</td>\n",
              "      <td>65.440002</td>\n",
              "      <td>65.570000</td>\n",
              "      <td>64.190002</td>\n",
              "      <td>65.379997</td>\n",
              "      <td>60.622059</td>\n",
              "      <td>666500</td>\n",
              "    </tr>\n",
              "    <tr>\n",
              "      <th>1</th>\n",
              "      <td>2016-11-09</td>\n",
              "      <td>65.209999</td>\n",
              "      <td>67.139999</td>\n",
              "      <td>64.690002</td>\n",
              "      <td>66.930000</td>\n",
              "      <td>62.059265</td>\n",
              "      <td>1034000</td>\n",
              "    </tr>\n",
              "    <tr>\n",
              "      <th>2</th>\n",
              "      <td>2016-11-10</td>\n",
              "      <td>67.489998</td>\n",
              "      <td>68.290001</td>\n",
              "      <td>66.889999</td>\n",
              "      <td>67.099998</td>\n",
              "      <td>62.216900</td>\n",
              "      <td>1211200</td>\n",
              "    </tr>\n",
              "    <tr>\n",
              "      <th>3</th>\n",
              "      <td>2016-11-11</td>\n",
              "      <td>66.980003</td>\n",
              "      <td>67.320000</td>\n",
              "      <td>65.870003</td>\n",
              "      <td>66.440002</td>\n",
              "      <td>61.604923</td>\n",
              "      <td>889400</td>\n",
              "    </tr>\n",
              "    <tr>\n",
              "      <th>4</th>\n",
              "      <td>2016-11-14</td>\n",
              "      <td>66.620003</td>\n",
              "      <td>66.660004</td>\n",
              "      <td>64.570000</td>\n",
              "      <td>64.730003</td>\n",
              "      <td>60.019367</td>\n",
              "      <td>1413300</td>\n",
              "    </tr>\n",
              "  </tbody>\n",
              "</table>\n",
              "</div>"
            ],
            "text/plain": [
              "         Date       Open       High        Low      Close  Adj Close   Volume\n",
              "0  2016-11-08  65.440002  65.570000  64.190002  65.379997  60.622059   666500\n",
              "1  2016-11-09  65.209999  67.139999  64.690002  66.930000  62.059265  1034000\n",
              "2  2016-11-10  67.489998  68.290001  66.889999  67.099998  62.216900  1211200\n",
              "3  2016-11-11  66.980003  67.320000  65.870003  66.440002  61.604923   889400\n",
              "4  2016-11-14  66.620003  66.660004  64.570000  64.730003  60.019367  1413300"
            ]
          },
          "metadata": {
            "tags": []
          },
          "execution_count": 26
        }
      ]
    },
    {
      "cell_type": "code",
      "metadata": {
        "id": "_qCHC6YT33PR",
        "outputId": "89d9ca42-32e8-4adb-eeb8-186a7ead4d87",
        "colab": {
          "base_uri": "https://localhost:8080/",
          "height": 34
        }
      },
      "source": [
        "stock_data.shape"
      ],
      "execution_count": 27,
      "outputs": [
        {
          "output_type": "execute_result",
          "data": {
            "text/plain": [
              "(995, 7)"
            ]
          },
          "metadata": {
            "tags": []
          },
          "execution_count": 27
        }
      ]
    },
    {
      "cell_type": "code",
      "metadata": {
        "id": "jlXTrMPfyYM_",
        "outputId": "803c293e-a12c-44a7-84ed-86631b14e659",
        "colab": {
          "base_uri": "https://localhost:8080/",
          "height": 297
        }
      },
      "source": [
        "stock_data.describe()"
      ],
      "execution_count": 28,
      "outputs": [
        {
          "output_type": "execute_result",
          "data": {
            "text/html": [
              "<div>\n",
              "<style scoped>\n",
              "    .dataframe tbody tr th:only-of-type {\n",
              "        vertical-align: middle;\n",
              "    }\n",
              "\n",
              "    .dataframe tbody tr th {\n",
              "        vertical-align: top;\n",
              "    }\n",
              "\n",
              "    .dataframe thead th {\n",
              "        text-align: right;\n",
              "    }\n",
              "</style>\n",
              "<table border=\"1\" class=\"dataframe\">\n",
              "  <thead>\n",
              "    <tr style=\"text-align: right;\">\n",
              "      <th></th>\n",
              "      <th>Open</th>\n",
              "      <th>High</th>\n",
              "      <th>Low</th>\n",
              "      <th>Close</th>\n",
              "      <th>Adj Close</th>\n",
              "      <th>Volume</th>\n",
              "    </tr>\n",
              "  </thead>\n",
              "  <tbody>\n",
              "    <tr>\n",
              "      <th>count</th>\n",
              "      <td>995.000000</td>\n",
              "      <td>995.000000</td>\n",
              "      <td>995.000000</td>\n",
              "      <td>995.000000</td>\n",
              "      <td>995.000000</td>\n",
              "      <td>9.950000e+02</td>\n",
              "    </tr>\n",
              "    <tr>\n",
              "      <th>mean</th>\n",
              "      <td>90.579156</td>\n",
              "      <td>91.406101</td>\n",
              "      <td>89.718563</td>\n",
              "      <td>90.595789</td>\n",
              "      <td>87.689579</td>\n",
              "      <td>8.606142e+05</td>\n",
              "    </tr>\n",
              "    <tr>\n",
              "      <th>std</th>\n",
              "      <td>17.378123</td>\n",
              "      <td>17.616862</td>\n",
              "      <td>17.088426</td>\n",
              "      <td>17.363765</td>\n",
              "      <td>18.661687</td>\n",
              "      <td>3.803854e+05</td>\n",
              "    </tr>\n",
              "    <tr>\n",
              "      <th>min</th>\n",
              "      <td>63.700001</td>\n",
              "      <td>64.320000</td>\n",
              "      <td>63.360001</td>\n",
              "      <td>63.549999</td>\n",
              "      <td>58.925240</td>\n",
              "      <td>2.179000e+05</td>\n",
              "    </tr>\n",
              "    <tr>\n",
              "      <th>25%</th>\n",
              "      <td>76.129997</td>\n",
              "      <td>76.764999</td>\n",
              "      <td>75.599998</td>\n",
              "      <td>76.119999</td>\n",
              "      <td>72.189796</td>\n",
              "      <td>5.989500e+05</td>\n",
              "    </tr>\n",
              "    <tr>\n",
              "      <th>50%</th>\n",
              "      <td>88.849998</td>\n",
              "      <td>89.820000</td>\n",
              "      <td>88.099998</td>\n",
              "      <td>88.800003</td>\n",
              "      <td>86.053398</td>\n",
              "      <td>7.738000e+05</td>\n",
              "    </tr>\n",
              "    <tr>\n",
              "      <th>75%</th>\n",
              "      <td>100.340000</td>\n",
              "      <td>101.489998</td>\n",
              "      <td>99.200001</td>\n",
              "      <td>100.389999</td>\n",
              "      <td>98.653645</td>\n",
              "      <td>1.017500e+06</td>\n",
              "    </tr>\n",
              "    <tr>\n",
              "      <th>max</th>\n",
              "      <td>137.809998</td>\n",
              "      <td>137.940002</td>\n",
              "      <td>135.000000</td>\n",
              "      <td>137.279999</td>\n",
              "      <td>136.759308</td>\n",
              "      <td>2.973800e+06</td>\n",
              "    </tr>\n",
              "  </tbody>\n",
              "</table>\n",
              "</div>"
            ],
            "text/plain": [
              "             Open        High         Low       Close   Adj Close        Volume\n",
              "count  995.000000  995.000000  995.000000  995.000000  995.000000  9.950000e+02\n",
              "mean    90.579156   91.406101   89.718563   90.595789   87.689579  8.606142e+05\n",
              "std     17.378123   17.616862   17.088426   17.363765   18.661687  3.803854e+05\n",
              "min     63.700001   64.320000   63.360001   63.549999   58.925240  2.179000e+05\n",
              "25%     76.129997   76.764999   75.599998   76.119999   72.189796  5.989500e+05\n",
              "50%     88.849998   89.820000   88.099998   88.800003   86.053398  7.738000e+05\n",
              "75%    100.340000  101.489998   99.200001  100.389999   98.653645  1.017500e+06\n",
              "max    137.809998  137.940002  135.000000  137.279999  136.759308  2.973800e+06"
            ]
          },
          "metadata": {
            "tags": []
          },
          "execution_count": 28
        }
      ]
    },
    {
      "cell_type": "code",
      "metadata": {
        "id": "lgyV2LOW5-co",
        "outputId": "4487048f-a85b-4818-c3d8-37365992c1a0",
        "colab": {
          "base_uri": "https://localhost:8080/",
          "height": 419
        }
      },
      "source": [
        "# Round columns with decimal places to only 2 decimal places\n",
        "stock_data = stock_data.round(decimals=2)\n",
        "stock_data"
      ],
      "execution_count": 29,
      "outputs": [
        {
          "output_type": "execute_result",
          "data": {
            "text/html": [
              "<div>\n",
              "<style scoped>\n",
              "    .dataframe tbody tr th:only-of-type {\n",
              "        vertical-align: middle;\n",
              "    }\n",
              "\n",
              "    .dataframe tbody tr th {\n",
              "        vertical-align: top;\n",
              "    }\n",
              "\n",
              "    .dataframe thead th {\n",
              "        text-align: right;\n",
              "    }\n",
              "</style>\n",
              "<table border=\"1\" class=\"dataframe\">\n",
              "  <thead>\n",
              "    <tr style=\"text-align: right;\">\n",
              "      <th></th>\n",
              "      <th>Date</th>\n",
              "      <th>Open</th>\n",
              "      <th>High</th>\n",
              "      <th>Low</th>\n",
              "      <th>Close</th>\n",
              "      <th>Adj Close</th>\n",
              "      <th>Volume</th>\n",
              "    </tr>\n",
              "  </thead>\n",
              "  <tbody>\n",
              "    <tr>\n",
              "      <th>0</th>\n",
              "      <td>2016-11-08</td>\n",
              "      <td>65.44</td>\n",
              "      <td>65.57</td>\n",
              "      <td>64.19</td>\n",
              "      <td>65.38</td>\n",
              "      <td>60.62</td>\n",
              "      <td>666500</td>\n",
              "    </tr>\n",
              "    <tr>\n",
              "      <th>1</th>\n",
              "      <td>2016-11-09</td>\n",
              "      <td>65.21</td>\n",
              "      <td>67.14</td>\n",
              "      <td>64.69</td>\n",
              "      <td>66.93</td>\n",
              "      <td>62.06</td>\n",
              "      <td>1034000</td>\n",
              "    </tr>\n",
              "    <tr>\n",
              "      <th>2</th>\n",
              "      <td>2016-11-10</td>\n",
              "      <td>67.49</td>\n",
              "      <td>68.29</td>\n",
              "      <td>66.89</td>\n",
              "      <td>67.10</td>\n",
              "      <td>62.22</td>\n",
              "      <td>1211200</td>\n",
              "    </tr>\n",
              "    <tr>\n",
              "      <th>3</th>\n",
              "      <td>2016-11-11</td>\n",
              "      <td>66.98</td>\n",
              "      <td>67.32</td>\n",
              "      <td>65.87</td>\n",
              "      <td>66.44</td>\n",
              "      <td>61.60</td>\n",
              "      <td>889400</td>\n",
              "    </tr>\n",
              "    <tr>\n",
              "      <th>4</th>\n",
              "      <td>2016-11-14</td>\n",
              "      <td>66.62</td>\n",
              "      <td>66.66</td>\n",
              "      <td>64.57</td>\n",
              "      <td>64.73</td>\n",
              "      <td>60.02</td>\n",
              "      <td>1413300</td>\n",
              "    </tr>\n",
              "    <tr>\n",
              "      <th>...</th>\n",
              "      <td>...</td>\n",
              "      <td>...</td>\n",
              "      <td>...</td>\n",
              "      <td>...</td>\n",
              "      <td>...</td>\n",
              "      <td>...</td>\n",
              "      <td>...</td>\n",
              "    </tr>\n",
              "    <tr>\n",
              "      <th>990</th>\n",
              "      <td>2020-10-15</td>\n",
              "      <td>126.50</td>\n",
              "      <td>128.44</td>\n",
              "      <td>126.15</td>\n",
              "      <td>128.41</td>\n",
              "      <td>128.41</td>\n",
              "      <td>410100</td>\n",
              "    </tr>\n",
              "    <tr>\n",
              "      <th>991</th>\n",
              "      <td>2020-10-16</td>\n",
              "      <td>128.66</td>\n",
              "      <td>129.90</td>\n",
              "      <td>127.88</td>\n",
              "      <td>128.87</td>\n",
              "      <td>128.87</td>\n",
              "      <td>727500</td>\n",
              "    </tr>\n",
              "    <tr>\n",
              "      <th>992</th>\n",
              "      <td>2020-10-19</td>\n",
              "      <td>129.71</td>\n",
              "      <td>130.10</td>\n",
              "      <td>127.39</td>\n",
              "      <td>127.48</td>\n",
              "      <td>127.48</td>\n",
              "      <td>886800</td>\n",
              "    </tr>\n",
              "    <tr>\n",
              "      <th>993</th>\n",
              "      <td>2020-10-20</td>\n",
              "      <td>127.51</td>\n",
              "      <td>131.08</td>\n",
              "      <td>127.51</td>\n",
              "      <td>128.99</td>\n",
              "      <td>128.99</td>\n",
              "      <td>884400</td>\n",
              "    </tr>\n",
              "    <tr>\n",
              "      <th>994</th>\n",
              "      <td>2020-10-21</td>\n",
              "      <td>130.47</td>\n",
              "      <td>134.00</td>\n",
              "      <td>128.00</td>\n",
              "      <td>132.37</td>\n",
              "      <td>132.37</td>\n",
              "      <td>1063154</td>\n",
              "    </tr>\n",
              "  </tbody>\n",
              "</table>\n",
              "<p>995 rows × 7 columns</p>\n",
              "</div>"
            ],
            "text/plain": [
              "           Date    Open    High     Low   Close  Adj Close   Volume\n",
              "0    2016-11-08   65.44   65.57   64.19   65.38      60.62   666500\n",
              "1    2016-11-09   65.21   67.14   64.69   66.93      62.06  1034000\n",
              "2    2016-11-10   67.49   68.29   66.89   67.10      62.22  1211200\n",
              "3    2016-11-11   66.98   67.32   65.87   66.44      61.60   889400\n",
              "4    2016-11-14   66.62   66.66   64.57   64.73      60.02  1413300\n",
              "..          ...     ...     ...     ...     ...        ...      ...\n",
              "990  2020-10-15  126.50  128.44  126.15  128.41     128.41   410100\n",
              "991  2020-10-16  128.66  129.90  127.88  128.87     128.87   727500\n",
              "992  2020-10-19  129.71  130.10  127.39  127.48     127.48   886800\n",
              "993  2020-10-20  127.51  131.08  127.51  128.99     128.99   884400\n",
              "994  2020-10-21  130.47  134.00  128.00  132.37     132.37  1063154\n",
              "\n",
              "[995 rows x 7 columns]"
            ]
          },
          "metadata": {
            "tags": []
          },
          "execution_count": 29
        }
      ]
    },
    {
      "cell_type": "markdown",
      "metadata": {
        "id": "vzfrhHmb7ryD"
      },
      "source": [
        "There is not much cleaning that needs to take place for the stock market data. "
      ]
    },
    {
      "cell_type": "markdown",
      "metadata": {
        "id": "WFkR_EIg4ybD"
      },
      "source": [
        "## Exploratory Analysis"
      ]
    },
    {
      "cell_type": "code",
      "metadata": {
        "id": "7srqg1wHELSK"
      },
      "source": [
        "import seaborn as sns \n",
        "import matplotlib.pyplot as plt\n",
        "%matplotlib inline \n",
        "sns.set(color_codes=True)"
      ],
      "execution_count": 30,
      "outputs": []
    },
    {
      "cell_type": "markdown",
      "metadata": {
        "id": "VBXfvoAC-pPX"
      },
      "source": [
        "### Null Values"
      ]
    },
    {
      "cell_type": "markdown",
      "metadata": {
        "id": "FMKq5BbF4tfL"
      },
      "source": [
        "Now that the data is cleaned up, lets preform some exploritory anlaysis for the 2 data sets."
      ]
    },
    {
      "cell_type": "code",
      "metadata": {
        "id": "qPo1JhPUwCSy",
        "outputId": "dbf8d4c3-e7f1-4259-855f-696e17478eb7",
        "colab": {
          "base_uri": "https://localhost:8080/",
          "height": 153
        }
      },
      "source": [
        "trump_tweets.isnull().sum()"
      ],
      "execution_count": 31,
      "outputs": [
        {
          "output_type": "execute_result",
          "data": {
            "text/plain": [
              "id               0\n",
              "link             0\n",
              "content          0\n",
              "retweets         0\n",
              "favorites        0\n",
              "Time         41122\n",
              "Date             0\n",
              "dtype: int64"
            ]
          },
          "metadata": {
            "tags": []
          },
          "execution_count": 31
        }
      ]
    },
    {
      "cell_type": "code",
      "metadata": {
        "id": "IAqG4QYK-a_m",
        "outputId": "15f328c1-357e-423e-d826-2580ea5d7ddf",
        "colab": {
          "base_uri": "https://localhost:8080/",
          "height": 153
        }
      },
      "source": [
        "stock_data.isnull().sum()"
      ],
      "execution_count": 32,
      "outputs": [
        {
          "output_type": "execute_result",
          "data": {
            "text/plain": [
              "Date         0\n",
              "Open         0\n",
              "High         0\n",
              "Low          0\n",
              "Close        0\n",
              "Adj Close    0\n",
              "Volume       0\n",
              "dtype: int64"
            ]
          },
          "metadata": {
            "tags": []
          },
          "execution_count": 32
        }
      ]
    },
    {
      "cell_type": "markdown",
      "metadata": {
        "id": "W3tSzNqb-f__"
      },
      "source": [
        "There are no missing values for either of the data sets. "
      ]
    }
  ]
}