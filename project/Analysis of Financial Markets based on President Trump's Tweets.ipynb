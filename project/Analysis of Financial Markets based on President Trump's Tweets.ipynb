{
  "nbformat": 4,
  "nbformat_minor": 0,
  "metadata": {
    "colab": {
      "name": "Analysis of Financial Markets based on President Trump's Tweets.ipynb",
      "provenance": [],
      "toc_visible": true
    },
    "kernelspec": {
      "name": "python3",
      "display_name": "Python 3"
    }
  },
  "cells": [
    {
      "cell_type": "markdown",
      "metadata": {
        "id": "ROMGhF7rMA5A"
      },
      "source": [
        "# Analysis of Financial Markets based on President Trump's Tweets"
      ]
    },
    {
      "cell_type": "markdown",
      "metadata": {
        "id": "bXn_tV83MWDf"
      },
      "source": [
        "## Data Preprocessing"
      ]
    },
    {
      "cell_type": "markdown",
      "metadata": {
        "id": "mgzRCu-FGqFT"
      },
      "source": [
        "### Importing Data"
      ]
    },
    {
      "cell_type": "code",
      "metadata": {
        "id": "_M2pnc_dMo_0"
      },
      "source": [
        "!pip install -q kaggle"
      ],
      "execution_count": 1,
      "outputs": []
    },
    {
      "cell_type": "code",
      "metadata": {
        "id": "dWSxK2PmDlih"
      },
      "source": [
        "# Upload kaggle.json file containing your API key\n",
        "from google.colab import files\n",
        "files.upload()"
      ],
      "execution_count": null,
      "outputs": []
    },
    {
      "cell_type": "code",
      "metadata": {
        "id": "IE8U9jcbDlYb"
      },
      "source": [
        "!mkdir ~/.kaggle "
      ],
      "execution_count": 3,
      "outputs": []
    },
    {
      "cell_type": "code",
      "metadata": {
        "id": "8DGSg0MqDlPZ"
      },
      "source": [
        "!cp kaggle.json ~/.kaggle/"
      ],
      "execution_count": 4,
      "outputs": []
    },
    {
      "cell_type": "code",
      "metadata": {
        "id": "Nllv8f7wDlIT"
      },
      "source": [
        "! chmod 600 ~/.kaggle/kaggle.json"
      ],
      "execution_count": 5,
      "outputs": []
    },
    {
      "cell_type": "code",
      "metadata": {
        "id": "IdfNuhLlDk3C"
      },
      "source": [
        "# Check to see if the API is working correctly \n",
        "# ! kaggle datasets list"
      ],
      "execution_count": null,
      "outputs": []
    },
    {
      "cell_type": "code",
      "metadata": {
        "id": "CHuIyg52E-TW",
        "outputId": "3f2c9749-58ac-4266-c8a1-cf9c63196dc7",
        "colab": {
          "base_uri": "https://localhost:8080/"
        }
      },
      "source": [
        "! kaggle datasets download -d austinreese/trump-tweets"
      ],
      "execution_count": 6,
      "outputs": [
        {
          "output_type": "stream",
          "text": [
            "Downloading trump-tweets.zip to /content\n",
            " 73% 5.00M/6.88M [00:00<00:00, 15.3MB/s]\n",
            "100% 6.88M/6.88M [00:00<00:00, 19.8MB/s]\n"
          ],
          "name": "stdout"
        }
      ]
    },
    {
      "cell_type": "code",
      "metadata": {
        "id": "zKHNkzvcnu9T"
      },
      "source": [
        "! pip install yfinance"
      ],
      "execution_count": null,
      "outputs": []
    },
    {
      "cell_type": "markdown",
      "metadata": {
        "id": "uNfK8sCXGw55"
      },
      "source": [
        "### Data Cleaning"
      ]
    },
    {
      "cell_type": "code",
      "metadata": {
        "id": "d8v2ZLENL8D9"
      },
      "source": [
        "import pandas as pd\n",
        "import numpy as np\n",
        "from zipfile import ZipFile\n",
        "import re"
      ],
      "execution_count": 8,
      "outputs": []
    },
    {
      "cell_type": "markdown",
      "metadata": {
        "id": "VRDswxwgsXg2"
      },
      "source": [
        "#### Twitter Data"
      ]
    },
    {
      "cell_type": "code",
      "metadata": {
        "id": "Pxr9sendFwme",
        "outputId": "f7994c20-652c-4cc7-8988-753b7c7690c7",
        "colab": {
          "base_uri": "https://localhost:8080/",
          "height": 198
        }
      },
      "source": [
        "data = ZipFile(\"/content/trump-tweets.zip\")\n",
        "trump_tweets = pd.read_csv(data.open('trumptweets.csv'))\n",
        "trump_tweets.head()"
      ],
      "execution_count": 9,
      "outputs": [
        {
          "output_type": "execute_result",
          "data": {
            "text/html": [
              "<div>\n",
              "<style scoped>\n",
              "    .dataframe tbody tr th:only-of-type {\n",
              "        vertical-align: middle;\n",
              "    }\n",
              "\n",
              "    .dataframe tbody tr th {\n",
              "        vertical-align: top;\n",
              "    }\n",
              "\n",
              "    .dataframe thead th {\n",
              "        text-align: right;\n",
              "    }\n",
              "</style>\n",
              "<table border=\"1\" class=\"dataframe\">\n",
              "  <thead>\n",
              "    <tr style=\"text-align: right;\">\n",
              "      <th></th>\n",
              "      <th>id</th>\n",
              "      <th>link</th>\n",
              "      <th>content</th>\n",
              "      <th>date</th>\n",
              "      <th>retweets</th>\n",
              "      <th>favorites</th>\n",
              "      <th>mentions</th>\n",
              "      <th>hashtags</th>\n",
              "      <th>geo</th>\n",
              "    </tr>\n",
              "  </thead>\n",
              "  <tbody>\n",
              "    <tr>\n",
              "      <th>0</th>\n",
              "      <td>1698308935</td>\n",
              "      <td>https://twitter.com/realDonaldTrump/status/169...</td>\n",
              "      <td>Be sure to tune in and watch Donald Trump on L...</td>\n",
              "      <td>2009-05-04 20:54:25</td>\n",
              "      <td>500</td>\n",
              "      <td>868</td>\n",
              "      <td>NaN</td>\n",
              "      <td>NaN</td>\n",
              "      <td>NaN</td>\n",
              "    </tr>\n",
              "    <tr>\n",
              "      <th>1</th>\n",
              "      <td>1701461182</td>\n",
              "      <td>https://twitter.com/realDonaldTrump/status/170...</td>\n",
              "      <td>Donald Trump will be appearing on The View tom...</td>\n",
              "      <td>2009-05-05 03:00:10</td>\n",
              "      <td>33</td>\n",
              "      <td>273</td>\n",
              "      <td>NaN</td>\n",
              "      <td>NaN</td>\n",
              "      <td>NaN</td>\n",
              "    </tr>\n",
              "    <tr>\n",
              "      <th>2</th>\n",
              "      <td>1737479987</td>\n",
              "      <td>https://twitter.com/realDonaldTrump/status/173...</td>\n",
              "      <td>Donald Trump reads Top Ten Financial Tips on L...</td>\n",
              "      <td>2009-05-08 15:38:08</td>\n",
              "      <td>12</td>\n",
              "      <td>18</td>\n",
              "      <td>NaN</td>\n",
              "      <td>NaN</td>\n",
              "      <td>NaN</td>\n",
              "    </tr>\n",
              "    <tr>\n",
              "      <th>3</th>\n",
              "      <td>1741160716</td>\n",
              "      <td>https://twitter.com/realDonaldTrump/status/174...</td>\n",
              "      <td>New Blog Post: Celebrity Apprentice Finale and...</td>\n",
              "      <td>2009-05-08 22:40:15</td>\n",
              "      <td>11</td>\n",
              "      <td>24</td>\n",
              "      <td>NaN</td>\n",
              "      <td>NaN</td>\n",
              "      <td>NaN</td>\n",
              "    </tr>\n",
              "    <tr>\n",
              "      <th>4</th>\n",
              "      <td>1773561338</td>\n",
              "      <td>https://twitter.com/realDonaldTrump/status/177...</td>\n",
              "      <td>\"My persona will never be that of a wallflower...</td>\n",
              "      <td>2009-05-12 16:07:28</td>\n",
              "      <td>1399</td>\n",
              "      <td>1965</td>\n",
              "      <td>NaN</td>\n",
              "      <td>NaN</td>\n",
              "      <td>NaN</td>\n",
              "    </tr>\n",
              "  </tbody>\n",
              "</table>\n",
              "</div>"
            ],
            "text/plain": [
              "           id                                               link  ... hashtags geo\n",
              "0  1698308935  https://twitter.com/realDonaldTrump/status/169...  ...      NaN NaN\n",
              "1  1701461182  https://twitter.com/realDonaldTrump/status/170...  ...      NaN NaN\n",
              "2  1737479987  https://twitter.com/realDonaldTrump/status/173...  ...      NaN NaN\n",
              "3  1741160716  https://twitter.com/realDonaldTrump/status/174...  ...      NaN NaN\n",
              "4  1773561338  https://twitter.com/realDonaldTrump/status/177...  ...      NaN NaN\n",
              "\n",
              "[5 rows x 9 columns]"
            ]
          },
          "metadata": {
            "tags": []
          },
          "execution_count": 9
        }
      ]
    },
    {
      "cell_type": "code",
      "metadata": {
        "id": "igqeNfvgJS6-",
        "outputId": "cc59fe5c-f6ae-49ee-917c-50e90fdef109",
        "colab": {
          "base_uri": "https://localhost:8080/"
        }
      },
      "source": [
        "trump_tweets.shape"
      ],
      "execution_count": 10,
      "outputs": [
        {
          "output_type": "execute_result",
          "data": {
            "text/plain": [
              "(41122, 9)"
            ]
          },
          "metadata": {
            "tags": []
          },
          "execution_count": 10
        }
      ]
    },
    {
      "cell_type": "markdown",
      "metadata": {
        "id": "OMHFArhhJuuv"
      },
      "source": [
        "The dataframe shows that there are 41,122 rows and 9 columns. Three of these columns mention, hashtags, and geo are currenly showing NaN for the first five rows. "
      ]
    },
    {
      "cell_type": "code",
      "metadata": {
        "id": "k3gmWYbBKWIe",
        "outputId": "fe675e0f-829a-44d7-9d1c-0df00124569e",
        "colab": {
          "base_uri": "https://localhost:8080/",
          "height": 288
        }
      },
      "source": [
        "trump_tweets.describe()"
      ],
      "execution_count": 11,
      "outputs": [
        {
          "output_type": "execute_result",
          "data": {
            "text/html": [
              "<div>\n",
              "<style scoped>\n",
              "    .dataframe tbody tr th:only-of-type {\n",
              "        vertical-align: middle;\n",
              "    }\n",
              "\n",
              "    .dataframe tbody tr th {\n",
              "        vertical-align: top;\n",
              "    }\n",
              "\n",
              "    .dataframe thead th {\n",
              "        text-align: right;\n",
              "    }\n",
              "</style>\n",
              "<table border=\"1\" class=\"dataframe\">\n",
              "  <thead>\n",
              "    <tr style=\"text-align: right;\">\n",
              "      <th></th>\n",
              "      <th>id</th>\n",
              "      <th>retweets</th>\n",
              "      <th>favorites</th>\n",
              "      <th>geo</th>\n",
              "    </tr>\n",
              "  </thead>\n",
              "  <tbody>\n",
              "    <tr>\n",
              "      <th>count</th>\n",
              "      <td>4.112200e+04</td>\n",
              "      <td>41122.000000</td>\n",
              "      <td>41122.000000</td>\n",
              "      <td>0.0</td>\n",
              "    </tr>\n",
              "    <tr>\n",
              "      <th>mean</th>\n",
              "      <td>6.088909e+17</td>\n",
              "      <td>5455.590657</td>\n",
              "      <td>22356.899105</td>\n",
              "      <td>NaN</td>\n",
              "    </tr>\n",
              "    <tr>\n",
              "      <th>std</th>\n",
              "      <td>3.027946e+17</td>\n",
              "      <td>10130.076661</td>\n",
              "      <td>41501.859711</td>\n",
              "      <td>NaN</td>\n",
              "    </tr>\n",
              "    <tr>\n",
              "      <th>min</th>\n",
              "      <td>1.698309e+09</td>\n",
              "      <td>0.000000</td>\n",
              "      <td>0.000000</td>\n",
              "      <td>NaN</td>\n",
              "    </tr>\n",
              "    <tr>\n",
              "      <th>25%</th>\n",
              "      <td>3.549428e+17</td>\n",
              "      <td>25.000000</td>\n",
              "      <td>28.000000</td>\n",
              "      <td>NaN</td>\n",
              "    </tr>\n",
              "    <tr>\n",
              "      <th>50%</th>\n",
              "      <td>5.609149e+17</td>\n",
              "      <td>291.000000</td>\n",
              "      <td>247.000000</td>\n",
              "      <td>NaN</td>\n",
              "    </tr>\n",
              "    <tr>\n",
              "      <th>75%</th>\n",
              "      <td>7.941218e+17</td>\n",
              "      <td>8778.000000</td>\n",
              "      <td>32970.750000</td>\n",
              "      <td>NaN</td>\n",
              "    </tr>\n",
              "    <tr>\n",
              "      <th>max</th>\n",
              "      <td>1.219077e+18</td>\n",
              "      <td>309892.000000</td>\n",
              "      <td>857678.000000</td>\n",
              "      <td>NaN</td>\n",
              "    </tr>\n",
              "  </tbody>\n",
              "</table>\n",
              "</div>"
            ],
            "text/plain": [
              "                 id       retweets      favorites  geo\n",
              "count  4.112200e+04   41122.000000   41122.000000  0.0\n",
              "mean   6.088909e+17    5455.590657   22356.899105  NaN\n",
              "std    3.027946e+17   10130.076661   41501.859711  NaN\n",
              "min    1.698309e+09       0.000000       0.000000  NaN\n",
              "25%    3.549428e+17      25.000000      28.000000  NaN\n",
              "50%    5.609149e+17     291.000000     247.000000  NaN\n",
              "75%    7.941218e+17    8778.000000   32970.750000  NaN\n",
              "max    1.219077e+18  309892.000000  857678.000000  NaN"
            ]
          },
          "metadata": {
            "tags": []
          },
          "execution_count": 11
        }
      ]
    },
    {
      "cell_type": "code",
      "metadata": {
        "id": "HGVik1eoL_oM",
        "outputId": "1c1c13f3-d5fb-4ab6-86f9-c9afe575f832",
        "colab": {
          "base_uri": "https://localhost:8080/",
          "height": 407
        }
      },
      "source": [
        "#Remove NaN and non-important columns\n",
        "trump_tweets = trump_tweets.drop(labels=['mentions', 'hashtags', 'geo', 'link'], axis='columns')\n",
        "trump_tweets"
      ],
      "execution_count": 12,
      "outputs": [
        {
          "output_type": "execute_result",
          "data": {
            "text/html": [
              "<div>\n",
              "<style scoped>\n",
              "    .dataframe tbody tr th:only-of-type {\n",
              "        vertical-align: middle;\n",
              "    }\n",
              "\n",
              "    .dataframe tbody tr th {\n",
              "        vertical-align: top;\n",
              "    }\n",
              "\n",
              "    .dataframe thead th {\n",
              "        text-align: right;\n",
              "    }\n",
              "</style>\n",
              "<table border=\"1\" class=\"dataframe\">\n",
              "  <thead>\n",
              "    <tr style=\"text-align: right;\">\n",
              "      <th></th>\n",
              "      <th>id</th>\n",
              "      <th>content</th>\n",
              "      <th>date</th>\n",
              "      <th>retweets</th>\n",
              "      <th>favorites</th>\n",
              "    </tr>\n",
              "  </thead>\n",
              "  <tbody>\n",
              "    <tr>\n",
              "      <th>0</th>\n",
              "      <td>1698308935</td>\n",
              "      <td>Be sure to tune in and watch Donald Trump on L...</td>\n",
              "      <td>2009-05-04 20:54:25</td>\n",
              "      <td>500</td>\n",
              "      <td>868</td>\n",
              "    </tr>\n",
              "    <tr>\n",
              "      <th>1</th>\n",
              "      <td>1701461182</td>\n",
              "      <td>Donald Trump will be appearing on The View tom...</td>\n",
              "      <td>2009-05-05 03:00:10</td>\n",
              "      <td>33</td>\n",
              "      <td>273</td>\n",
              "    </tr>\n",
              "    <tr>\n",
              "      <th>2</th>\n",
              "      <td>1737479987</td>\n",
              "      <td>Donald Trump reads Top Ten Financial Tips on L...</td>\n",
              "      <td>2009-05-08 15:38:08</td>\n",
              "      <td>12</td>\n",
              "      <td>18</td>\n",
              "    </tr>\n",
              "    <tr>\n",
              "      <th>3</th>\n",
              "      <td>1741160716</td>\n",
              "      <td>New Blog Post: Celebrity Apprentice Finale and...</td>\n",
              "      <td>2009-05-08 22:40:15</td>\n",
              "      <td>11</td>\n",
              "      <td>24</td>\n",
              "    </tr>\n",
              "    <tr>\n",
              "      <th>4</th>\n",
              "      <td>1773561338</td>\n",
              "      <td>\"My persona will never be that of a wallflower...</td>\n",
              "      <td>2009-05-12 16:07:28</td>\n",
              "      <td>1399</td>\n",
              "      <td>1965</td>\n",
              "    </tr>\n",
              "    <tr>\n",
              "      <th>...</th>\n",
              "      <td>...</td>\n",
              "      <td>...</td>\n",
              "      <td>...</td>\n",
              "      <td>...</td>\n",
              "      <td>...</td>\n",
              "    </tr>\n",
              "    <tr>\n",
              "      <th>41117</th>\n",
              "      <td>1218962544372670467</td>\n",
              "      <td>I have never seen the Republican Party as Stro...</td>\n",
              "      <td>2020-01-19 19:24:52</td>\n",
              "      <td>32620</td>\n",
              "      <td>213817</td>\n",
              "    </tr>\n",
              "    <tr>\n",
              "      <th>41118</th>\n",
              "      <td>1219004689716412416</td>\n",
              "      <td>Now Mini Mike Bloomberg is critical of Jack Wi...</td>\n",
              "      <td>2020-01-19 22:12:20</td>\n",
              "      <td>36239</td>\n",
              "      <td>149571</td>\n",
              "    </tr>\n",
              "    <tr>\n",
              "      <th>41119</th>\n",
              "      <td>1219053709428248576</td>\n",
              "      <td>I was thrilled to be back in the Great State o...</td>\n",
              "      <td>2020-01-20 01:27:07</td>\n",
              "      <td>16588</td>\n",
              "      <td>66944</td>\n",
              "    </tr>\n",
              "    <tr>\n",
              "      <th>41120</th>\n",
              "      <td>1219066007731310593</td>\n",
              "      <td>“In the House, the President got less due proc...</td>\n",
              "      <td>2020-01-20 02:16:00</td>\n",
              "      <td>20599</td>\n",
              "      <td>81921</td>\n",
              "    </tr>\n",
              "    <tr>\n",
              "      <th>41121</th>\n",
              "      <td>1219076533354037249</td>\n",
              "      <td>A great show! Check it out tonight at 9pm. @ F...</td>\n",
              "      <td>2020-01-20 02:57:49</td>\n",
              "      <td>7947</td>\n",
              "      <td>34902</td>\n",
              "    </tr>\n",
              "  </tbody>\n",
              "</table>\n",
              "<p>41122 rows × 5 columns</p>\n",
              "</div>"
            ],
            "text/plain": [
              "                        id  ... favorites\n",
              "0               1698308935  ...       868\n",
              "1               1701461182  ...       273\n",
              "2               1737479987  ...        18\n",
              "3               1741160716  ...        24\n",
              "4               1773561338  ...      1965\n",
              "...                    ...  ...       ...\n",
              "41117  1218962544372670467  ...    213817\n",
              "41118  1219004689716412416  ...    149571\n",
              "41119  1219053709428248576  ...     66944\n",
              "41120  1219066007731310593  ...     81921\n",
              "41121  1219076533354037249  ...     34902\n",
              "\n",
              "[41122 rows x 5 columns]"
            ]
          },
          "metadata": {
            "tags": []
          },
          "execution_count": 12
        }
      ]
    },
    {
      "cell_type": "code",
      "metadata": {
        "id": "HB5eAktbO3Jk",
        "outputId": "810a36e9-72ac-4f38-cbad-73a9da33fb8a",
        "colab": {
          "base_uri": "https://localhost:8080/"
        }
      },
      "source": [
        "trump_tweets.dtypes"
      ],
      "execution_count": 13,
      "outputs": [
        {
          "output_type": "execute_result",
          "data": {
            "text/plain": [
              "id            int64\n",
              "content      object\n",
              "date         object\n",
              "retweets      int64\n",
              "favorites     int64\n",
              "dtype: object"
            ]
          },
          "metadata": {
            "tags": []
          },
          "execution_count": 13
        }
      ]
    },
    {
      "cell_type": "code",
      "metadata": {
        "id": "-kxy8gPaP8H0"
      },
      "source": [
        "# The date column is an object when it should be datetime\n",
        "trump_tweets['date'] = pd.to_datetime(trump_tweets['date'], format='%Y%m%d %H:%M:%S')"
      ],
      "execution_count": 14,
      "outputs": []
    },
    {
      "cell_type": "code",
      "metadata": {
        "id": "qdCweL3JMtsw"
      },
      "source": [
        "# Split the date column into 2 seperate columns\n",
        "trump_tweets['Time'],trump_tweets['Date']= trump_tweets['date'].apply(lambda x:x.time()), trump_tweets['date'].apply(lambda x:x.date())\n",
        "trump_tweets = trump_tweets.drop(labels='date',axis='columns')"
      ],
      "execution_count": 15,
      "outputs": []
    },
    {
      "cell_type": "code",
      "metadata": {
        "id": "mRjtuYLTRxWr",
        "outputId": "022f80a3-3131-42f8-c9e2-bc42ced5e35e",
        "colab": {
          "base_uri": "https://localhost:8080/",
          "height": 198
        }
      },
      "source": [
        "trump_tweets.head()"
      ],
      "execution_count": 16,
      "outputs": [
        {
          "output_type": "execute_result",
          "data": {
            "text/html": [
              "<div>\n",
              "<style scoped>\n",
              "    .dataframe tbody tr th:only-of-type {\n",
              "        vertical-align: middle;\n",
              "    }\n",
              "\n",
              "    .dataframe tbody tr th {\n",
              "        vertical-align: top;\n",
              "    }\n",
              "\n",
              "    .dataframe thead th {\n",
              "        text-align: right;\n",
              "    }\n",
              "</style>\n",
              "<table border=\"1\" class=\"dataframe\">\n",
              "  <thead>\n",
              "    <tr style=\"text-align: right;\">\n",
              "      <th></th>\n",
              "      <th>id</th>\n",
              "      <th>content</th>\n",
              "      <th>retweets</th>\n",
              "      <th>favorites</th>\n",
              "      <th>Time</th>\n",
              "      <th>Date</th>\n",
              "    </tr>\n",
              "  </thead>\n",
              "  <tbody>\n",
              "    <tr>\n",
              "      <th>0</th>\n",
              "      <td>1698308935</td>\n",
              "      <td>Be sure to tune in and watch Donald Trump on L...</td>\n",
              "      <td>500</td>\n",
              "      <td>868</td>\n",
              "      <td>20:54:25</td>\n",
              "      <td>2009-05-04</td>\n",
              "    </tr>\n",
              "    <tr>\n",
              "      <th>1</th>\n",
              "      <td>1701461182</td>\n",
              "      <td>Donald Trump will be appearing on The View tom...</td>\n",
              "      <td>33</td>\n",
              "      <td>273</td>\n",
              "      <td>03:00:10</td>\n",
              "      <td>2009-05-05</td>\n",
              "    </tr>\n",
              "    <tr>\n",
              "      <th>2</th>\n",
              "      <td>1737479987</td>\n",
              "      <td>Donald Trump reads Top Ten Financial Tips on L...</td>\n",
              "      <td>12</td>\n",
              "      <td>18</td>\n",
              "      <td>15:38:08</td>\n",
              "      <td>2009-05-08</td>\n",
              "    </tr>\n",
              "    <tr>\n",
              "      <th>3</th>\n",
              "      <td>1741160716</td>\n",
              "      <td>New Blog Post: Celebrity Apprentice Finale and...</td>\n",
              "      <td>11</td>\n",
              "      <td>24</td>\n",
              "      <td>22:40:15</td>\n",
              "      <td>2009-05-08</td>\n",
              "    </tr>\n",
              "    <tr>\n",
              "      <th>4</th>\n",
              "      <td>1773561338</td>\n",
              "      <td>\"My persona will never be that of a wallflower...</td>\n",
              "      <td>1399</td>\n",
              "      <td>1965</td>\n",
              "      <td>16:07:28</td>\n",
              "      <td>2009-05-12</td>\n",
              "    </tr>\n",
              "  </tbody>\n",
              "</table>\n",
              "</div>"
            ],
            "text/plain": [
              "           id  ...        Date\n",
              "0  1698308935  ...  2009-05-04\n",
              "1  1701461182  ...  2009-05-05\n",
              "2  1737479987  ...  2009-05-08\n",
              "3  1741160716  ...  2009-05-08\n",
              "4  1773561338  ...  2009-05-12\n",
              "\n",
              "[5 rows x 6 columns]"
            ]
          },
          "metadata": {
            "tags": []
          },
          "execution_count": 16
        }
      ]
    },
    {
      "cell_type": "code",
      "metadata": {
        "id": "TrmgNCVxqQmT",
        "outputId": "b1e046f2-aa7f-4c0a-ae86-239a8d6f5351",
        "colab": {
          "base_uri": "https://localhost:8080/"
        }
      },
      "source": [
        "trump_tweets['content']"
      ],
      "execution_count": 17,
      "outputs": [
        {
          "output_type": "execute_result",
          "data": {
            "text/plain": [
              "0        Be sure to tune in and watch Donald Trump on L...\n",
              "1        Donald Trump will be appearing on The View tom...\n",
              "2        Donald Trump reads Top Ten Financial Tips on L...\n",
              "3        New Blog Post: Celebrity Apprentice Finale and...\n",
              "4        \"My persona will never be that of a wallflower...\n",
              "                               ...                        \n",
              "41117    I have never seen the Republican Party as Stro...\n",
              "41118    Now Mini Mike Bloomberg is critical of Jack Wi...\n",
              "41119    I was thrilled to be back in the Great State o...\n",
              "41120    “In the House, the President got less due proc...\n",
              "41121    A great show! Check it out tonight at 9pm. @ F...\n",
              "Name: content, Length: 41122, dtype: object"
            ]
          },
          "metadata": {
            "tags": []
          },
          "execution_count": 17
        }
      ]
    },
    {
      "cell_type": "code",
      "metadata": {
        "id": "FFCM_Tlisn_1",
        "outputId": "e8c3c061-b961-432a-a93e-e069596df940",
        "colab": {
          "base_uri": "https://localhost:8080/"
        }
      },
      "source": [
        "# Remove punctuation from content column\n",
        "trump_tweets['content'] = trump_tweets['content'].str.replace('[^\\w\\s]','')\n",
        "trump_tweets['content'] "
      ],
      "execution_count": 18,
      "outputs": [
        {
          "output_type": "execute_result",
          "data": {
            "text/plain": [
              "0        Be sure to tune in and watch Donald Trump on L...\n",
              "1        Donald Trump will be appearing on The View tom...\n",
              "2        Donald Trump reads Top Ten Financial Tips on L...\n",
              "3        New Blog Post Celebrity Apprentice Finale and ...\n",
              "4        My persona will never be that of a wallflower ...\n",
              "                               ...                        \n",
              "41117    I have never seen the Republican Party as Stro...\n",
              "41118    Now Mini Mike Bloomberg is critical of Jack Wi...\n",
              "41119    I was thrilled to be back in the Great State o...\n",
              "41120    In the House the President got less due proces...\n",
              "41121    A great show Check it out tonight at 9pm  FoxN...\n",
              "Name: content, Length: 41122, dtype: object"
            ]
          },
          "metadata": {
            "tags": []
          },
          "execution_count": 18
        }
      ]
    },
    {
      "cell_type": "code",
      "metadata": {
        "id": "07NGoqWztowv",
        "outputId": "04aa18c9-afbe-4302-c988-9942d9739eb3",
        "colab": {
          "base_uri": "https://localhost:8080/"
        }
      },
      "source": [
        "# More Cleaning\n",
        "def cleanTxt(text):\n",
        " text = re.sub('@[A-Za-z0–9]+', '', text) #Removing @mentions\n",
        " text = re.sub('#', '', text) # Removing '#' hash tag\n",
        " text = re.sub('RT[\\s]+', '', text) # Removing RT\n",
        " text = re.sub('https?:\\/\\/\\S+', '', text) # Removing hyperlink\n",
        " \n",
        " return text\n",
        "\n",
        "# Clean the tweets\n",
        "trump_tweets['content'] = trump_tweets['content'].apply(cleanTxt)\n",
        "\n",
        "# Show the cleaned tweets\n",
        "trump_tweets['content']"
      ],
      "execution_count": 19,
      "outputs": [
        {
          "output_type": "execute_result",
          "data": {
            "text/plain": [
              "0        Be sure to tune in and watch Donald Trump on L...\n",
              "1        Donald Trump will be appearing on The View tom...\n",
              "2        Donald Trump reads Top Ten Financial Tips on L...\n",
              "3        New Blog Post Celebrity Apprentice Finale and ...\n",
              "4        My persona will never be that of a wallflower ...\n",
              "                               ...                        \n",
              "41117    I have never seen the Republican Party as Stro...\n",
              "41118    Now Mini Mike Bloomberg is critical of Jack Wi...\n",
              "41119    I was thrilled to be back in the Great State o...\n",
              "41120    In the House the President got less due proces...\n",
              "41121    A great show Check it out tonight at 9pm  FoxN...\n",
              "Name: content, Length: 41122, dtype: object"
            ]
          },
          "metadata": {
            "tags": []
          },
          "execution_count": 19
        }
      ]
    },
    {
      "cell_type": "code",
      "metadata": {
        "id": "ft8p4G2ltELF",
        "outputId": "ed4a0bce-afb1-4cdc-9f59-6f80a3403abd",
        "colab": {
          "base_uri": "https://localhost:8080/",
          "height": 198
        }
      },
      "source": [
        "trump_tweets.head()"
      ],
      "execution_count": 20,
      "outputs": [
        {
          "output_type": "execute_result",
          "data": {
            "text/html": [
              "<div>\n",
              "<style scoped>\n",
              "    .dataframe tbody tr th:only-of-type {\n",
              "        vertical-align: middle;\n",
              "    }\n",
              "\n",
              "    .dataframe tbody tr th {\n",
              "        vertical-align: top;\n",
              "    }\n",
              "\n",
              "    .dataframe thead th {\n",
              "        text-align: right;\n",
              "    }\n",
              "</style>\n",
              "<table border=\"1\" class=\"dataframe\">\n",
              "  <thead>\n",
              "    <tr style=\"text-align: right;\">\n",
              "      <th></th>\n",
              "      <th>id</th>\n",
              "      <th>content</th>\n",
              "      <th>retweets</th>\n",
              "      <th>favorites</th>\n",
              "      <th>Time</th>\n",
              "      <th>Date</th>\n",
              "    </tr>\n",
              "  </thead>\n",
              "  <tbody>\n",
              "    <tr>\n",
              "      <th>0</th>\n",
              "      <td>1698308935</td>\n",
              "      <td>Be sure to tune in and watch Donald Trump on L...</td>\n",
              "      <td>500</td>\n",
              "      <td>868</td>\n",
              "      <td>20:54:25</td>\n",
              "      <td>2009-05-04</td>\n",
              "    </tr>\n",
              "    <tr>\n",
              "      <th>1</th>\n",
              "      <td>1701461182</td>\n",
              "      <td>Donald Trump will be appearing on The View tom...</td>\n",
              "      <td>33</td>\n",
              "      <td>273</td>\n",
              "      <td>03:00:10</td>\n",
              "      <td>2009-05-05</td>\n",
              "    </tr>\n",
              "    <tr>\n",
              "      <th>2</th>\n",
              "      <td>1737479987</td>\n",
              "      <td>Donald Trump reads Top Ten Financial Tips on L...</td>\n",
              "      <td>12</td>\n",
              "      <td>18</td>\n",
              "      <td>15:38:08</td>\n",
              "      <td>2009-05-08</td>\n",
              "    </tr>\n",
              "    <tr>\n",
              "      <th>3</th>\n",
              "      <td>1741160716</td>\n",
              "      <td>New Blog Post Celebrity Apprentice Finale and ...</td>\n",
              "      <td>11</td>\n",
              "      <td>24</td>\n",
              "      <td>22:40:15</td>\n",
              "      <td>2009-05-08</td>\n",
              "    </tr>\n",
              "    <tr>\n",
              "      <th>4</th>\n",
              "      <td>1773561338</td>\n",
              "      <td>My persona will never be that of a wallflower ...</td>\n",
              "      <td>1399</td>\n",
              "      <td>1965</td>\n",
              "      <td>16:07:28</td>\n",
              "      <td>2009-05-12</td>\n",
              "    </tr>\n",
              "  </tbody>\n",
              "</table>\n",
              "</div>"
            ],
            "text/plain": [
              "           id  ...        Date\n",
              "0  1698308935  ...  2009-05-04\n",
              "1  1701461182  ...  2009-05-05\n",
              "2  1737479987  ...  2009-05-08\n",
              "3  1741160716  ...  2009-05-08\n",
              "4  1773561338  ...  2009-05-12\n",
              "\n",
              "[5 rows x 6 columns]"
            ]
          },
          "metadata": {
            "tags": []
          },
          "execution_count": 20
        }
      ]
    },
    {
      "cell_type": "markdown",
      "metadata": {
        "id": "njqokwBae5YJ"
      },
      "source": [
        "Slice out the rows that are not needed. "
      ]
    },
    {
      "cell_type": "code",
      "metadata": {
        "id": "wbtY5FyFeFaP",
        "outputId": "e27466c9-8863-4666-af30-c3e2b975b03a",
        "colab": {
          "base_uri": "https://localhost:8080/",
          "height": 407
        }
      },
      "source": [
        "tweets = trump_tweets[trump_tweets['Date'] >= pd.to_datetime('2016-11-08')]\n",
        "tweets"
      ],
      "execution_count": 21,
      "outputs": [
        {
          "output_type": "execute_result",
          "data": {
            "text/html": [
              "<div>\n",
              "<style scoped>\n",
              "    .dataframe tbody tr th:only-of-type {\n",
              "        vertical-align: middle;\n",
              "    }\n",
              "\n",
              "    .dataframe tbody tr th {\n",
              "        vertical-align: top;\n",
              "    }\n",
              "\n",
              "    .dataframe thead th {\n",
              "        text-align: right;\n",
              "    }\n",
              "</style>\n",
              "<table border=\"1\" class=\"dataframe\">\n",
              "  <thead>\n",
              "    <tr style=\"text-align: right;\">\n",
              "      <th></th>\n",
              "      <th>id</th>\n",
              "      <th>content</th>\n",
              "      <th>retweets</th>\n",
              "      <th>favorites</th>\n",
              "      <th>Time</th>\n",
              "      <th>Date</th>\n",
              "    </tr>\n",
              "  </thead>\n",
              "  <tbody>\n",
              "    <tr>\n",
              "      <th>30889</th>\n",
              "      <td>795770006306861057</td>\n",
              "      <td>LIVE on  Periscope Join me for a few minutes i...</td>\n",
              "      <td>8765</td>\n",
              "      <td>27429</td>\n",
              "      <td>00:28:48</td>\n",
              "      <td>2016-11-08</td>\n",
              "    </tr>\n",
              "    <tr>\n",
              "      <th>30890</th>\n",
              "      <td>795779987152523264</td>\n",
              "      <td>Thank you Pennsylvania Going to New Hampshire ...</td>\n",
              "      <td>7743</td>\n",
              "      <td>25771</td>\n",
              "      <td>01:08:28</td>\n",
              "      <td>2016-11-08</td>\n",
              "    </tr>\n",
              "    <tr>\n",
              "      <th>30891</th>\n",
              "      <td>795781945607278592</td>\n",
              "      <td>Today in Florida I pledged to stand with the p...</td>\n",
              "      <td>12110</td>\n",
              "      <td>32433</td>\n",
              "      <td>01:16:15</td>\n",
              "      <td>2016-11-08</td>\n",
              "    </tr>\n",
              "    <tr>\n",
              "      <th>30892</th>\n",
              "      <td>795782371895349250</td>\n",
              "      <td>Big news to share in New Hampshire tonight Pol...</td>\n",
              "      <td>11281</td>\n",
              "      <td>38360</td>\n",
              "      <td>01:17:57</td>\n",
              "      <td>2016-11-08</td>\n",
              "    </tr>\n",
              "    <tr>\n",
              "      <th>30893</th>\n",
              "      <td>795834203430645760</td>\n",
              "      <td>Unbelievable evening in New Hampshire  THANK Y...</td>\n",
              "      <td>7796</td>\n",
              "      <td>28222</td>\n",
              "      <td>04:43:54</td>\n",
              "      <td>2016-11-08</td>\n",
              "    </tr>\n",
              "    <tr>\n",
              "      <th>...</th>\n",
              "      <td>...</td>\n",
              "      <td>...</td>\n",
              "      <td>...</td>\n",
              "      <td>...</td>\n",
              "      <td>...</td>\n",
              "      <td>...</td>\n",
              "    </tr>\n",
              "    <tr>\n",
              "      <th>41117</th>\n",
              "      <td>1218962544372670467</td>\n",
              "      <td>I have never seen the Republican Party as Stro...</td>\n",
              "      <td>32620</td>\n",
              "      <td>213817</td>\n",
              "      <td>19:24:52</td>\n",
              "      <td>2020-01-19</td>\n",
              "    </tr>\n",
              "    <tr>\n",
              "      <th>41118</th>\n",
              "      <td>1219004689716412416</td>\n",
              "      <td>Now Mini Mike Bloomberg is critical of Jack Wi...</td>\n",
              "      <td>36239</td>\n",
              "      <td>149571</td>\n",
              "      <td>22:12:20</td>\n",
              "      <td>2020-01-19</td>\n",
              "    </tr>\n",
              "    <tr>\n",
              "      <th>41119</th>\n",
              "      <td>1219053709428248576</td>\n",
              "      <td>I was thrilled to be back in the Great State o...</td>\n",
              "      <td>16588</td>\n",
              "      <td>66944</td>\n",
              "      <td>01:27:07</td>\n",
              "      <td>2020-01-20</td>\n",
              "    </tr>\n",
              "    <tr>\n",
              "      <th>41120</th>\n",
              "      <td>1219066007731310593</td>\n",
              "      <td>In the House the President got less due proces...</td>\n",
              "      <td>20599</td>\n",
              "      <td>81921</td>\n",
              "      <td>02:16:00</td>\n",
              "      <td>2020-01-20</td>\n",
              "    </tr>\n",
              "    <tr>\n",
              "      <th>41121</th>\n",
              "      <td>1219076533354037249</td>\n",
              "      <td>A great show Check it out tonight at 9pm  FoxN...</td>\n",
              "      <td>7947</td>\n",
              "      <td>34902</td>\n",
              "      <td>02:57:49</td>\n",
              "      <td>2020-01-20</td>\n",
              "    </tr>\n",
              "  </tbody>\n",
              "</table>\n",
              "<p>10233 rows × 6 columns</p>\n",
              "</div>"
            ],
            "text/plain": [
              "                        id  ...        Date\n",
              "30889   795770006306861057  ...  2016-11-08\n",
              "30890   795779987152523264  ...  2016-11-08\n",
              "30891   795781945607278592  ...  2016-11-08\n",
              "30892   795782371895349250  ...  2016-11-08\n",
              "30893   795834203430645760  ...  2016-11-08\n",
              "...                    ...  ...         ...\n",
              "41117  1218962544372670467  ...  2020-01-19\n",
              "41118  1219004689716412416  ...  2020-01-19\n",
              "41119  1219053709428248576  ...  2020-01-20\n",
              "41120  1219066007731310593  ...  2020-01-20\n",
              "41121  1219076533354037249  ...  2020-01-20\n",
              "\n",
              "[10233 rows x 6 columns]"
            ]
          },
          "metadata": {
            "tags": []
          },
          "execution_count": 21
        }
      ]
    },
    {
      "cell_type": "markdown",
      "metadata": {
        "id": "VAOK1pu8sTiR"
      },
      "source": [
        "#### Stock Market Data"
      ]
    },
    {
      "cell_type": "markdown",
      "metadata": {
        "id": "A__c6pWu4HLf"
      },
      "source": [
        "The Yahoo Finance API is utilized for market data from November 8th 2016 through present day."
      ]
    },
    {
      "cell_type": "code",
      "metadata": {
        "id": "v2wBDo0Rn5_e",
        "outputId": "9d583598-0b01-4008-e9c8-f12c4f6072ac",
        "colab": {
          "base_uri": "https://localhost:8080/"
        }
      },
      "source": [
        "import yfinance as yf\n",
        "market_data = yf.download('NDAQ',start='2016-11-08', end='2020-01-20')\n",
        "market_data.to_csv('market_data.csv')"
      ],
      "execution_count": 76,
      "outputs": [
        {
          "output_type": "stream",
          "text": [
            "\r[*********************100%***********************]  1 of 1 completed\n"
          ],
          "name": "stdout"
        }
      ]
    },
    {
      "cell_type": "code",
      "metadata": {
        "id": "_qJQU_1AxfnO",
        "outputId": "4280f482-58e1-4733-99bf-08108c6a1d5e",
        "colab": {
          "base_uri": "https://localhost:8080/",
          "height": 198
        }
      },
      "source": [
        "stock_data = pd.read_csv('/content/market_data.csv')\n",
        "stock_data.head()"
      ],
      "execution_count": 77,
      "outputs": [
        {
          "output_type": "execute_result",
          "data": {
            "text/html": [
              "<div>\n",
              "<style scoped>\n",
              "    .dataframe tbody tr th:only-of-type {\n",
              "        vertical-align: middle;\n",
              "    }\n",
              "\n",
              "    .dataframe tbody tr th {\n",
              "        vertical-align: top;\n",
              "    }\n",
              "\n",
              "    .dataframe thead th {\n",
              "        text-align: right;\n",
              "    }\n",
              "</style>\n",
              "<table border=\"1\" class=\"dataframe\">\n",
              "  <thead>\n",
              "    <tr style=\"text-align: right;\">\n",
              "      <th></th>\n",
              "      <th>Date</th>\n",
              "      <th>Open</th>\n",
              "      <th>High</th>\n",
              "      <th>Low</th>\n",
              "      <th>Close</th>\n",
              "      <th>Adj Close</th>\n",
              "      <th>Volume</th>\n",
              "    </tr>\n",
              "  </thead>\n",
              "  <tbody>\n",
              "    <tr>\n",
              "      <th>0</th>\n",
              "      <td>2016-11-08</td>\n",
              "      <td>65.440002</td>\n",
              "      <td>65.570000</td>\n",
              "      <td>64.190002</td>\n",
              "      <td>65.379997</td>\n",
              "      <td>60.622059</td>\n",
              "      <td>666500</td>\n",
              "    </tr>\n",
              "    <tr>\n",
              "      <th>1</th>\n",
              "      <td>2016-11-09</td>\n",
              "      <td>65.209999</td>\n",
              "      <td>67.139999</td>\n",
              "      <td>64.690002</td>\n",
              "      <td>66.930000</td>\n",
              "      <td>62.059265</td>\n",
              "      <td>1034000</td>\n",
              "    </tr>\n",
              "    <tr>\n",
              "      <th>2</th>\n",
              "      <td>2016-11-10</td>\n",
              "      <td>67.489998</td>\n",
              "      <td>68.290001</td>\n",
              "      <td>66.889999</td>\n",
              "      <td>67.099998</td>\n",
              "      <td>62.216900</td>\n",
              "      <td>1211200</td>\n",
              "    </tr>\n",
              "    <tr>\n",
              "      <th>3</th>\n",
              "      <td>2016-11-11</td>\n",
              "      <td>66.980003</td>\n",
              "      <td>67.320000</td>\n",
              "      <td>65.870003</td>\n",
              "      <td>66.440002</td>\n",
              "      <td>61.604923</td>\n",
              "      <td>889400</td>\n",
              "    </tr>\n",
              "    <tr>\n",
              "      <th>4</th>\n",
              "      <td>2016-11-14</td>\n",
              "      <td>66.620003</td>\n",
              "      <td>66.660004</td>\n",
              "      <td>64.570000</td>\n",
              "      <td>64.730003</td>\n",
              "      <td>60.019367</td>\n",
              "      <td>1413300</td>\n",
              "    </tr>\n",
              "  </tbody>\n",
              "</table>\n",
              "</div>"
            ],
            "text/plain": [
              "         Date       Open       High        Low      Close  Adj Close   Volume\n",
              "0  2016-11-08  65.440002  65.570000  64.190002  65.379997  60.622059   666500\n",
              "1  2016-11-09  65.209999  67.139999  64.690002  66.930000  62.059265  1034000\n",
              "2  2016-11-10  67.489998  68.290001  66.889999  67.099998  62.216900  1211200\n",
              "3  2016-11-11  66.980003  67.320000  65.870003  66.440002  61.604923   889400\n",
              "4  2016-11-14  66.620003  66.660004  64.570000  64.730003  60.019367  1413300"
            ]
          },
          "metadata": {
            "tags": []
          },
          "execution_count": 77
        }
      ]
    },
    {
      "cell_type": "code",
      "metadata": {
        "id": "RGVocnbmcgCB",
        "outputId": "03e47043-414e-4d80-c2d9-311319963785",
        "colab": {
          "base_uri": "https://localhost:8080/",
          "height": 198
        }
      },
      "source": [
        "stock_data.tail()"
      ],
      "execution_count": 75,
      "outputs": [
        {
          "output_type": "execute_result",
          "data": {
            "text/html": [
              "<div>\n",
              "<style scoped>\n",
              "    .dataframe tbody tr th:only-of-type {\n",
              "        vertical-align: middle;\n",
              "    }\n",
              "\n",
              "    .dataframe tbody tr th {\n",
              "        vertical-align: top;\n",
              "    }\n",
              "\n",
              "    .dataframe thead th {\n",
              "        text-align: right;\n",
              "    }\n",
              "</style>\n",
              "<table border=\"1\" class=\"dataframe\">\n",
              "  <thead>\n",
              "    <tr style=\"text-align: right;\">\n",
              "      <th></th>\n",
              "      <th>Date</th>\n",
              "      <th>Open</th>\n",
              "      <th>High</th>\n",
              "      <th>Low</th>\n",
              "      <th>Close</th>\n",
              "      <th>Adj Close</th>\n",
              "      <th>Volume</th>\n",
              "    </tr>\n",
              "  </thead>\n",
              "  <tbody>\n",
              "    <tr>\n",
              "      <th>798</th>\n",
              "      <td>2020-01-13</td>\n",
              "      <td>107.000000</td>\n",
              "      <td>107.529999</td>\n",
              "      <td>106.830002</td>\n",
              "      <td>107.089996</td>\n",
              "      <td>105.745445</td>\n",
              "      <td>394800</td>\n",
              "    </tr>\n",
              "    <tr>\n",
              "      <th>799</th>\n",
              "      <td>2020-01-14</td>\n",
              "      <td>107.260002</td>\n",
              "      <td>107.260002</td>\n",
              "      <td>106.330002</td>\n",
              "      <td>106.550003</td>\n",
              "      <td>105.212227</td>\n",
              "      <td>705200</td>\n",
              "    </tr>\n",
              "    <tr>\n",
              "      <th>800</th>\n",
              "      <td>2020-01-15</td>\n",
              "      <td>106.400002</td>\n",
              "      <td>108.209999</td>\n",
              "      <td>106.400002</td>\n",
              "      <td>107.860001</td>\n",
              "      <td>106.505775</td>\n",
              "      <td>623200</td>\n",
              "    </tr>\n",
              "    <tr>\n",
              "      <th>801</th>\n",
              "      <td>2020-01-16</td>\n",
              "      <td>108.559998</td>\n",
              "      <td>108.639999</td>\n",
              "      <td>107.779999</td>\n",
              "      <td>108.309998</td>\n",
              "      <td>106.950127</td>\n",
              "      <td>1085300</td>\n",
              "    </tr>\n",
              "    <tr>\n",
              "      <th>802</th>\n",
              "      <td>2020-01-17</td>\n",
              "      <td>108.459999</td>\n",
              "      <td>109.370003</td>\n",
              "      <td>108.029999</td>\n",
              "      <td>109.309998</td>\n",
              "      <td>107.937569</td>\n",
              "      <td>790800</td>\n",
              "    </tr>\n",
              "  </tbody>\n",
              "</table>\n",
              "</div>"
            ],
            "text/plain": [
              "           Date        Open        High  ...       Close   Adj Close   Volume\n",
              "798  2020-01-13  107.000000  107.529999  ...  107.089996  105.745445   394800\n",
              "799  2020-01-14  107.260002  107.260002  ...  106.550003  105.212227   705200\n",
              "800  2020-01-15  106.400002  108.209999  ...  107.860001  106.505775   623200\n",
              "801  2020-01-16  108.559998  108.639999  ...  108.309998  106.950127  1085300\n",
              "802  2020-01-17  108.459999  109.370003  ...  109.309998  107.937569   790800\n",
              "\n",
              "[5 rows x 7 columns]"
            ]
          },
          "metadata": {
            "tags": []
          },
          "execution_count": 75
        }
      ]
    },
    {
      "cell_type": "code",
      "metadata": {
        "id": "_qCHC6YT33PR",
        "outputId": "3c1c4245-ea85-40d4-c591-8c3de3fb9357",
        "colab": {
          "base_uri": "https://localhost:8080/"
        }
      },
      "source": [
        "stock_data.shape"
      ],
      "execution_count": 65,
      "outputs": [
        {
          "output_type": "execute_result",
          "data": {
            "text/plain": [
              "(803, 7)"
            ]
          },
          "metadata": {
            "tags": []
          },
          "execution_count": 65
        }
      ]
    },
    {
      "cell_type": "code",
      "metadata": {
        "id": "jlXTrMPfyYM_",
        "outputId": "fbb608f1-1b48-46b8-cefa-4f6cb92d3d7b",
        "colab": {
          "base_uri": "https://localhost:8080/",
          "height": 288
        }
      },
      "source": [
        "stock_data.describe()"
      ],
      "execution_count": 66,
      "outputs": [
        {
          "output_type": "execute_result",
          "data": {
            "text/html": [
              "<div>\n",
              "<style scoped>\n",
              "    .dataframe tbody tr th:only-of-type {\n",
              "        vertical-align: middle;\n",
              "    }\n",
              "\n",
              "    .dataframe tbody tr th {\n",
              "        vertical-align: top;\n",
              "    }\n",
              "\n",
              "    .dataframe thead th {\n",
              "        text-align: right;\n",
              "    }\n",
              "</style>\n",
              "<table border=\"1\" class=\"dataframe\">\n",
              "  <thead>\n",
              "    <tr style=\"text-align: right;\">\n",
              "      <th></th>\n",
              "      <th>Open</th>\n",
              "      <th>High</th>\n",
              "      <th>Low</th>\n",
              "      <th>Close</th>\n",
              "      <th>Adj Close</th>\n",
              "      <th>Volume</th>\n",
              "    </tr>\n",
              "  </thead>\n",
              "  <tbody>\n",
              "    <tr>\n",
              "      <th>count</th>\n",
              "      <td>803.000000</td>\n",
              "      <td>803.000000</td>\n",
              "      <td>803.000000</td>\n",
              "      <td>803.000000</td>\n",
              "      <td>803.000000</td>\n",
              "      <td>8.030000e+02</td>\n",
              "    </tr>\n",
              "    <tr>\n",
              "      <th>mean</th>\n",
              "      <td>84.331968</td>\n",
              "      <td>84.973026</td>\n",
              "      <td>83.659589</td>\n",
              "      <td>84.344396</td>\n",
              "      <td>80.909229</td>\n",
              "      <td>8.490504e+05</td>\n",
              "    </tr>\n",
              "    <tr>\n",
              "      <th>std</th>\n",
              "      <td>11.677265</td>\n",
              "      <td>11.762641</td>\n",
              "      <td>11.554972</td>\n",
              "      <td>11.670628</td>\n",
              "      <td>12.539887</td>\n",
              "      <td>3.644722e+05</td>\n",
              "    </tr>\n",
              "    <tr>\n",
              "      <th>min</th>\n",
              "      <td>63.700001</td>\n",
              "      <td>64.320000</td>\n",
              "      <td>63.360001</td>\n",
              "      <td>63.549999</td>\n",
              "      <td>58.925240</td>\n",
              "      <td>2.179000e+05</td>\n",
              "    </tr>\n",
              "    <tr>\n",
              "      <th>25%</th>\n",
              "      <td>74.205002</td>\n",
              "      <td>74.744999</td>\n",
              "      <td>73.669998</td>\n",
              "      <td>74.334999</td>\n",
              "      <td>69.955349</td>\n",
              "      <td>5.935500e+05</td>\n",
              "    </tr>\n",
              "    <tr>\n",
              "      <th>50%</th>\n",
              "      <td>85.410004</td>\n",
              "      <td>86.190002</td>\n",
              "      <td>84.459999</td>\n",
              "      <td>85.290001</td>\n",
              "      <td>82.019234</td>\n",
              "      <td>7.687000e+05</td>\n",
              "    </tr>\n",
              "    <tr>\n",
              "      <th>75%</th>\n",
              "      <td>93.055000</td>\n",
              "      <td>93.605000</td>\n",
              "      <td>92.330002</td>\n",
              "      <td>93.060001</td>\n",
              "      <td>89.404526</td>\n",
              "      <td>1.018850e+06</td>\n",
              "    </tr>\n",
              "    <tr>\n",
              "      <th>max</th>\n",
              "      <td>108.559998</td>\n",
              "      <td>109.370003</td>\n",
              "      <td>108.029999</td>\n",
              "      <td>109.309998</td>\n",
              "      <td>107.937569</td>\n",
              "      <td>2.973800e+06</td>\n",
              "    </tr>\n",
              "  </tbody>\n",
              "</table>\n",
              "</div>"
            ],
            "text/plain": [
              "             Open        High         Low       Close   Adj Close        Volume\n",
              "count  803.000000  803.000000  803.000000  803.000000  803.000000  8.030000e+02\n",
              "mean    84.331968   84.973026   83.659589   84.344396   80.909229  8.490504e+05\n",
              "std     11.677265   11.762641   11.554972   11.670628   12.539887  3.644722e+05\n",
              "min     63.700001   64.320000   63.360001   63.549999   58.925240  2.179000e+05\n",
              "25%     74.205002   74.744999   73.669998   74.334999   69.955349  5.935500e+05\n",
              "50%     85.410004   86.190002   84.459999   85.290001   82.019234  7.687000e+05\n",
              "75%     93.055000   93.605000   92.330002   93.060001   89.404526  1.018850e+06\n",
              "max    108.559998  109.370003  108.029999  109.309998  107.937569  2.973800e+06"
            ]
          },
          "metadata": {
            "tags": []
          },
          "execution_count": 66
        }
      ]
    },
    {
      "cell_type": "code",
      "metadata": {
        "id": "lgyV2LOW5-co",
        "outputId": "8aca6a79-f780-46a1-cdb7-7746d0e1ff14",
        "colab": {
          "base_uri": "https://localhost:8080/",
          "height": 407
        }
      },
      "source": [
        "# Round columns with decimal places to only 2 decimal places\n",
        "stock_data = stock_data.round(decimals=2)\n",
        "stock_data"
      ],
      "execution_count": 67,
      "outputs": [
        {
          "output_type": "execute_result",
          "data": {
            "text/html": [
              "<div>\n",
              "<style scoped>\n",
              "    .dataframe tbody tr th:only-of-type {\n",
              "        vertical-align: middle;\n",
              "    }\n",
              "\n",
              "    .dataframe tbody tr th {\n",
              "        vertical-align: top;\n",
              "    }\n",
              "\n",
              "    .dataframe thead th {\n",
              "        text-align: right;\n",
              "    }\n",
              "</style>\n",
              "<table border=\"1\" class=\"dataframe\">\n",
              "  <thead>\n",
              "    <tr style=\"text-align: right;\">\n",
              "      <th></th>\n",
              "      <th>Date</th>\n",
              "      <th>Open</th>\n",
              "      <th>High</th>\n",
              "      <th>Low</th>\n",
              "      <th>Close</th>\n",
              "      <th>Adj Close</th>\n",
              "      <th>Volume</th>\n",
              "    </tr>\n",
              "  </thead>\n",
              "  <tbody>\n",
              "    <tr>\n",
              "      <th>0</th>\n",
              "      <td>2016-11-08</td>\n",
              "      <td>65.44</td>\n",
              "      <td>65.57</td>\n",
              "      <td>64.19</td>\n",
              "      <td>65.38</td>\n",
              "      <td>60.62</td>\n",
              "      <td>666500</td>\n",
              "    </tr>\n",
              "    <tr>\n",
              "      <th>1</th>\n",
              "      <td>2016-11-09</td>\n",
              "      <td>65.21</td>\n",
              "      <td>67.14</td>\n",
              "      <td>64.69</td>\n",
              "      <td>66.93</td>\n",
              "      <td>62.06</td>\n",
              "      <td>1034000</td>\n",
              "    </tr>\n",
              "    <tr>\n",
              "      <th>2</th>\n",
              "      <td>2016-11-10</td>\n",
              "      <td>67.49</td>\n",
              "      <td>68.29</td>\n",
              "      <td>66.89</td>\n",
              "      <td>67.10</td>\n",
              "      <td>62.22</td>\n",
              "      <td>1211200</td>\n",
              "    </tr>\n",
              "    <tr>\n",
              "      <th>3</th>\n",
              "      <td>2016-11-11</td>\n",
              "      <td>66.98</td>\n",
              "      <td>67.32</td>\n",
              "      <td>65.87</td>\n",
              "      <td>66.44</td>\n",
              "      <td>61.60</td>\n",
              "      <td>889400</td>\n",
              "    </tr>\n",
              "    <tr>\n",
              "      <th>4</th>\n",
              "      <td>2016-11-14</td>\n",
              "      <td>66.62</td>\n",
              "      <td>66.66</td>\n",
              "      <td>64.57</td>\n",
              "      <td>64.73</td>\n",
              "      <td>60.02</td>\n",
              "      <td>1413300</td>\n",
              "    </tr>\n",
              "    <tr>\n",
              "      <th>...</th>\n",
              "      <td>...</td>\n",
              "      <td>...</td>\n",
              "      <td>...</td>\n",
              "      <td>...</td>\n",
              "      <td>...</td>\n",
              "      <td>...</td>\n",
              "      <td>...</td>\n",
              "    </tr>\n",
              "    <tr>\n",
              "      <th>798</th>\n",
              "      <td>2020-01-13</td>\n",
              "      <td>107.00</td>\n",
              "      <td>107.53</td>\n",
              "      <td>106.83</td>\n",
              "      <td>107.09</td>\n",
              "      <td>105.75</td>\n",
              "      <td>394800</td>\n",
              "    </tr>\n",
              "    <tr>\n",
              "      <th>799</th>\n",
              "      <td>2020-01-14</td>\n",
              "      <td>107.26</td>\n",
              "      <td>107.26</td>\n",
              "      <td>106.33</td>\n",
              "      <td>106.55</td>\n",
              "      <td>105.21</td>\n",
              "      <td>705200</td>\n",
              "    </tr>\n",
              "    <tr>\n",
              "      <th>800</th>\n",
              "      <td>2020-01-15</td>\n",
              "      <td>106.40</td>\n",
              "      <td>108.21</td>\n",
              "      <td>106.40</td>\n",
              "      <td>107.86</td>\n",
              "      <td>106.51</td>\n",
              "      <td>623200</td>\n",
              "    </tr>\n",
              "    <tr>\n",
              "      <th>801</th>\n",
              "      <td>2020-01-16</td>\n",
              "      <td>108.56</td>\n",
              "      <td>108.64</td>\n",
              "      <td>107.78</td>\n",
              "      <td>108.31</td>\n",
              "      <td>106.95</td>\n",
              "      <td>1085300</td>\n",
              "    </tr>\n",
              "    <tr>\n",
              "      <th>802</th>\n",
              "      <td>2020-01-17</td>\n",
              "      <td>108.46</td>\n",
              "      <td>109.37</td>\n",
              "      <td>108.03</td>\n",
              "      <td>109.31</td>\n",
              "      <td>107.94</td>\n",
              "      <td>790800</td>\n",
              "    </tr>\n",
              "  </tbody>\n",
              "</table>\n",
              "<p>803 rows × 7 columns</p>\n",
              "</div>"
            ],
            "text/plain": [
              "           Date    Open    High     Low   Close  Adj Close   Volume\n",
              "0    2016-11-08   65.44   65.57   64.19   65.38      60.62   666500\n",
              "1    2016-11-09   65.21   67.14   64.69   66.93      62.06  1034000\n",
              "2    2016-11-10   67.49   68.29   66.89   67.10      62.22  1211200\n",
              "3    2016-11-11   66.98   67.32   65.87   66.44      61.60   889400\n",
              "4    2016-11-14   66.62   66.66   64.57   64.73      60.02  1413300\n",
              "..          ...     ...     ...     ...     ...        ...      ...\n",
              "798  2020-01-13  107.00  107.53  106.83  107.09     105.75   394800\n",
              "799  2020-01-14  107.26  107.26  106.33  106.55     105.21   705200\n",
              "800  2020-01-15  106.40  108.21  106.40  107.86     106.51   623200\n",
              "801  2020-01-16  108.56  108.64  107.78  108.31     106.95  1085300\n",
              "802  2020-01-17  108.46  109.37  108.03  109.31     107.94   790800\n",
              "\n",
              "[803 rows x 7 columns]"
            ]
          },
          "metadata": {
            "tags": []
          },
          "execution_count": 67
        }
      ]
    },
    {
      "cell_type": "code",
      "metadata": {
        "id": "9vVvfK-nRhfQ"
      },
      "source": [
        "stock_data['Date'] = pd.to_datetime(stock_data['Date'])"
      ],
      "execution_count": 80,
      "outputs": []
    },
    {
      "cell_type": "code",
      "metadata": {
        "id": "pJo9TlKcQSw4",
        "outputId": "80e5d448-c582-4ea6-e5d7-05c8276b2688",
        "colab": {
          "base_uri": "https://localhost:8080/"
        }
      },
      "source": [
        "stock_data.info()"
      ],
      "execution_count": 81,
      "outputs": [
        {
          "output_type": "stream",
          "text": [
            "<class 'pandas.core.frame.DataFrame'>\n",
            "RangeIndex: 803 entries, 0 to 802\n",
            "Data columns (total 7 columns):\n",
            " #   Column     Non-Null Count  Dtype         \n",
            "---  ------     --------------  -----         \n",
            " 0   Date       803 non-null    datetime64[ns]\n",
            " 1   Open       803 non-null    float64       \n",
            " 2   High       803 non-null    float64       \n",
            " 3   Low        803 non-null    float64       \n",
            " 4   Close      803 non-null    float64       \n",
            " 5   Adj Close  803 non-null    float64       \n",
            " 6   Volume     803 non-null    int64         \n",
            "dtypes: datetime64[ns](1), float64(5), int64(1)\n",
            "memory usage: 44.0 KB\n"
          ],
          "name": "stdout"
        }
      ]
    },
    {
      "cell_type": "markdown",
      "metadata": {
        "id": "vzfrhHmb7ryD"
      },
      "source": [
        "There is not much cleaning that needs to take place for the stock market data. "
      ]
    },
    {
      "cell_type": "markdown",
      "metadata": {
        "id": "WFkR_EIg4ybD"
      },
      "source": [
        "## Exploratory Analysis"
      ]
    },
    {
      "cell_type": "code",
      "metadata": {
        "id": "7srqg1wHELSK"
      },
      "source": [
        "import seaborn as sns \n",
        "sns.set(color_codes=True)\n",
        "import matplotlib.pyplot as plt\n",
        "%matplotlib inline \n",
        "plt.style.use('fivethirtyeight')"
      ],
      "execution_count": 28,
      "outputs": []
    },
    {
      "cell_type": "markdown",
      "metadata": {
        "id": "VBXfvoAC-pPX"
      },
      "source": [
        "### Null Values in Tweets"
      ]
    },
    {
      "cell_type": "markdown",
      "metadata": {
        "id": "FMKq5BbF4tfL"
      },
      "source": [
        "Now that the data is cleaned up, lets preform some exploritory anlaysis for the 2 data sets."
      ]
    },
    {
      "cell_type": "code",
      "metadata": {
        "id": "qPo1JhPUwCSy",
        "outputId": "2e14c5ff-665b-41da-fd73-41754ca3993e",
        "colab": {
          "base_uri": "https://localhost:8080/"
        }
      },
      "source": [
        "tweets.isnull().sum()"
      ],
      "execution_count": 29,
      "outputs": [
        {
          "output_type": "execute_result",
          "data": {
            "text/plain": [
              "id           0\n",
              "content      0\n",
              "retweets     0\n",
              "favorites    0\n",
              "Time         0\n",
              "Date         0\n",
              "dtype: int64"
            ]
          },
          "metadata": {
            "tags": []
          },
          "execution_count": 29
        }
      ]
    },
    {
      "cell_type": "code",
      "metadata": {
        "id": "IAqG4QYK-a_m",
        "outputId": "6105c145-50c7-4dbe-b8d6-26acd195f548",
        "colab": {
          "base_uri": "https://localhost:8080/"
        }
      },
      "source": [
        "stock_data.isnull().sum()"
      ],
      "execution_count": 30,
      "outputs": [
        {
          "output_type": "execute_result",
          "data": {
            "text/plain": [
              "Date         0\n",
              "Open         0\n",
              "High         0\n",
              "Low          0\n",
              "Close        0\n",
              "Adj Close    0\n",
              "Volume       0\n",
              "dtype: int64"
            ]
          },
          "metadata": {
            "tags": []
          },
          "execution_count": 30
        }
      ]
    },
    {
      "cell_type": "markdown",
      "metadata": {
        "id": "W3tSzNqb-f__"
      },
      "source": [
        "There are no missing values for either of the data sets. "
      ]
    },
    {
      "cell_type": "markdown",
      "metadata": {
        "id": "mt2d2l0ue3fu"
      },
      "source": [
        "### Dates of Tweets"
      ]
    },
    {
      "cell_type": "code",
      "metadata": {
        "id": "cBLzFX2oeg1L",
        "outputId": "9aec9308-c319-478f-d523-34adf27c0916",
        "colab": {
          "base_uri": "https://localhost:8080/",
          "height": 198
        }
      },
      "source": [
        "tweets.head()"
      ],
      "execution_count": 31,
      "outputs": [
        {
          "output_type": "execute_result",
          "data": {
            "text/html": [
              "<div>\n",
              "<style scoped>\n",
              "    .dataframe tbody tr th:only-of-type {\n",
              "        vertical-align: middle;\n",
              "    }\n",
              "\n",
              "    .dataframe tbody tr th {\n",
              "        vertical-align: top;\n",
              "    }\n",
              "\n",
              "    .dataframe thead th {\n",
              "        text-align: right;\n",
              "    }\n",
              "</style>\n",
              "<table border=\"1\" class=\"dataframe\">\n",
              "  <thead>\n",
              "    <tr style=\"text-align: right;\">\n",
              "      <th></th>\n",
              "      <th>id</th>\n",
              "      <th>content</th>\n",
              "      <th>retweets</th>\n",
              "      <th>favorites</th>\n",
              "      <th>Time</th>\n",
              "      <th>Date</th>\n",
              "    </tr>\n",
              "  </thead>\n",
              "  <tbody>\n",
              "    <tr>\n",
              "      <th>30889</th>\n",
              "      <td>795770006306861057</td>\n",
              "      <td>LIVE on  Periscope Join me for a few minutes i...</td>\n",
              "      <td>8765</td>\n",
              "      <td>27429</td>\n",
              "      <td>00:28:48</td>\n",
              "      <td>2016-11-08</td>\n",
              "    </tr>\n",
              "    <tr>\n",
              "      <th>30890</th>\n",
              "      <td>795779987152523264</td>\n",
              "      <td>Thank you Pennsylvania Going to New Hampshire ...</td>\n",
              "      <td>7743</td>\n",
              "      <td>25771</td>\n",
              "      <td>01:08:28</td>\n",
              "      <td>2016-11-08</td>\n",
              "    </tr>\n",
              "    <tr>\n",
              "      <th>30891</th>\n",
              "      <td>795781945607278592</td>\n",
              "      <td>Today in Florida I pledged to stand with the p...</td>\n",
              "      <td>12110</td>\n",
              "      <td>32433</td>\n",
              "      <td>01:16:15</td>\n",
              "      <td>2016-11-08</td>\n",
              "    </tr>\n",
              "    <tr>\n",
              "      <th>30892</th>\n",
              "      <td>795782371895349250</td>\n",
              "      <td>Big news to share in New Hampshire tonight Pol...</td>\n",
              "      <td>11281</td>\n",
              "      <td>38360</td>\n",
              "      <td>01:17:57</td>\n",
              "      <td>2016-11-08</td>\n",
              "    </tr>\n",
              "    <tr>\n",
              "      <th>30893</th>\n",
              "      <td>795834203430645760</td>\n",
              "      <td>Unbelievable evening in New Hampshire  THANK Y...</td>\n",
              "      <td>7796</td>\n",
              "      <td>28222</td>\n",
              "      <td>04:43:54</td>\n",
              "      <td>2016-11-08</td>\n",
              "    </tr>\n",
              "  </tbody>\n",
              "</table>\n",
              "</div>"
            ],
            "text/plain": [
              "                       id  ...        Date\n",
              "30889  795770006306861057  ...  2016-11-08\n",
              "30890  795779987152523264  ...  2016-11-08\n",
              "30891  795781945607278592  ...  2016-11-08\n",
              "30892  795782371895349250  ...  2016-11-08\n",
              "30893  795834203430645760  ...  2016-11-08\n",
              "\n",
              "[5 rows x 6 columns]"
            ]
          },
          "metadata": {
            "tags": []
          },
          "execution_count": 31
        }
      ]
    },
    {
      "cell_type": "code",
      "metadata": {
        "id": "JGp-yYkAh_Ze"
      },
      "source": [
        "tweets['Date'] = pd.to_datetime(tweets['Date'])"
      ],
      "execution_count": null,
      "outputs": []
    },
    {
      "cell_type": "code",
      "metadata": {
        "id": "pFpLILrOiOqr",
        "outputId": "0567b620-066b-4501-a9f9-c270d0f4b829",
        "colab": {
          "base_uri": "https://localhost:8080/"
        }
      },
      "source": [
        "tweets['Date'].describe"
      ],
      "execution_count": 33,
      "outputs": [
        {
          "output_type": "execute_result",
          "data": {
            "text/plain": [
              "<bound method NDFrame.describe of 30889   2016-11-08\n",
              "30890   2016-11-08\n",
              "30891   2016-11-08\n",
              "30892   2016-11-08\n",
              "30893   2016-11-08\n",
              "           ...    \n",
              "41117   2020-01-19\n",
              "41118   2020-01-19\n",
              "41119   2020-01-20\n",
              "41120   2020-01-20\n",
              "41121   2020-01-20\n",
              "Name: Date, Length: 10233, dtype: datetime64[ns]>"
            ]
          },
          "metadata": {
            "tags": []
          },
          "execution_count": 33
        }
      ]
    },
    {
      "cell_type": "code",
      "metadata": {
        "id": "Jj-FXhoNju9L",
        "outputId": "a51a6264-5d63-4602-e946-19cfc2097d0f",
        "colab": {
          "base_uri": "https://localhost:8080/",
          "height": 198
        }
      },
      "source": [
        "tweets.head()"
      ],
      "execution_count": 34,
      "outputs": [
        {
          "output_type": "execute_result",
          "data": {
            "text/html": [
              "<div>\n",
              "<style scoped>\n",
              "    .dataframe tbody tr th:only-of-type {\n",
              "        vertical-align: middle;\n",
              "    }\n",
              "\n",
              "    .dataframe tbody tr th {\n",
              "        vertical-align: top;\n",
              "    }\n",
              "\n",
              "    .dataframe thead th {\n",
              "        text-align: right;\n",
              "    }\n",
              "</style>\n",
              "<table border=\"1\" class=\"dataframe\">\n",
              "  <thead>\n",
              "    <tr style=\"text-align: right;\">\n",
              "      <th></th>\n",
              "      <th>id</th>\n",
              "      <th>content</th>\n",
              "      <th>retweets</th>\n",
              "      <th>favorites</th>\n",
              "      <th>Time</th>\n",
              "      <th>Date</th>\n",
              "    </tr>\n",
              "  </thead>\n",
              "  <tbody>\n",
              "    <tr>\n",
              "      <th>30889</th>\n",
              "      <td>795770006306861057</td>\n",
              "      <td>LIVE on  Periscope Join me for a few minutes i...</td>\n",
              "      <td>8765</td>\n",
              "      <td>27429</td>\n",
              "      <td>00:28:48</td>\n",
              "      <td>2016-11-08</td>\n",
              "    </tr>\n",
              "    <tr>\n",
              "      <th>30890</th>\n",
              "      <td>795779987152523264</td>\n",
              "      <td>Thank you Pennsylvania Going to New Hampshire ...</td>\n",
              "      <td>7743</td>\n",
              "      <td>25771</td>\n",
              "      <td>01:08:28</td>\n",
              "      <td>2016-11-08</td>\n",
              "    </tr>\n",
              "    <tr>\n",
              "      <th>30891</th>\n",
              "      <td>795781945607278592</td>\n",
              "      <td>Today in Florida I pledged to stand with the p...</td>\n",
              "      <td>12110</td>\n",
              "      <td>32433</td>\n",
              "      <td>01:16:15</td>\n",
              "      <td>2016-11-08</td>\n",
              "    </tr>\n",
              "    <tr>\n",
              "      <th>30892</th>\n",
              "      <td>795782371895349250</td>\n",
              "      <td>Big news to share in New Hampshire tonight Pol...</td>\n",
              "      <td>11281</td>\n",
              "      <td>38360</td>\n",
              "      <td>01:17:57</td>\n",
              "      <td>2016-11-08</td>\n",
              "    </tr>\n",
              "    <tr>\n",
              "      <th>30893</th>\n",
              "      <td>795834203430645760</td>\n",
              "      <td>Unbelievable evening in New Hampshire  THANK Y...</td>\n",
              "      <td>7796</td>\n",
              "      <td>28222</td>\n",
              "      <td>04:43:54</td>\n",
              "      <td>2016-11-08</td>\n",
              "    </tr>\n",
              "  </tbody>\n",
              "</table>\n",
              "</div>"
            ],
            "text/plain": [
              "                       id  ...       Date\n",
              "30889  795770006306861057  ... 2016-11-08\n",
              "30890  795779987152523264  ... 2016-11-08\n",
              "30891  795781945607278592  ... 2016-11-08\n",
              "30892  795782371895349250  ... 2016-11-08\n",
              "30893  795834203430645760  ... 2016-11-08\n",
              "\n",
              "[5 rows x 6 columns]"
            ]
          },
          "metadata": {
            "tags": []
          },
          "execution_count": 34
        }
      ]
    },
    {
      "cell_type": "code",
      "metadata": {
        "id": "jbyZ1kogkLdL"
      },
      "source": [
        "tweets['Day'] = tweets['Date'].dt.day\n",
        "tweets['Month'] = tweets['Date'].dt.month\n",
        "tweets['Year'] = tweets['Date'].dt.year\n",
        "tweets['Month_Year'] =  tweets['Month'].map(str) + '-' + tweets['Year'].map(str)"
      ],
      "execution_count": null,
      "outputs": []
    },
    {
      "cell_type": "code",
      "metadata": {
        "id": "298dvbjQlzDv",
        "outputId": "defce360-9268-4e84-8d07-ea7f919db724",
        "colab": {
          "base_uri": "https://localhost:8080/",
          "height": 198
        }
      },
      "source": [
        "tweets.head()"
      ],
      "execution_count": 36,
      "outputs": [
        {
          "output_type": "execute_result",
          "data": {
            "text/html": [
              "<div>\n",
              "<style scoped>\n",
              "    .dataframe tbody tr th:only-of-type {\n",
              "        vertical-align: middle;\n",
              "    }\n",
              "\n",
              "    .dataframe tbody tr th {\n",
              "        vertical-align: top;\n",
              "    }\n",
              "\n",
              "    .dataframe thead th {\n",
              "        text-align: right;\n",
              "    }\n",
              "</style>\n",
              "<table border=\"1\" class=\"dataframe\">\n",
              "  <thead>\n",
              "    <tr style=\"text-align: right;\">\n",
              "      <th></th>\n",
              "      <th>id</th>\n",
              "      <th>content</th>\n",
              "      <th>retweets</th>\n",
              "      <th>favorites</th>\n",
              "      <th>Time</th>\n",
              "      <th>Date</th>\n",
              "      <th>Day</th>\n",
              "      <th>Month</th>\n",
              "      <th>Year</th>\n",
              "      <th>Month_Year</th>\n",
              "    </tr>\n",
              "  </thead>\n",
              "  <tbody>\n",
              "    <tr>\n",
              "      <th>30889</th>\n",
              "      <td>795770006306861057</td>\n",
              "      <td>LIVE on  Periscope Join me for a few minutes i...</td>\n",
              "      <td>8765</td>\n",
              "      <td>27429</td>\n",
              "      <td>00:28:48</td>\n",
              "      <td>2016-11-08</td>\n",
              "      <td>8</td>\n",
              "      <td>11</td>\n",
              "      <td>2016</td>\n",
              "      <td>11-2016</td>\n",
              "    </tr>\n",
              "    <tr>\n",
              "      <th>30890</th>\n",
              "      <td>795779987152523264</td>\n",
              "      <td>Thank you Pennsylvania Going to New Hampshire ...</td>\n",
              "      <td>7743</td>\n",
              "      <td>25771</td>\n",
              "      <td>01:08:28</td>\n",
              "      <td>2016-11-08</td>\n",
              "      <td>8</td>\n",
              "      <td>11</td>\n",
              "      <td>2016</td>\n",
              "      <td>11-2016</td>\n",
              "    </tr>\n",
              "    <tr>\n",
              "      <th>30891</th>\n",
              "      <td>795781945607278592</td>\n",
              "      <td>Today in Florida I pledged to stand with the p...</td>\n",
              "      <td>12110</td>\n",
              "      <td>32433</td>\n",
              "      <td>01:16:15</td>\n",
              "      <td>2016-11-08</td>\n",
              "      <td>8</td>\n",
              "      <td>11</td>\n",
              "      <td>2016</td>\n",
              "      <td>11-2016</td>\n",
              "    </tr>\n",
              "    <tr>\n",
              "      <th>30892</th>\n",
              "      <td>795782371895349250</td>\n",
              "      <td>Big news to share in New Hampshire tonight Pol...</td>\n",
              "      <td>11281</td>\n",
              "      <td>38360</td>\n",
              "      <td>01:17:57</td>\n",
              "      <td>2016-11-08</td>\n",
              "      <td>8</td>\n",
              "      <td>11</td>\n",
              "      <td>2016</td>\n",
              "      <td>11-2016</td>\n",
              "    </tr>\n",
              "    <tr>\n",
              "      <th>30893</th>\n",
              "      <td>795834203430645760</td>\n",
              "      <td>Unbelievable evening in New Hampshire  THANK Y...</td>\n",
              "      <td>7796</td>\n",
              "      <td>28222</td>\n",
              "      <td>04:43:54</td>\n",
              "      <td>2016-11-08</td>\n",
              "      <td>8</td>\n",
              "      <td>11</td>\n",
              "      <td>2016</td>\n",
              "      <td>11-2016</td>\n",
              "    </tr>\n",
              "  </tbody>\n",
              "</table>\n",
              "</div>"
            ],
            "text/plain": [
              "                       id  ... Month_Year\n",
              "30889  795770006306861057  ...    11-2016\n",
              "30890  795779987152523264  ...    11-2016\n",
              "30891  795781945607278592  ...    11-2016\n",
              "30892  795782371895349250  ...    11-2016\n",
              "30893  795834203430645760  ...    11-2016\n",
              "\n",
              "[5 rows x 10 columns]"
            ]
          },
          "metadata": {
            "tags": []
          },
          "execution_count": 36
        }
      ]
    },
    {
      "cell_type": "code",
      "metadata": {
        "id": "AAFyNHXG0zUd",
        "outputId": "6eb17d52-eb5f-4940-ed2d-4558cbf97cf7",
        "colab": {
          "base_uri": "https://localhost:8080/"
        }
      },
      "source": [
        "tweets.info()"
      ],
      "execution_count": 37,
      "outputs": [
        {
          "output_type": "stream",
          "text": [
            "<class 'pandas.core.frame.DataFrame'>\n",
            "Int64Index: 10233 entries, 30889 to 41121\n",
            "Data columns (total 10 columns):\n",
            " #   Column      Non-Null Count  Dtype         \n",
            "---  ------      --------------  -----         \n",
            " 0   id          10233 non-null  int64         \n",
            " 1   content     10233 non-null  object        \n",
            " 2   retweets    10233 non-null  int64         \n",
            " 3   favorites   10233 non-null  int64         \n",
            " 4   Time        10233 non-null  object        \n",
            " 5   Date        10233 non-null  datetime64[ns]\n",
            " 6   Day         10233 non-null  int64         \n",
            " 7   Month       10233 non-null  int64         \n",
            " 8   Year        10233 non-null  int64         \n",
            " 9   Month_Year  10233 non-null  object        \n",
            "dtypes: datetime64[ns](1), int64(6), object(3)\n",
            "memory usage: 879.4+ KB\n"
          ],
          "name": "stdout"
        }
      ]
    },
    {
      "cell_type": "code",
      "metadata": {
        "id": "32WE_RfJr-gM",
        "outputId": "f0f8e506-c6e4-47dc-e54b-159900e865ed",
        "colab": {
          "base_uri": "https://localhost:8080/",
          "height": 296
        }
      },
      "source": [
        "tweets_per_year = {}\n",
        "for i in tweets['Year']:\n",
        "  if i not in tweets_per_year:\n",
        "    tweets_per_year[i] = 1\n",
        "  else:\n",
        "    tweets_per_year[i] += 1\n",
        "\n",
        "keys = tweets_per_year.keys()\n",
        "values = tweets_per_year.values()\n",
        "\n",
        "plt.bar(keys,values)"
      ],
      "execution_count": 38,
      "outputs": [
        {
          "output_type": "execute_result",
          "data": {
            "text/plain": [
              "<BarContainer object of 5 artists>"
            ]
          },
          "metadata": {
            "tags": []
          },
          "execution_count": 38
        },
        {
          "output_type": "display_data",
          "data": {
            "image/png": "[encoded data removed]",
            "text/plain": [
              "<Figure size 432x288 with 1 Axes>"
            ]
          },
          "metadata": {
            "tags": []
          }
        }
      ]
    },
    {
      "cell_type": "code",
      "metadata": {
        "id": "5LHLAB-Rz5eK",
        "outputId": "d207e6cd-40fd-43db-e3b1-eb5a436ce9f5",
        "colab": {
          "base_uri": "https://localhost:8080/",
          "height": 278
        }
      },
      "source": [
        "tweets_per_month = {}\n",
        "for i in tweets['Month_Year']:\n",
        "  if i not in tweets_per_month:\n",
        "    tweets_per_month[i] = 1\n",
        "  else:\n",
        "    tweets_per_month[i] += 1\n",
        "\n",
        "lists = sorted(tweets_per_month.items())\n",
        "x,y = zip(*lists)\n",
        "plt.plot(x,y)\n",
        "plt.xticks([0, 19, 37], ['Nov 2016', 'June 2018', 'Jan 2020'])\n",
        "plt.show()"
      ],
      "execution_count": 39,
      "outputs": [
        {
          "output_type": "display_data",
          "data": {
            "image/png": "[encoded data removed]",
            "text/plain": [
              "<Figure size 432x288 with 1 Axes>"
            ]
          },
          "metadata": {
            "tags": []
          }
        }
      ]
    },
    {
      "cell_type": "markdown",
      "metadata": {
        "id": "d1OrB3ZE-rMH"
      },
      "source": [
        "### Content of Tweets"
      ]
    },
    {
      "cell_type": "code",
      "metadata": {
        "id": "ucbvp-wdIQxo",
        "outputId": "5176d849-4e18-4e90-f694-15e766626a34",
        "colab": {
          "base_uri": "https://localhost:8080/"
        }
      },
      "source": [
        "tweet = tweets['content']\n",
        "tweet"
      ],
      "execution_count": 40,
      "outputs": [
        {
          "output_type": "execute_result",
          "data": {
            "text/plain": [
              "30889    LIVE on  Periscope Join me for a few minutes i...\n",
              "30890    Thank you Pennsylvania Going to New Hampshire ...\n",
              "30891    Today in Florida I pledged to stand with the p...\n",
              "30892    Big news to share in New Hampshire tonight Pol...\n",
              "30893    Unbelievable evening in New Hampshire  THANK Y...\n",
              "                               ...                        \n",
              "41117    I have never seen the Republican Party as Stro...\n",
              "41118    Now Mini Mike Bloomberg is critical of Jack Wi...\n",
              "41119    I was thrilled to be back in the Great State o...\n",
              "41120    In the House the President got less due proces...\n",
              "41121    A great show Check it out tonight at 9pm  FoxN...\n",
              "Name: content, Length: 10233, dtype: object"
            ]
          },
          "metadata": {
            "tags": []
          },
          "execution_count": 40
        }
      ]
    },
    {
      "cell_type": "code",
      "metadata": {
        "id": "3SVsdrrAKyBw",
        "outputId": "0e908d38-fa52-48dc-b92b-5b729a0967cb",
        "colab": {
          "base_uri": "https://localhost:8080/"
        }
      },
      "source": [
        "import nltk\n",
        "from nltk.tokenize import word_tokenize\n",
        "\n",
        "nltk.download('punkt')\n",
        "def most_used_words(text):\n",
        "    tokens = word_tokenize(text)\n",
        "    frequency_dist = nltk.FreqDist(tokens)\n",
        "    print(\"There is %d different words\" % len(set(tokens)))\n",
        "    return sorted(frequency_dist,key=frequency_dist.__getitem__, reverse=True)"
      ],
      "execution_count": 41,
      "outputs": [
        {
          "output_type": "stream",
          "text": [
            "[nltk_data] Downloading package punkt to /root/nltk_data...\n",
            "[nltk_data]   Unzipping tokenizers/punkt.zip.\n"
          ],
          "name": "stdout"
        }
      ]
    },
    {
      "cell_type": "code",
      "metadata": {
        "id": "SDvAY6BkLokf",
        "outputId": "15c8ef1b-361e-40f5-cbb1-c57e2777a764",
        "colab": {
          "base_uri": "https://localhost:8080/"
        }
      },
      "source": [
        "most_used_words(tweet.str.cat())[:5]"
      ],
      "execution_count": 42,
      "outputs": [
        {
          "output_type": "stream",
          "text": [
            "There is 26381 different words\n"
          ],
          "name": "stdout"
        },
        {
          "output_type": "execute_result",
          "data": {
            "text/plain": [
              "['the', 'to', 'and', 'of', 'a']"
            ]
          },
          "metadata": {
            "tags": []
          },
          "execution_count": 42
        }
      ]
    },
    {
      "cell_type": "markdown",
      "metadata": {
        "id": "rtEl2cUMLuEz"
      },
      "source": [
        "### Plot Market Data "
      ]
    },
    {
      "cell_type": "code",
      "metadata": {
        "id": "SDsxcAxzLuj5",
        "outputId": "2bdadb48-164a-4f9e-c0d5-f3aa44939ad0",
        "colab": {
          "base_uri": "https://localhost:8080/",
          "height": 198
        }
      },
      "source": [
        "stock_data.head()"
      ],
      "execution_count": 82,
      "outputs": [
        {
          "output_type": "execute_result",
          "data": {
            "text/html": [
              "<div>\n",
              "<style scoped>\n",
              "    .dataframe tbody tr th:only-of-type {\n",
              "        vertical-align: middle;\n",
              "    }\n",
              "\n",
              "    .dataframe tbody tr th {\n",
              "        vertical-align: top;\n",
              "    }\n",
              "\n",
              "    .dataframe thead th {\n",
              "        text-align: right;\n",
              "    }\n",
              "</style>\n",
              "<table border=\"1\" class=\"dataframe\">\n",
              "  <thead>\n",
              "    <tr style=\"text-align: right;\">\n",
              "      <th></th>\n",
              "      <th>Date</th>\n",
              "      <th>Open</th>\n",
              "      <th>High</th>\n",
              "      <th>Low</th>\n",
              "      <th>Close</th>\n",
              "      <th>Adj Close</th>\n",
              "      <th>Volume</th>\n",
              "    </tr>\n",
              "  </thead>\n",
              "  <tbody>\n",
              "    <tr>\n",
              "      <th>0</th>\n",
              "      <td>2016-11-08</td>\n",
              "      <td>65.440002</td>\n",
              "      <td>65.570000</td>\n",
              "      <td>64.190002</td>\n",
              "      <td>65.379997</td>\n",
              "      <td>60.622059</td>\n",
              "      <td>666500</td>\n",
              "    </tr>\n",
              "    <tr>\n",
              "      <th>1</th>\n",
              "      <td>2016-11-09</td>\n",
              "      <td>65.209999</td>\n",
              "      <td>67.139999</td>\n",
              "      <td>64.690002</td>\n",
              "      <td>66.930000</td>\n",
              "      <td>62.059265</td>\n",
              "      <td>1034000</td>\n",
              "    </tr>\n",
              "    <tr>\n",
              "      <th>2</th>\n",
              "      <td>2016-11-10</td>\n",
              "      <td>67.489998</td>\n",
              "      <td>68.290001</td>\n",
              "      <td>66.889999</td>\n",
              "      <td>67.099998</td>\n",
              "      <td>62.216900</td>\n",
              "      <td>1211200</td>\n",
              "    </tr>\n",
              "    <tr>\n",
              "      <th>3</th>\n",
              "      <td>2016-11-11</td>\n",
              "      <td>66.980003</td>\n",
              "      <td>67.320000</td>\n",
              "      <td>65.870003</td>\n",
              "      <td>66.440002</td>\n",
              "      <td>61.604923</td>\n",
              "      <td>889400</td>\n",
              "    </tr>\n",
              "    <tr>\n",
              "      <th>4</th>\n",
              "      <td>2016-11-14</td>\n",
              "      <td>66.620003</td>\n",
              "      <td>66.660004</td>\n",
              "      <td>64.570000</td>\n",
              "      <td>64.730003</td>\n",
              "      <td>60.019367</td>\n",
              "      <td>1413300</td>\n",
              "    </tr>\n",
              "  </tbody>\n",
              "</table>\n",
              "</div>"
            ],
            "text/plain": [
              "        Date       Open       High        Low      Close  Adj Close   Volume\n",
              "0 2016-11-08  65.440002  65.570000  64.190002  65.379997  60.622059   666500\n",
              "1 2016-11-09  65.209999  67.139999  64.690002  66.930000  62.059265  1034000\n",
              "2 2016-11-10  67.489998  68.290001  66.889999  67.099998  62.216900  1211200\n",
              "3 2016-11-11  66.980003  67.320000  65.870003  66.440002  61.604923   889400\n",
              "4 2016-11-14  66.620003  66.660004  64.570000  64.730003  60.019367  1413300"
            ]
          },
          "metadata": {
            "tags": []
          },
          "execution_count": 82
        }
      ]
    },
    {
      "cell_type": "code",
      "metadata": {
        "id": "W1aBwAqhN4lI",
        "outputId": "478a1eb1-86cb-4a7b-b99b-da1956737bfe",
        "colab": {
          "base_uri": "https://localhost:8080/",
          "height": 649
        }
      },
      "source": [
        "fig = plt.figure(figsize=(15,10))\n",
        "ax1 = fig.add_subplot(2,1,1)\n",
        "ax2 = fig.add_subplot(2,1,2)\n",
        "ax1.plot(stock_data['Date'], stock_data['Open'])\n",
        "ax1.set_title('Market Open Price')\n",
        "ax2.plot(stock_data['Date'], stock_data['Close'])\n",
        "ax2.set_title('Market Close Price')\n",
        "plt.show()"
      ],
      "execution_count": 92,
      "outputs": [
        {
          "output_type": "display_data",
          "data": {
            "image/png": "[encoded data removed]",
            "text/plain": [
              "<Figure size 1080x720 with 2 Axes>"
            ]
          },
          "metadata": {
            "tags": []
          }
        }
      ]
    },
    {
      "cell_type": "markdown",
      "metadata": {
        "id": "ff5YfwhpWesx"
      },
      "source": [
        "Calculate Moving Average"
      ]
    },
    {
      "cell_type": "code",
      "metadata": {
        "id": "Fnr4Hh43U29Q"
      },
      "source": [
        "stock_data[\"SMA1\"] = stock_data['Close'].rolling(window=50).mean()\n",
        "stock_data[\"SMA2\"] = stock_data['Close'].rolling(window=200).mean()"
      ],
      "execution_count": 93,
      "outputs": []
    },
    {
      "cell_type": "code",
      "metadata": {
        "id": "hf99YiQXU5Xc",
        "outputId": "a8c1cbc9-b54d-497c-b50f-b012f1008f54",
        "colab": {
          "base_uri": "https://localhost:8080/",
          "height": 649
        }
      },
      "source": [
        "plt.figure(figsize=(10,10))\n",
        "plt.plot(stock_data['Date'], stock_data['SMA1'], 'g--', label=\"SMA1\")\n",
        "plt.plot(stock_data['Date'], stock_data['SMA2'], 'r--', label=\"SMA2\")\n",
        "plt.plot(stock_data['Date'], stock_data['Close'], color='black', label=\"Close\")\n",
        "plt.title(\"Moving Average\")\n",
        "plt.plot()\n",
        "plt.legend()\n",
        "plt.show()"
      ],
      "execution_count": 98,
      "outputs": [
        {
          "output_type": "display_data",
          "data": {
            "image/png": "[encoded data removed]",
            "text/plain": [
              "<Figure size 720x720 with 1 Axes>"
            ]
          },
          "metadata": {
            "tags": []
          }
        }
      ]
    },
    {
      "cell_type": "markdown",
      "metadata": {
        "id": "-rJQxlso_S8m"
      },
      "source": [
        "## Sentiment Analysis"
      ]
    },
    {
      "cell_type": "code",
      "metadata": {
        "id": "3PA1UXkgCvyc"
      },
      "source": [
        "from textblob import TextBlob\n",
        "from wordcloud import WordCloud"
      ],
      "execution_count": null,
      "outputs": []
    },
    {
      "cell_type": "code",
      "metadata": {
        "id": "rWVTvOWGn7hV",
        "outputId": "edddb60b-420f-4cc9-a5a6-e960827e24d1",
        "colab": {
          "base_uri": "https://localhost:8080/",
          "height": 1000
        }
      },
      "source": [
        "# Create a function to get the subjectivity\n",
        "def getSubjectivity(text):\n",
        "   return TextBlob(text).sentiment.subjectivity\n",
        "\n",
        "# Create a function to get the polarity\n",
        "def getPolarity(text):\n",
        "   return  TextBlob(text).sentiment.polarity\n",
        "\n",
        "\n",
        "# Create two new columns 'Subjectivity' & 'Polarity'\n",
        "tweets['Subjectivity'] = tweet.apply(getSubjectivity)\n",
        "tweets['Polarity'] = tweet.apply(getPolarity)\n",
        "\n",
        "# Show the new dataframe with columns 'Subjectivity' & 'Polarity'\n",
        "tweets"
      ],
      "execution_count": null,
      "outputs": [
        {
          "output_type": "stream",
          "text": [
            "/usr/local/lib/python3.6/dist-packages/ipykernel_launcher.py:11: SettingWithCopyWarning: \n",
            "A value is trying to be set on a copy of a slice from a DataFrame.\n",
            "Try using .loc[row_indexer,col_indexer] = value instead\n",
            "\n",
            "See the caveats in the documentation: https://pandas.pydata.org/pandas-docs/stable/user_guide/indexing.html#returning-a-view-versus-a-copy\n",
            "  # This is added back by InteractiveShellApp.init_path()\n",
            "/usr/local/lib/python3.6/dist-packages/ipykernel_launcher.py:12: SettingWithCopyWarning: \n",
            "A value is trying to be set on a copy of a slice from a DataFrame.\n",
            "Try using .loc[row_indexer,col_indexer] = value instead\n",
            "\n",
            "See the caveats in the documentation: https://pandas.pydata.org/pandas-docs/stable/user_guide/indexing.html#returning-a-view-versus-a-copy\n",
            "  if sys.path[0] == '':\n"
          ],
          "name": "stderr"
        },
        {
          "output_type": "execute_result",
          "data": {
            "text/html": [
              "<div>\n",
              "<style scoped>\n",
              "    .dataframe tbody tr th:only-of-type {\n",
              "        vertical-align: middle;\n",
              "    }\n",
              "\n",
              "    .dataframe tbody tr th {\n",
              "        vertical-align: top;\n",
              "    }\n",
              "\n",
              "    .dataframe thead th {\n",
              "        text-align: right;\n",
              "    }\n",
              "</style>\n",
              "<table border=\"1\" class=\"dataframe\">\n",
              "  <thead>\n",
              "    <tr style=\"text-align: right;\">\n",
              "      <th></th>\n",
              "      <th>id</th>\n",
              "      <th>content</th>\n",
              "      <th>retweets</th>\n",
              "      <th>favorites</th>\n",
              "      <th>Time</th>\n",
              "      <th>Date</th>\n",
              "      <th>Day</th>\n",
              "      <th>Month</th>\n",
              "      <th>Year</th>\n",
              "      <th>Month_Year</th>\n",
              "      <th>Subjectivity</th>\n",
              "      <th>Polarity</th>\n",
              "    </tr>\n",
              "  </thead>\n",
              "  <tbody>\n",
              "    <tr>\n",
              "      <th>30889</th>\n",
              "      <td>795770006306861057</td>\n",
              "      <td>LIVE on  Periscope Join me for a few minutes i...</td>\n",
              "      <td>8765</td>\n",
              "      <td>27429</td>\n",
              "      <td>00:28:48</td>\n",
              "      <td>2016-11-08</td>\n",
              "      <td>8</td>\n",
              "      <td>11</td>\n",
              "      <td>2016</td>\n",
              "      <td>11-2016</td>\n",
              "      <td>0.300000</td>\n",
              "      <td>-0.031818</td>\n",
              "    </tr>\n",
              "    <tr>\n",
              "      <th>30890</th>\n",
              "      <td>795779987152523264</td>\n",
              "      <td>Thank you Pennsylvania Going to New Hampshire ...</td>\n",
              "      <td>7743</td>\n",
              "      <td>25771</td>\n",
              "      <td>01:08:28</td>\n",
              "      <td>2016-11-08</td>\n",
              "      <td>8</td>\n",
              "      <td>11</td>\n",
              "      <td>2016</td>\n",
              "      <td>11-2016</td>\n",
              "      <td>0.277273</td>\n",
              "      <td>0.068182</td>\n",
              "    </tr>\n",
              "    <tr>\n",
              "      <th>30891</th>\n",
              "      <td>795781945607278592</td>\n",
              "      <td>Today in Florida I pledged to stand with the p...</td>\n",
              "      <td>12110</td>\n",
              "      <td>32433</td>\n",
              "      <td>01:16:15</td>\n",
              "      <td>2016-11-08</td>\n",
              "      <td>8</td>\n",
              "      <td>11</td>\n",
              "      <td>2016</td>\n",
              "      <td>11-2016</td>\n",
              "      <td>0.000000</td>\n",
              "      <td>0.000000</td>\n",
              "    </tr>\n",
              "    <tr>\n",
              "      <th>30892</th>\n",
              "      <td>795782371895349250</td>\n",
              "      <td>Big news to share in New Hampshire tonight Pol...</td>\n",
              "      <td>11281</td>\n",
              "      <td>38360</td>\n",
              "      <td>01:17:57</td>\n",
              "      <td>2016-11-08</td>\n",
              "      <td>8</td>\n",
              "      <td>11</td>\n",
              "      <td>2016</td>\n",
              "      <td>11-2016</td>\n",
              "      <td>0.326136</td>\n",
              "      <td>0.234091</td>\n",
              "    </tr>\n",
              "    <tr>\n",
              "      <th>30893</th>\n",
              "      <td>795834203430645760</td>\n",
              "      <td>Unbelievable evening in New Hampshire  THANK Y...</td>\n",
              "      <td>7796</td>\n",
              "      <td>28222</td>\n",
              "      <td>04:43:54</td>\n",
              "      <td>2016-11-08</td>\n",
              "      <td>8</td>\n",
              "      <td>11</td>\n",
              "      <td>2016</td>\n",
              "      <td>11-2016</td>\n",
              "      <td>0.818182</td>\n",
              "      <td>0.128788</td>\n",
              "    </tr>\n",
              "    <tr>\n",
              "      <th>...</th>\n",
              "      <td>...</td>\n",
              "      <td>...</td>\n",
              "      <td>...</td>\n",
              "      <td>...</td>\n",
              "      <td>...</td>\n",
              "      <td>...</td>\n",
              "      <td>...</td>\n",
              "      <td>...</td>\n",
              "      <td>...</td>\n",
              "      <td>...</td>\n",
              "      <td>...</td>\n",
              "      <td>...</td>\n",
              "    </tr>\n",
              "    <tr>\n",
              "      <th>41117</th>\n",
              "      <td>1218962544372670467</td>\n",
              "      <td>I have never seen the Republican Party as Stro...</td>\n",
              "      <td>32620</td>\n",
              "      <td>213817</td>\n",
              "      <td>19:24:52</td>\n",
              "      <td>2020-01-19</td>\n",
              "      <td>19</td>\n",
              "      <td>1</td>\n",
              "      <td>2020</td>\n",
              "      <td>1-2020</td>\n",
              "      <td>0.634524</td>\n",
              "      <td>0.359524</td>\n",
              "    </tr>\n",
              "    <tr>\n",
              "      <th>41118</th>\n",
              "      <td>1219004689716412416</td>\n",
              "      <td>Now Mini Mike Bloomberg is critical of Jack Wi...</td>\n",
              "      <td>36239</td>\n",
              "      <td>149571</td>\n",
              "      <td>22:12:20</td>\n",
              "      <td>2020-01-19</td>\n",
              "      <td>19</td>\n",
              "      <td>1</td>\n",
              "      <td>2020</td>\n",
              "      <td>1-2020</td>\n",
              "      <td>0.450000</td>\n",
              "      <td>-0.175000</td>\n",
              "    </tr>\n",
              "    <tr>\n",
              "      <th>41119</th>\n",
              "      <td>1219053709428248576</td>\n",
              "      <td>I was thrilled to be back in the Great State o...</td>\n",
              "      <td>16588</td>\n",
              "      <td>66944</td>\n",
              "      <td>01:27:07</td>\n",
              "      <td>2020-01-20</td>\n",
              "      <td>20</td>\n",
              "      <td>1</td>\n",
              "      <td>2020</td>\n",
              "      <td>1-2020</td>\n",
              "      <td>0.678571</td>\n",
              "      <td>0.382540</td>\n",
              "    </tr>\n",
              "    <tr>\n",
              "      <th>41120</th>\n",
              "      <td>1219066007731310593</td>\n",
              "      <td>In the House the President got less due proces...</td>\n",
              "      <td>20599</td>\n",
              "      <td>81921</td>\n",
              "      <td>02:16:00</td>\n",
              "      <td>2020-01-20</td>\n",
              "      <td>20</td>\n",
              "      <td>1</td>\n",
              "      <td>2020</td>\n",
              "      <td>1-2020</td>\n",
              "      <td>0.425417</td>\n",
              "      <td>-0.132917</td>\n",
              "    </tr>\n",
              "    <tr>\n",
              "      <th>41121</th>\n",
              "      <td>1219076533354037249</td>\n",
              "      <td>A great show Check it out tonight at 9pm  FoxN...</td>\n",
              "      <td>7947</td>\n",
              "      <td>34902</td>\n",
              "      <td>02:57:49</td>\n",
              "      <td>2020-01-20</td>\n",
              "      <td>20</td>\n",
              "      <td>1</td>\n",
              "      <td>2020</td>\n",
              "      <td>1-2020</td>\n",
              "      <td>0.750000</td>\n",
              "      <td>0.800000</td>\n",
              "    </tr>\n",
              "  </tbody>\n",
              "</table>\n",
              "<p>10233 rows × 12 columns</p>\n",
              "</div>"
            ],
            "text/plain": [
              "                        id  ...  Polarity\n",
              "30889   795770006306861057  ... -0.031818\n",
              "30890   795779987152523264  ...  0.068182\n",
              "30891   795781945607278592  ...  0.000000\n",
              "30892   795782371895349250  ...  0.234091\n",
              "30893   795834203430645760  ...  0.128788\n",
              "...                    ...  ...       ...\n",
              "41117  1218962544372670467  ...  0.359524\n",
              "41118  1219004689716412416  ... -0.175000\n",
              "41119  1219053709428248576  ...  0.382540\n",
              "41120  1219066007731310593  ... -0.132917\n",
              "41121  1219076533354037249  ...  0.800000\n",
              "\n",
              "[10233 rows x 12 columns]"
            ]
          },
          "metadata": {
            "tags": []
          },
          "execution_count": 43
        }
      ]
    },
    {
      "cell_type": "code",
      "metadata": {
        "id": "43cpogUzEyaF",
        "outputId": "5a36254c-515b-4e00-dbab-73b01f427a40",
        "colab": {
          "base_uri": "https://localhost:8080/",
          "height": 256
        }
      },
      "source": [
        "# word cloud visualization\n",
        "allWords = ' '.join([twts for twts in tweet])\n",
        "wordCloud = WordCloud(width=500, height=300, random_state=21, max_font_size=110).generate(allWords)\n",
        "\n",
        "plt.imshow(wordCloud, interpolation=\"bilinear\")\n",
        "plt.axis('off')\n",
        "plt.show()"
      ],
      "execution_count": null,
      "outputs": [
        {
          "output_type": "display_data",
          "data": {
            "image/png": "[encoded data removed]",
            "text/plain": [
              "<Figure size 432x288 with 1 Axes>"
            ]
          },
          "metadata": {
            "tags": []
          }
        }
      ]
    },
    {
      "cell_type": "code",
      "metadata": {
        "id": "dqudOeqcFXPw",
        "outputId": "3f42c867-fcff-4a8a-a737-4a70c249557f",
        "colab": {
          "base_uri": "https://localhost:8080/",
          "height": 1000
        }
      },
      "source": [
        "def getAnalysis(score):\n",
        "  if score < 0:\n",
        "    return 'Negative'\n",
        "  elif score == 0:\n",
        "    return 'Neutral'\n",
        "  else:\n",
        "    return 'Positive'\n",
        "\n",
        "tweets['Analysis'] = tweets['Polarity'].apply(getAnalysis)# Show the dataframe\n",
        "tweets"
      ],
      "execution_count": null,
      "outputs": [
        {
          "output_type": "stream",
          "text": [
            "/usr/local/lib/python3.6/dist-packages/ipykernel_launcher.py:9: SettingWithCopyWarning: \n",
            "A value is trying to be set on a copy of a slice from a DataFrame.\n",
            "Try using .loc[row_indexer,col_indexer] = value instead\n",
            "\n",
            "See the caveats in the documentation: https://pandas.pydata.org/pandas-docs/stable/user_guide/indexing.html#returning-a-view-versus-a-copy\n",
            "  if __name__ == '__main__':\n"
          ],
          "name": "stderr"
        },
        {
          "output_type": "execute_result",
          "data": {
            "text/html": [
              "<div>\n",
              "<style scoped>\n",
              "    .dataframe tbody tr th:only-of-type {\n",
              "        vertical-align: middle;\n",
              "    }\n",
              "\n",
              "    .dataframe tbody tr th {\n",
              "        vertical-align: top;\n",
              "    }\n",
              "\n",
              "    .dataframe thead th {\n",
              "        text-align: right;\n",
              "    }\n",
              "</style>\n",
              "<table border=\"1\" class=\"dataframe\">\n",
              "  <thead>\n",
              "    <tr style=\"text-align: right;\">\n",
              "      <th></th>\n",
              "      <th>id</th>\n",
              "      <th>content</th>\n",
              "      <th>retweets</th>\n",
              "      <th>favorites</th>\n",
              "      <th>Time</th>\n",
              "      <th>Date</th>\n",
              "      <th>Day</th>\n",
              "      <th>Month</th>\n",
              "      <th>Year</th>\n",
              "      <th>Month_Year</th>\n",
              "      <th>Subjectivity</th>\n",
              "      <th>Polarity</th>\n",
              "      <th>Analysis</th>\n",
              "    </tr>\n",
              "  </thead>\n",
              "  <tbody>\n",
              "    <tr>\n",
              "      <th>30889</th>\n",
              "      <td>795770006306861057</td>\n",
              "      <td>LIVE on  Periscope Join me for a few minutes i...</td>\n",
              "      <td>8765</td>\n",
              "      <td>27429</td>\n",
              "      <td>00:28:48</td>\n",
              "      <td>2016-11-08</td>\n",
              "      <td>8</td>\n",
              "      <td>11</td>\n",
              "      <td>2016</td>\n",
              "      <td>11-2016</td>\n",
              "      <td>0.300000</td>\n",
              "      <td>-0.031818</td>\n",
              "      <td>Negative</td>\n",
              "    </tr>\n",
              "    <tr>\n",
              "      <th>30890</th>\n",
              "      <td>795779987152523264</td>\n",
              "      <td>Thank you Pennsylvania Going to New Hampshire ...</td>\n",
              "      <td>7743</td>\n",
              "      <td>25771</td>\n",
              "      <td>01:08:28</td>\n",
              "      <td>2016-11-08</td>\n",
              "      <td>8</td>\n",
              "      <td>11</td>\n",
              "      <td>2016</td>\n",
              "      <td>11-2016</td>\n",
              "      <td>0.277273</td>\n",
              "      <td>0.068182</td>\n",
              "      <td>Positive</td>\n",
              "    </tr>\n",
              "    <tr>\n",
              "      <th>30891</th>\n",
              "      <td>795781945607278592</td>\n",
              "      <td>Today in Florida I pledged to stand with the p...</td>\n",
              "      <td>12110</td>\n",
              "      <td>32433</td>\n",
              "      <td>01:16:15</td>\n",
              "      <td>2016-11-08</td>\n",
              "      <td>8</td>\n",
              "      <td>11</td>\n",
              "      <td>2016</td>\n",
              "      <td>11-2016</td>\n",
              "      <td>0.000000</td>\n",
              "      <td>0.000000</td>\n",
              "      <td>Neutral</td>\n",
              "    </tr>\n",
              "    <tr>\n",
              "      <th>30892</th>\n",
              "      <td>795782371895349250</td>\n",
              "      <td>Big news to share in New Hampshire tonight Pol...</td>\n",
              "      <td>11281</td>\n",
              "      <td>38360</td>\n",
              "      <td>01:17:57</td>\n",
              "      <td>2016-11-08</td>\n",
              "      <td>8</td>\n",
              "      <td>11</td>\n",
              "      <td>2016</td>\n",
              "      <td>11-2016</td>\n",
              "      <td>0.326136</td>\n",
              "      <td>0.234091</td>\n",
              "      <td>Positive</td>\n",
              "    </tr>\n",
              "    <tr>\n",
              "      <th>30893</th>\n",
              "      <td>795834203430645760</td>\n",
              "      <td>Unbelievable evening in New Hampshire  THANK Y...</td>\n",
              "      <td>7796</td>\n",
              "      <td>28222</td>\n",
              "      <td>04:43:54</td>\n",
              "      <td>2016-11-08</td>\n",
              "      <td>8</td>\n",
              "      <td>11</td>\n",
              "      <td>2016</td>\n",
              "      <td>11-2016</td>\n",
              "      <td>0.818182</td>\n",
              "      <td>0.128788</td>\n",
              "      <td>Positive</td>\n",
              "    </tr>\n",
              "    <tr>\n",
              "      <th>...</th>\n",
              "      <td>...</td>\n",
              "      <td>...</td>\n",
              "      <td>...</td>\n",
              "      <td>...</td>\n",
              "      <td>...</td>\n",
              "      <td>...</td>\n",
              "      <td>...</td>\n",
              "      <td>...</td>\n",
              "      <td>...</td>\n",
              "      <td>...</td>\n",
              "      <td>...</td>\n",
              "      <td>...</td>\n",
              "      <td>...</td>\n",
              "    </tr>\n",
              "    <tr>\n",
              "      <th>41117</th>\n",
              "      <td>1218962544372670467</td>\n",
              "      <td>I have never seen the Republican Party as Stro...</td>\n",
              "      <td>32620</td>\n",
              "      <td>213817</td>\n",
              "      <td>19:24:52</td>\n",
              "      <td>2020-01-19</td>\n",
              "      <td>19</td>\n",
              "      <td>1</td>\n",
              "      <td>2020</td>\n",
              "      <td>1-2020</td>\n",
              "      <td>0.634524</td>\n",
              "      <td>0.359524</td>\n",
              "      <td>Positive</td>\n",
              "    </tr>\n",
              "    <tr>\n",
              "      <th>41118</th>\n",
              "      <td>1219004689716412416</td>\n",
              "      <td>Now Mini Mike Bloomberg is critical of Jack Wi...</td>\n",
              "      <td>36239</td>\n",
              "      <td>149571</td>\n",
              "      <td>22:12:20</td>\n",
              "      <td>2020-01-19</td>\n",
              "      <td>19</td>\n",
              "      <td>1</td>\n",
              "      <td>2020</td>\n",
              "      <td>1-2020</td>\n",
              "      <td>0.450000</td>\n",
              "      <td>-0.175000</td>\n",
              "      <td>Negative</td>\n",
              "    </tr>\n",
              "    <tr>\n",
              "      <th>41119</th>\n",
              "      <td>1219053709428248576</td>\n",
              "      <td>I was thrilled to be back in the Great State o...</td>\n",
              "      <td>16588</td>\n",
              "      <td>66944</td>\n",
              "      <td>01:27:07</td>\n",
              "      <td>2020-01-20</td>\n",
              "      <td>20</td>\n",
              "      <td>1</td>\n",
              "      <td>2020</td>\n",
              "      <td>1-2020</td>\n",
              "      <td>0.678571</td>\n",
              "      <td>0.382540</td>\n",
              "      <td>Positive</td>\n",
              "    </tr>\n",
              "    <tr>\n",
              "      <th>41120</th>\n",
              "      <td>1219066007731310593</td>\n",
              "      <td>In the House the President got less due proces...</td>\n",
              "      <td>20599</td>\n",
              "      <td>81921</td>\n",
              "      <td>02:16:00</td>\n",
              "      <td>2020-01-20</td>\n",
              "      <td>20</td>\n",
              "      <td>1</td>\n",
              "      <td>2020</td>\n",
              "      <td>1-2020</td>\n",
              "      <td>0.425417</td>\n",
              "      <td>-0.132917</td>\n",
              "      <td>Negative</td>\n",
              "    </tr>\n",
              "    <tr>\n",
              "      <th>41121</th>\n",
              "      <td>1219076533354037249</td>\n",
              "      <td>A great show Check it out tonight at 9pm  FoxN...</td>\n",
              "      <td>7947</td>\n",
              "      <td>34902</td>\n",
              "      <td>02:57:49</td>\n",
              "      <td>2020-01-20</td>\n",
              "      <td>20</td>\n",
              "      <td>1</td>\n",
              "      <td>2020</td>\n",
              "      <td>1-2020</td>\n",
              "      <td>0.750000</td>\n",
              "      <td>0.800000</td>\n",
              "      <td>Positive</td>\n",
              "    </tr>\n",
              "  </tbody>\n",
              "</table>\n",
              "<p>10233 rows × 13 columns</p>\n",
              "</div>"
            ],
            "text/plain": [
              "                        id  ...  Analysis\n",
              "30889   795770006306861057  ...  Negative\n",
              "30890   795779987152523264  ...  Positive\n",
              "30891   795781945607278592  ...   Neutral\n",
              "30892   795782371895349250  ...  Positive\n",
              "30893   795834203430645760  ...  Positive\n",
              "...                    ...  ...       ...\n",
              "41117  1218962544372670467  ...  Positive\n",
              "41118  1219004689716412416  ...  Negative\n",
              "41119  1219053709428248576  ...  Positive\n",
              "41120  1219066007731310593  ...  Negative\n",
              "41121  1219076533354037249  ...  Positive\n",
              "\n",
              "[10233 rows x 13 columns]"
            ]
          },
          "metadata": {
            "tags": []
          },
          "execution_count": 45
        }
      ]
    },
    {
      "cell_type": "code",
      "metadata": {
        "id": "uTsmCeiRJxEA"
      },
      "source": [
        ""
      ],
      "execution_count": null,
      "outputs": []
    }
  ]
}