{
  "nbformat": 4,
  "nbformat_minor": 0,
  "metadata": {
    "colab": {
      "name": "Analysis of Financial Markets based on President Trump's Tweets.ipynb",
      "provenance": [],
      "toc_visible": true
    },
    "kernelspec": {
      "name": "python3",
      "display_name": "Python 3"
    }
  },
  "cells": [
    {
      "cell_type": "markdown",
      "metadata": {
        "id": "ROMGhF7rMA5A"
      },
      "source": [
        "# Analysis of Financial Markets based on President Trump's Tweets"
      ]
    },
    {
      "cell_type": "markdown",
      "metadata": {
        "id": "bXn_tV83MWDf"
      },
      "source": [
        "## Data Preprocessing"
      ]
    },
    {
      "cell_type": "markdown",
      "metadata": {
        "id": "mgzRCu-FGqFT"
      },
      "source": [
        "### Importing Data"
      ]
    },
    {
      "cell_type": "code",
      "metadata": {
        "id": "_M2pnc_dMo_0"
      },
      "source": [
        "!pip install -q kaggle"
      ],
      "execution_count": 1,
      "outputs": []
    },
    {
      "cell_type": "code",
      "metadata": {
        "id": "dWSxK2PmDlih"
      },
      "source": [
        "# Upload kaggle.json file containing your API key\n",
        "from google.colab import files\n",
        "files.upload()"
      ],
      "execution_count": null,
      "outputs": []
    },
    {
      "cell_type": "code",
      "metadata": {
        "id": "IE8U9jcbDlYb"
      },
      "source": [
        "!mkdir ~/.kaggle "
      ],
      "execution_count": 3,
      "outputs": []
    },
    {
      "cell_type": "code",
      "metadata": {
        "id": "8DGSg0MqDlPZ"
      },
      "source": [
        "!cp kaggle.json ~/.kaggle/"
      ],
      "execution_count": 4,
      "outputs": []
    },
    {
      "cell_type": "code",
      "metadata": {
        "id": "Nllv8f7wDlIT"
      },
      "source": [
        "! chmod 600 ~/.kaggle/kaggle.json"
      ],
      "execution_count": 5,
      "outputs": []
    },
    {
      "cell_type": "code",
      "metadata": {
        "id": "IdfNuhLlDk3C"
      },
      "source": [
        "# Check to see if the API is working correctly \n",
        "# ! kaggle datasets list"
      ],
      "execution_count": null,
      "outputs": []
    },
    {
      "cell_type": "code",
      "metadata": {
        "id": "CHuIyg52E-TW",
        "outputId": "1f8dd41e-217d-4f4d-f62c-0048d42f6ac4",
        "colab": {
          "base_uri": "https://localhost:8080/",
          "height": 72
        }
      },
      "source": [
        "! kaggle datasets download -d austinreese/trump-tweets"
      ],
      "execution_count": 6,
      "outputs": [
        {
          "output_type": "stream",
          "text": [
            "Downloading trump-tweets.zip to /content\n",
            " 73% 5.00M/6.88M [00:00<00:00, 15.2MB/s]\n",
            "100% 6.88M/6.88M [00:00<00:00, 19.8MB/s]\n"
          ],
          "name": "stdout"
        }
      ]
    },
    {
      "cell_type": "code",
      "metadata": {
        "id": "zKHNkzvcnu9T"
      },
      "source": [
        "! pip install yfinance"
      ],
      "execution_count": null,
      "outputs": []
    },
    {
      "cell_type": "markdown",
      "metadata": {
        "id": "uNfK8sCXGw55"
      },
      "source": [
        "### Data Cleaning"
      ]
    },
    {
      "cell_type": "code",
      "metadata": {
        "id": "d8v2ZLENL8D9"
      },
      "source": [
        "import pandas as pd\n",
        "import numpy as np\n",
        "from zipfile import ZipFile"
      ],
      "execution_count": 8,
      "outputs": []
    },
    {
      "cell_type": "markdown",
      "metadata": {
        "id": "VRDswxwgsXg2"
      },
      "source": [
        "#### Twitter Data"
      ]
    },
    {
      "cell_type": "code",
      "metadata": {
        "id": "Pxr9sendFwme",
        "outputId": "35294b06-f569-455f-d5a5-8f6cbc70c5be",
        "colab": {
          "base_uri": "https://localhost:8080/",
          "height": 198
        }
      },
      "source": [
        "data = ZipFile(\"/content/trump-tweets.zip\")\n",
        "trump_tweets = pd.read_csv(data.open('trumptweets.csv'))\n",
        "trump_tweets.head()"
      ],
      "execution_count": 9,
      "outputs": [
        {
          "output_type": "execute_result",
          "data": {
            "text/html": [
              "<div>\n",
              "<style scoped>\n",
              "    .dataframe tbody tr th:only-of-type {\n",
              "        vertical-align: middle;\n",
              "    }\n",
              "\n",
              "    .dataframe tbody tr th {\n",
              "        vertical-align: top;\n",
              "    }\n",
              "\n",
              "    .dataframe thead th {\n",
              "        text-align: right;\n",
              "    }\n",
              "</style>\n",
              "<table border=\"1\" class=\"dataframe\">\n",
              "  <thead>\n",
              "    <tr style=\"text-align: right;\">\n",
              "      <th></th>\n",
              "      <th>id</th>\n",
              "      <th>link</th>\n",
              "      <th>content</th>\n",
              "      <th>date</th>\n",
              "      <th>retweets</th>\n",
              "      <th>favorites</th>\n",
              "      <th>mentions</th>\n",
              "      <th>hashtags</th>\n",
              "      <th>geo</th>\n",
              "    </tr>\n",
              "  </thead>\n",
              "  <tbody>\n",
              "    <tr>\n",
              "      <th>0</th>\n",
              "      <td>1698308935</td>\n",
              "      <td>https://twitter.com/realDonaldTrump/status/169...</td>\n",
              "      <td>Be sure to tune in and watch Donald Trump on L...</td>\n",
              "      <td>2009-05-04 20:54:25</td>\n",
              "      <td>500</td>\n",
              "      <td>868</td>\n",
              "      <td>NaN</td>\n",
              "      <td>NaN</td>\n",
              "      <td>NaN</td>\n",
              "    </tr>\n",
              "    <tr>\n",
              "      <th>1</th>\n",
              "      <td>1701461182</td>\n",
              "      <td>https://twitter.com/realDonaldTrump/status/170...</td>\n",
              "      <td>Donald Trump will be appearing on The View tom...</td>\n",
              "      <td>2009-05-05 03:00:10</td>\n",
              "      <td>33</td>\n",
              "      <td>273</td>\n",
              "      <td>NaN</td>\n",
              "      <td>NaN</td>\n",
              "      <td>NaN</td>\n",
              "    </tr>\n",
              "    <tr>\n",
              "      <th>2</th>\n",
              "      <td>1737479987</td>\n",
              "      <td>https://twitter.com/realDonaldTrump/status/173...</td>\n",
              "      <td>Donald Trump reads Top Ten Financial Tips on L...</td>\n",
              "      <td>2009-05-08 15:38:08</td>\n",
              "      <td>12</td>\n",
              "      <td>18</td>\n",
              "      <td>NaN</td>\n",
              "      <td>NaN</td>\n",
              "      <td>NaN</td>\n",
              "    </tr>\n",
              "    <tr>\n",
              "      <th>3</th>\n",
              "      <td>1741160716</td>\n",
              "      <td>https://twitter.com/realDonaldTrump/status/174...</td>\n",
              "      <td>New Blog Post: Celebrity Apprentice Finale and...</td>\n",
              "      <td>2009-05-08 22:40:15</td>\n",
              "      <td>11</td>\n",
              "      <td>24</td>\n",
              "      <td>NaN</td>\n",
              "      <td>NaN</td>\n",
              "      <td>NaN</td>\n",
              "    </tr>\n",
              "    <tr>\n",
              "      <th>4</th>\n",
              "      <td>1773561338</td>\n",
              "      <td>https://twitter.com/realDonaldTrump/status/177...</td>\n",
              "      <td>\"My persona will never be that of a wallflower...</td>\n",
              "      <td>2009-05-12 16:07:28</td>\n",
              "      <td>1399</td>\n",
              "      <td>1965</td>\n",
              "      <td>NaN</td>\n",
              "      <td>NaN</td>\n",
              "      <td>NaN</td>\n",
              "    </tr>\n",
              "  </tbody>\n",
              "</table>\n",
              "</div>"
            ],
            "text/plain": [
              "           id                                               link  ... hashtags geo\n",
              "0  1698308935  https://twitter.com/realDonaldTrump/status/169...  ...      NaN NaN\n",
              "1  1701461182  https://twitter.com/realDonaldTrump/status/170...  ...      NaN NaN\n",
              "2  1737479987  https://twitter.com/realDonaldTrump/status/173...  ...      NaN NaN\n",
              "3  1741160716  https://twitter.com/realDonaldTrump/status/174...  ...      NaN NaN\n",
              "4  1773561338  https://twitter.com/realDonaldTrump/status/177...  ...      NaN NaN\n",
              "\n",
              "[5 rows x 9 columns]"
            ]
          },
          "metadata": {
            "tags": []
          },
          "execution_count": 9
        }
      ]
    },
    {
      "cell_type": "code",
      "metadata": {
        "id": "igqeNfvgJS6-",
        "outputId": "89bfdef8-5400-48f7-c895-a52c15ffb4a2",
        "colab": {
          "base_uri": "https://localhost:8080/",
          "height": 35
        }
      },
      "source": [
        "trump_tweets.shape"
      ],
      "execution_count": 10,
      "outputs": [
        {
          "output_type": "execute_result",
          "data": {
            "text/plain": [
              "(41122, 9)"
            ]
          },
          "metadata": {
            "tags": []
          },
          "execution_count": 10
        }
      ]
    },
    {
      "cell_type": "markdown",
      "metadata": {
        "id": "OMHFArhhJuuv"
      },
      "source": [
        "The dataframe shows that there are 41,122 rows and 9 columns. Three of these columns mention, hashtags, and geo are currenly showing NaN for the first five rows. "
      ]
    },
    {
      "cell_type": "code",
      "metadata": {
        "id": "k3gmWYbBKWIe",
        "outputId": "cb43abc6-2ecf-4771-d286-703e1ae40454",
        "colab": {
          "base_uri": "https://localhost:8080/",
          "height": 288
        }
      },
      "source": [
        "trump_tweets.describe()"
      ],
      "execution_count": 11,
      "outputs": [
        {
          "output_type": "execute_result",
          "data": {
            "text/html": [
              "<div>\n",
              "<style scoped>\n",
              "    .dataframe tbody tr th:only-of-type {\n",
              "        vertical-align: middle;\n",
              "    }\n",
              "\n",
              "    .dataframe tbody tr th {\n",
              "        vertical-align: top;\n",
              "    }\n",
              "\n",
              "    .dataframe thead th {\n",
              "        text-align: right;\n",
              "    }\n",
              "</style>\n",
              "<table border=\"1\" class=\"dataframe\">\n",
              "  <thead>\n",
              "    <tr style=\"text-align: right;\">\n",
              "      <th></th>\n",
              "      <th>id</th>\n",
              "      <th>retweets</th>\n",
              "      <th>favorites</th>\n",
              "      <th>geo</th>\n",
              "    </tr>\n",
              "  </thead>\n",
              "  <tbody>\n",
              "    <tr>\n",
              "      <th>count</th>\n",
              "      <td>4.112200e+04</td>\n",
              "      <td>41122.000000</td>\n",
              "      <td>41122.000000</td>\n",
              "      <td>0.0</td>\n",
              "    </tr>\n",
              "    <tr>\n",
              "      <th>mean</th>\n",
              "      <td>6.088909e+17</td>\n",
              "      <td>5455.590657</td>\n",
              "      <td>22356.899105</td>\n",
              "      <td>NaN</td>\n",
              "    </tr>\n",
              "    <tr>\n",
              "      <th>std</th>\n",
              "      <td>3.027946e+17</td>\n",
              "      <td>10130.076661</td>\n",
              "      <td>41501.859711</td>\n",
              "      <td>NaN</td>\n",
              "    </tr>\n",
              "    <tr>\n",
              "      <th>min</th>\n",
              "      <td>1.698309e+09</td>\n",
              "      <td>0.000000</td>\n",
              "      <td>0.000000</td>\n",
              "      <td>NaN</td>\n",
              "    </tr>\n",
              "    <tr>\n",
              "      <th>25%</th>\n",
              "      <td>3.549428e+17</td>\n",
              "      <td>25.000000</td>\n",
              "      <td>28.000000</td>\n",
              "      <td>NaN</td>\n",
              "    </tr>\n",
              "    <tr>\n",
              "      <th>50%</th>\n",
              "      <td>5.609149e+17</td>\n",
              "      <td>291.000000</td>\n",
              "      <td>247.000000</td>\n",
              "      <td>NaN</td>\n",
              "    </tr>\n",
              "    <tr>\n",
              "      <th>75%</th>\n",
              "      <td>7.941218e+17</td>\n",
              "      <td>8778.000000</td>\n",
              "      <td>32970.750000</td>\n",
              "      <td>NaN</td>\n",
              "    </tr>\n",
              "    <tr>\n",
              "      <th>max</th>\n",
              "      <td>1.219077e+18</td>\n",
              "      <td>309892.000000</td>\n",
              "      <td>857678.000000</td>\n",
              "      <td>NaN</td>\n",
              "    </tr>\n",
              "  </tbody>\n",
              "</table>\n",
              "</div>"
            ],
            "text/plain": [
              "                 id       retweets      favorites  geo\n",
              "count  4.112200e+04   41122.000000   41122.000000  0.0\n",
              "mean   6.088909e+17    5455.590657   22356.899105  NaN\n",
              "std    3.027946e+17   10130.076661   41501.859711  NaN\n",
              "min    1.698309e+09       0.000000       0.000000  NaN\n",
              "25%    3.549428e+17      25.000000      28.000000  NaN\n",
              "50%    5.609149e+17     291.000000     247.000000  NaN\n",
              "75%    7.941218e+17    8778.000000   32970.750000  NaN\n",
              "max    1.219077e+18  309892.000000  857678.000000  NaN"
            ]
          },
          "metadata": {
            "tags": []
          },
          "execution_count": 11
        }
      ]
    },
    {
      "cell_type": "code",
      "metadata": {
        "id": "HGVik1eoL_oM",
        "outputId": "59792fce-d4de-4efc-a96b-0ae94bb12d7a",
        "colab": {
          "base_uri": "https://localhost:8080/",
          "height": 407
        }
      },
      "source": [
        "#Remove NaN columns\n",
        "trump_tweets = trump_tweets.drop(labels=['mentions', 'hashtags', 'geo'], axis='columns')\n",
        "trump_tweets"
      ],
      "execution_count": 12,
      "outputs": [
        {
          "output_type": "execute_result",
          "data": {
            "text/html": [
              "<div>\n",
              "<style scoped>\n",
              "    .dataframe tbody tr th:only-of-type {\n",
              "        vertical-align: middle;\n",
              "    }\n",
              "\n",
              "    .dataframe tbody tr th {\n",
              "        vertical-align: top;\n",
              "    }\n",
              "\n",
              "    .dataframe thead th {\n",
              "        text-align: right;\n",
              "    }\n",
              "</style>\n",
              "<table border=\"1\" class=\"dataframe\">\n",
              "  <thead>\n",
              "    <tr style=\"text-align: right;\">\n",
              "      <th></th>\n",
              "      <th>id</th>\n",
              "      <th>link</th>\n",
              "      <th>content</th>\n",
              "      <th>date</th>\n",
              "      <th>retweets</th>\n",
              "      <th>favorites</th>\n",
              "    </tr>\n",
              "  </thead>\n",
              "  <tbody>\n",
              "    <tr>\n",
              "      <th>0</th>\n",
              "      <td>1698308935</td>\n",
              "      <td>https://twitter.com/realDonaldTrump/status/169...</td>\n",
              "      <td>Be sure to tune in and watch Donald Trump on L...</td>\n",
              "      <td>2009-05-04 20:54:25</td>\n",
              "      <td>500</td>\n",
              "      <td>868</td>\n",
              "    </tr>\n",
              "    <tr>\n",
              "      <th>1</th>\n",
              "      <td>1701461182</td>\n",
              "      <td>https://twitter.com/realDonaldTrump/status/170...</td>\n",
              "      <td>Donald Trump will be appearing on The View tom...</td>\n",
              "      <td>2009-05-05 03:00:10</td>\n",
              "      <td>33</td>\n",
              "      <td>273</td>\n",
              "    </tr>\n",
              "    <tr>\n",
              "      <th>2</th>\n",
              "      <td>1737479987</td>\n",
              "      <td>https://twitter.com/realDonaldTrump/status/173...</td>\n",
              "      <td>Donald Trump reads Top Ten Financial Tips on L...</td>\n",
              "      <td>2009-05-08 15:38:08</td>\n",
              "      <td>12</td>\n",
              "      <td>18</td>\n",
              "    </tr>\n",
              "    <tr>\n",
              "      <th>3</th>\n",
              "      <td>1741160716</td>\n",
              "      <td>https://twitter.com/realDonaldTrump/status/174...</td>\n",
              "      <td>New Blog Post: Celebrity Apprentice Finale and...</td>\n",
              "      <td>2009-05-08 22:40:15</td>\n",
              "      <td>11</td>\n",
              "      <td>24</td>\n",
              "    </tr>\n",
              "    <tr>\n",
              "      <th>4</th>\n",
              "      <td>1773561338</td>\n",
              "      <td>https://twitter.com/realDonaldTrump/status/177...</td>\n",
              "      <td>\"My persona will never be that of a wallflower...</td>\n",
              "      <td>2009-05-12 16:07:28</td>\n",
              "      <td>1399</td>\n",
              "      <td>1965</td>\n",
              "    </tr>\n",
              "    <tr>\n",
              "      <th>...</th>\n",
              "      <td>...</td>\n",
              "      <td>...</td>\n",
              "      <td>...</td>\n",
              "      <td>...</td>\n",
              "      <td>...</td>\n",
              "      <td>...</td>\n",
              "    </tr>\n",
              "    <tr>\n",
              "      <th>41117</th>\n",
              "      <td>1218962544372670467</td>\n",
              "      <td>https://twitter.com/realDonaldTrump/status/121...</td>\n",
              "      <td>I have never seen the Republican Party as Stro...</td>\n",
              "      <td>2020-01-19 19:24:52</td>\n",
              "      <td>32620</td>\n",
              "      <td>213817</td>\n",
              "    </tr>\n",
              "    <tr>\n",
              "      <th>41118</th>\n",
              "      <td>1219004689716412416</td>\n",
              "      <td>https://twitter.com/realDonaldTrump/status/121...</td>\n",
              "      <td>Now Mini Mike Bloomberg is critical of Jack Wi...</td>\n",
              "      <td>2020-01-19 22:12:20</td>\n",
              "      <td>36239</td>\n",
              "      <td>149571</td>\n",
              "    </tr>\n",
              "    <tr>\n",
              "      <th>41119</th>\n",
              "      <td>1219053709428248576</td>\n",
              "      <td>https://twitter.com/realDonaldTrump/status/121...</td>\n",
              "      <td>I was thrilled to be back in the Great State o...</td>\n",
              "      <td>2020-01-20 01:27:07</td>\n",
              "      <td>16588</td>\n",
              "      <td>66944</td>\n",
              "    </tr>\n",
              "    <tr>\n",
              "      <th>41120</th>\n",
              "      <td>1219066007731310593</td>\n",
              "      <td>https://twitter.com/realDonaldTrump/status/121...</td>\n",
              "      <td>“In the House, the President got less due proc...</td>\n",
              "      <td>2020-01-20 02:16:00</td>\n",
              "      <td>20599</td>\n",
              "      <td>81921</td>\n",
              "    </tr>\n",
              "    <tr>\n",
              "      <th>41121</th>\n",
              "      <td>1219076533354037249</td>\n",
              "      <td>https://twitter.com/realDonaldTrump/status/121...</td>\n",
              "      <td>A great show! Check it out tonight at 9pm. @ F...</td>\n",
              "      <td>2020-01-20 02:57:49</td>\n",
              "      <td>7947</td>\n",
              "      <td>34902</td>\n",
              "    </tr>\n",
              "  </tbody>\n",
              "</table>\n",
              "<p>41122 rows × 6 columns</p>\n",
              "</div>"
            ],
            "text/plain": [
              "                        id  ... favorites\n",
              "0               1698308935  ...       868\n",
              "1               1701461182  ...       273\n",
              "2               1737479987  ...        18\n",
              "3               1741160716  ...        24\n",
              "4               1773561338  ...      1965\n",
              "...                    ...  ...       ...\n",
              "41117  1218962544372670467  ...    213817\n",
              "41118  1219004689716412416  ...    149571\n",
              "41119  1219053709428248576  ...     66944\n",
              "41120  1219066007731310593  ...     81921\n",
              "41121  1219076533354037249  ...     34902\n",
              "\n",
              "[41122 rows x 6 columns]"
            ]
          },
          "metadata": {
            "tags": []
          },
          "execution_count": 12
        }
      ]
    },
    {
      "cell_type": "code",
      "metadata": {
        "id": "HB5eAktbO3Jk",
        "outputId": "db2da7b2-b2d2-421c-8e89-7531a343626b",
        "colab": {
          "base_uri": "https://localhost:8080/",
          "height": 145
        }
      },
      "source": [
        "trump_tweets.dtypes"
      ],
      "execution_count": 13,
      "outputs": [
        {
          "output_type": "execute_result",
          "data": {
            "text/plain": [
              "id            int64\n",
              "link         object\n",
              "content      object\n",
              "date         object\n",
              "retweets      int64\n",
              "favorites     int64\n",
              "dtype: object"
            ]
          },
          "metadata": {
            "tags": []
          },
          "execution_count": 13
        }
      ]
    },
    {
      "cell_type": "code",
      "metadata": {
        "id": "-kxy8gPaP8H0"
      },
      "source": [
        "# The date column is an object when it should be datetime\n",
        "trump_tweets['date'] = pd.to_datetime(trump_tweets['date'], format='%Y%m%d %H:%M:%S')"
      ],
      "execution_count": 14,
      "outputs": []
    },
    {
      "cell_type": "code",
      "metadata": {
        "id": "qdCweL3JMtsw"
      },
      "source": [
        "# Split the date column into 2 seperate columns\n",
        "trump_tweets['Time'],trump_tweets['Date']= trump_tweets['date'].apply(lambda x:x.time()), trump_tweets['date'].apply(lambda x:x.date())\n",
        "trump_tweets = trump_tweets.drop(labels='date',axis='columns')"
      ],
      "execution_count": 15,
      "outputs": []
    },
    {
      "cell_type": "code",
      "metadata": {
        "id": "mRjtuYLTRxWr",
        "outputId": "76b143a9-6b28-44b2-934d-5835aa09297e",
        "colab": {
          "base_uri": "https://localhost:8080/",
          "height": 198
        }
      },
      "source": [
        "trump_tweets.head()"
      ],
      "execution_count": 16,
      "outputs": [
        {
          "output_type": "execute_result",
          "data": {
            "text/html": [
              "<div>\n",
              "<style scoped>\n",
              "    .dataframe tbody tr th:only-of-type {\n",
              "        vertical-align: middle;\n",
              "    }\n",
              "\n",
              "    .dataframe tbody tr th {\n",
              "        vertical-align: top;\n",
              "    }\n",
              "\n",
              "    .dataframe thead th {\n",
              "        text-align: right;\n",
              "    }\n",
              "</style>\n",
              "<table border=\"1\" class=\"dataframe\">\n",
              "  <thead>\n",
              "    <tr style=\"text-align: right;\">\n",
              "      <th></th>\n",
              "      <th>id</th>\n",
              "      <th>link</th>\n",
              "      <th>content</th>\n",
              "      <th>retweets</th>\n",
              "      <th>favorites</th>\n",
              "      <th>Time</th>\n",
              "      <th>Date</th>\n",
              "    </tr>\n",
              "  </thead>\n",
              "  <tbody>\n",
              "    <tr>\n",
              "      <th>0</th>\n",
              "      <td>1698308935</td>\n",
              "      <td>https://twitter.com/realDonaldTrump/status/169...</td>\n",
              "      <td>Be sure to tune in and watch Donald Trump on L...</td>\n",
              "      <td>500</td>\n",
              "      <td>868</td>\n",
              "      <td>20:54:25</td>\n",
              "      <td>2009-05-04</td>\n",
              "    </tr>\n",
              "    <tr>\n",
              "      <th>1</th>\n",
              "      <td>1701461182</td>\n",
              "      <td>https://twitter.com/realDonaldTrump/status/170...</td>\n",
              "      <td>Donald Trump will be appearing on The View tom...</td>\n",
              "      <td>33</td>\n",
              "      <td>273</td>\n",
              "      <td>03:00:10</td>\n",
              "      <td>2009-05-05</td>\n",
              "    </tr>\n",
              "    <tr>\n",
              "      <th>2</th>\n",
              "      <td>1737479987</td>\n",
              "      <td>https://twitter.com/realDonaldTrump/status/173...</td>\n",
              "      <td>Donald Trump reads Top Ten Financial Tips on L...</td>\n",
              "      <td>12</td>\n",
              "      <td>18</td>\n",
              "      <td>15:38:08</td>\n",
              "      <td>2009-05-08</td>\n",
              "    </tr>\n",
              "    <tr>\n",
              "      <th>3</th>\n",
              "      <td>1741160716</td>\n",
              "      <td>https://twitter.com/realDonaldTrump/status/174...</td>\n",
              "      <td>New Blog Post: Celebrity Apprentice Finale and...</td>\n",
              "      <td>11</td>\n",
              "      <td>24</td>\n",
              "      <td>22:40:15</td>\n",
              "      <td>2009-05-08</td>\n",
              "    </tr>\n",
              "    <tr>\n",
              "      <th>4</th>\n",
              "      <td>1773561338</td>\n",
              "      <td>https://twitter.com/realDonaldTrump/status/177...</td>\n",
              "      <td>\"My persona will never be that of a wallflower...</td>\n",
              "      <td>1399</td>\n",
              "      <td>1965</td>\n",
              "      <td>16:07:28</td>\n",
              "      <td>2009-05-12</td>\n",
              "    </tr>\n",
              "  </tbody>\n",
              "</table>\n",
              "</div>"
            ],
            "text/plain": [
              "           id  ...        Date\n",
              "0  1698308935  ...  2009-05-04\n",
              "1  1701461182  ...  2009-05-05\n",
              "2  1737479987  ...  2009-05-08\n",
              "3  1741160716  ...  2009-05-08\n",
              "4  1773561338  ...  2009-05-12\n",
              "\n",
              "[5 rows x 7 columns]"
            ]
          },
          "metadata": {
            "tags": []
          },
          "execution_count": 16
        }
      ]
    },
    {
      "cell_type": "code",
      "metadata": {
        "id": "TrmgNCVxqQmT",
        "outputId": "c5dcee35-6aaa-446a-cfc9-ec442a2feec2",
        "colab": {
          "base_uri": "https://localhost:8080/",
          "height": 235
        }
      },
      "source": [
        "trump_tweets['content']"
      ],
      "execution_count": 17,
      "outputs": [
        {
          "output_type": "execute_result",
          "data": {
            "text/plain": [
              "0        Be sure to tune in and watch Donald Trump on L...\n",
              "1        Donald Trump will be appearing on The View tom...\n",
              "2        Donald Trump reads Top Ten Financial Tips on L...\n",
              "3        New Blog Post: Celebrity Apprentice Finale and...\n",
              "4        \"My persona will never be that of a wallflower...\n",
              "                               ...                        \n",
              "41117    I have never seen the Republican Party as Stro...\n",
              "41118    Now Mini Mike Bloomberg is critical of Jack Wi...\n",
              "41119    I was thrilled to be back in the Great State o...\n",
              "41120    “In the House, the President got less due proc...\n",
              "41121    A great show! Check it out tonight at 9pm. @ F...\n",
              "Name: content, Length: 41122, dtype: object"
            ]
          },
          "metadata": {
            "tags": []
          },
          "execution_count": 17
        }
      ]
    },
    {
      "cell_type": "code",
      "metadata": {
        "id": "FFCM_Tlisn_1",
        "outputId": "7b04afc8-c979-4698-c59c-8d2d19066097",
        "colab": {
          "base_uri": "https://localhost:8080/",
          "height": 235
        }
      },
      "source": [
        "# Remove punctuation from content column\n",
        "trump_tweets['content'] = trump_tweets['content'].str.replace('[^\\w\\s]','')\n",
        "trump_tweets['content'] "
      ],
      "execution_count": 18,
      "outputs": [
        {
          "output_type": "execute_result",
          "data": {
            "text/plain": [
              "0        Be sure to tune in and watch Donald Trump on L...\n",
              "1        Donald Trump will be appearing on The View tom...\n",
              "2        Donald Trump reads Top Ten Financial Tips on L...\n",
              "3        New Blog Post Celebrity Apprentice Finale and ...\n",
              "4        My persona will never be that of a wallflower ...\n",
              "                               ...                        \n",
              "41117    I have never seen the Republican Party as Stro...\n",
              "41118    Now Mini Mike Bloomberg is critical of Jack Wi...\n",
              "41119    I was thrilled to be back in the Great State o...\n",
              "41120    In the House the President got less due proces...\n",
              "41121    A great show Check it out tonight at 9pm  FoxN...\n",
              "Name: content, Length: 41122, dtype: object"
            ]
          },
          "metadata": {
            "tags": []
          },
          "execution_count": 18
        }
      ]
    },
    {
      "cell_type": "code",
      "metadata": {
        "id": "ft8p4G2ltELF",
        "outputId": "6a8518a8-1257-4d7f-f796-685a829b1378",
        "colab": {
          "base_uri": "https://localhost:8080/",
          "height": 198
        }
      },
      "source": [
        "trump_tweets.head()"
      ],
      "execution_count": 19,
      "outputs": [
        {
          "output_type": "execute_result",
          "data": {
            "text/html": [
              "<div>\n",
              "<style scoped>\n",
              "    .dataframe tbody tr th:only-of-type {\n",
              "        vertical-align: middle;\n",
              "    }\n",
              "\n",
              "    .dataframe tbody tr th {\n",
              "        vertical-align: top;\n",
              "    }\n",
              "\n",
              "    .dataframe thead th {\n",
              "        text-align: right;\n",
              "    }\n",
              "</style>\n",
              "<table border=\"1\" class=\"dataframe\">\n",
              "  <thead>\n",
              "    <tr style=\"text-align: right;\">\n",
              "      <th></th>\n",
              "      <th>id</th>\n",
              "      <th>link</th>\n",
              "      <th>content</th>\n",
              "      <th>retweets</th>\n",
              "      <th>favorites</th>\n",
              "      <th>Time</th>\n",
              "      <th>Date</th>\n",
              "    </tr>\n",
              "  </thead>\n",
              "  <tbody>\n",
              "    <tr>\n",
              "      <th>0</th>\n",
              "      <td>1698308935</td>\n",
              "      <td>https://twitter.com/realDonaldTrump/status/169...</td>\n",
              "      <td>Be sure to tune in and watch Donald Trump on L...</td>\n",
              "      <td>500</td>\n",
              "      <td>868</td>\n",
              "      <td>20:54:25</td>\n",
              "      <td>2009-05-04</td>\n",
              "    </tr>\n",
              "    <tr>\n",
              "      <th>1</th>\n",
              "      <td>1701461182</td>\n",
              "      <td>https://twitter.com/realDonaldTrump/status/170...</td>\n",
              "      <td>Donald Trump will be appearing on The View tom...</td>\n",
              "      <td>33</td>\n",
              "      <td>273</td>\n",
              "      <td>03:00:10</td>\n",
              "      <td>2009-05-05</td>\n",
              "    </tr>\n",
              "    <tr>\n",
              "      <th>2</th>\n",
              "      <td>1737479987</td>\n",
              "      <td>https://twitter.com/realDonaldTrump/status/173...</td>\n",
              "      <td>Donald Trump reads Top Ten Financial Tips on L...</td>\n",
              "      <td>12</td>\n",
              "      <td>18</td>\n",
              "      <td>15:38:08</td>\n",
              "      <td>2009-05-08</td>\n",
              "    </tr>\n",
              "    <tr>\n",
              "      <th>3</th>\n",
              "      <td>1741160716</td>\n",
              "      <td>https://twitter.com/realDonaldTrump/status/174...</td>\n",
              "      <td>New Blog Post Celebrity Apprentice Finale and ...</td>\n",
              "      <td>11</td>\n",
              "      <td>24</td>\n",
              "      <td>22:40:15</td>\n",
              "      <td>2009-05-08</td>\n",
              "    </tr>\n",
              "    <tr>\n",
              "      <th>4</th>\n",
              "      <td>1773561338</td>\n",
              "      <td>https://twitter.com/realDonaldTrump/status/177...</td>\n",
              "      <td>My persona will never be that of a wallflower ...</td>\n",
              "      <td>1399</td>\n",
              "      <td>1965</td>\n",
              "      <td>16:07:28</td>\n",
              "      <td>2009-05-12</td>\n",
              "    </tr>\n",
              "  </tbody>\n",
              "</table>\n",
              "</div>"
            ],
            "text/plain": [
              "           id  ...        Date\n",
              "0  1698308935  ...  2009-05-04\n",
              "1  1701461182  ...  2009-05-05\n",
              "2  1737479987  ...  2009-05-08\n",
              "3  1741160716  ...  2009-05-08\n",
              "4  1773561338  ...  2009-05-12\n",
              "\n",
              "[5 rows x 7 columns]"
            ]
          },
          "metadata": {
            "tags": []
          },
          "execution_count": 19
        }
      ]
    },
    {
      "cell_type": "markdown",
      "metadata": {
        "id": "njqokwBae5YJ"
      },
      "source": [
        "Slice out the rows that are not needed. "
      ]
    },
    {
      "cell_type": "code",
      "metadata": {
        "id": "wbtY5FyFeFaP",
        "outputId": "09e13150-3f62-44b4-9e0d-82bf63f05ccc",
        "colab": {
          "base_uri": "https://localhost:8080/",
          "height": 407
        }
      },
      "source": [
        "tweets = trump_tweets[trump_tweets['Date'] >= pd.to_datetime('2016-11-08')]\n",
        "tweets"
      ],
      "execution_count": 52,
      "outputs": [
        {
          "output_type": "execute_result",
          "data": {
            "text/html": [
              "<div>\n",
              "<style scoped>\n",
              "    .dataframe tbody tr th:only-of-type {\n",
              "        vertical-align: middle;\n",
              "    }\n",
              "\n",
              "    .dataframe tbody tr th {\n",
              "        vertical-align: top;\n",
              "    }\n",
              "\n",
              "    .dataframe thead th {\n",
              "        text-align: right;\n",
              "    }\n",
              "</style>\n",
              "<table border=\"1\" class=\"dataframe\">\n",
              "  <thead>\n",
              "    <tr style=\"text-align: right;\">\n",
              "      <th></th>\n",
              "      <th>id</th>\n",
              "      <th>link</th>\n",
              "      <th>content</th>\n",
              "      <th>retweets</th>\n",
              "      <th>favorites</th>\n",
              "      <th>Time</th>\n",
              "      <th>Date</th>\n",
              "    </tr>\n",
              "  </thead>\n",
              "  <tbody>\n",
              "    <tr>\n",
              "      <th>30889</th>\n",
              "      <td>795770006306861057</td>\n",
              "      <td>https://twitter.com/realDonaldTrump/status/795...</td>\n",
              "      <td>LIVE on  Periscope Join me for a few minutes i...</td>\n",
              "      <td>8765</td>\n",
              "      <td>27429</td>\n",
              "      <td>00:28:48</td>\n",
              "      <td>2016-11-08</td>\n",
              "    </tr>\n",
              "    <tr>\n",
              "      <th>30890</th>\n",
              "      <td>795779987152523264</td>\n",
              "      <td>https://twitter.com/realDonaldTrump/status/795...</td>\n",
              "      <td>Thank you Pennsylvania Going to New Hampshire ...</td>\n",
              "      <td>7743</td>\n",
              "      <td>25771</td>\n",
              "      <td>01:08:28</td>\n",
              "      <td>2016-11-08</td>\n",
              "    </tr>\n",
              "    <tr>\n",
              "      <th>30891</th>\n",
              "      <td>795781945607278592</td>\n",
              "      <td>https://twitter.com/realDonaldTrump/status/795...</td>\n",
              "      <td>Today in Florida I pledged to stand with the p...</td>\n",
              "      <td>12110</td>\n",
              "      <td>32433</td>\n",
              "      <td>01:16:15</td>\n",
              "      <td>2016-11-08</td>\n",
              "    </tr>\n",
              "    <tr>\n",
              "      <th>30892</th>\n",
              "      <td>795782371895349250</td>\n",
              "      <td>https://twitter.com/realDonaldTrump/status/795...</td>\n",
              "      <td>Big news to share in New Hampshire tonight Pol...</td>\n",
              "      <td>11281</td>\n",
              "      <td>38360</td>\n",
              "      <td>01:17:57</td>\n",
              "      <td>2016-11-08</td>\n",
              "    </tr>\n",
              "    <tr>\n",
              "      <th>30893</th>\n",
              "      <td>795834203430645760</td>\n",
              "      <td>https://twitter.com/realDonaldTrump/status/795...</td>\n",
              "      <td>Unbelievable evening in New Hampshire  THANK Y...</td>\n",
              "      <td>7796</td>\n",
              "      <td>28222</td>\n",
              "      <td>04:43:54</td>\n",
              "      <td>2016-11-08</td>\n",
              "    </tr>\n",
              "    <tr>\n",
              "      <th>...</th>\n",
              "      <td>...</td>\n",
              "      <td>...</td>\n",
              "      <td>...</td>\n",
              "      <td>...</td>\n",
              "      <td>...</td>\n",
              "      <td>...</td>\n",
              "      <td>...</td>\n",
              "    </tr>\n",
              "    <tr>\n",
              "      <th>41117</th>\n",
              "      <td>1218962544372670467</td>\n",
              "      <td>https://twitter.com/realDonaldTrump/status/121...</td>\n",
              "      <td>I have never seen the Republican Party as Stro...</td>\n",
              "      <td>32620</td>\n",
              "      <td>213817</td>\n",
              "      <td>19:24:52</td>\n",
              "      <td>2020-01-19</td>\n",
              "    </tr>\n",
              "    <tr>\n",
              "      <th>41118</th>\n",
              "      <td>1219004689716412416</td>\n",
              "      <td>https://twitter.com/realDonaldTrump/status/121...</td>\n",
              "      <td>Now Mini Mike Bloomberg is critical of Jack Wi...</td>\n",
              "      <td>36239</td>\n",
              "      <td>149571</td>\n",
              "      <td>22:12:20</td>\n",
              "      <td>2020-01-19</td>\n",
              "    </tr>\n",
              "    <tr>\n",
              "      <th>41119</th>\n",
              "      <td>1219053709428248576</td>\n",
              "      <td>https://twitter.com/realDonaldTrump/status/121...</td>\n",
              "      <td>I was thrilled to be back in the Great State o...</td>\n",
              "      <td>16588</td>\n",
              "      <td>66944</td>\n",
              "      <td>01:27:07</td>\n",
              "      <td>2020-01-20</td>\n",
              "    </tr>\n",
              "    <tr>\n",
              "      <th>41120</th>\n",
              "      <td>1219066007731310593</td>\n",
              "      <td>https://twitter.com/realDonaldTrump/status/121...</td>\n",
              "      <td>In the House the President got less due proces...</td>\n",
              "      <td>20599</td>\n",
              "      <td>81921</td>\n",
              "      <td>02:16:00</td>\n",
              "      <td>2020-01-20</td>\n",
              "    </tr>\n",
              "    <tr>\n",
              "      <th>41121</th>\n",
              "      <td>1219076533354037249</td>\n",
              "      <td>https://twitter.com/realDonaldTrump/status/121...</td>\n",
              "      <td>A great show Check it out tonight at 9pm  FoxN...</td>\n",
              "      <td>7947</td>\n",
              "      <td>34902</td>\n",
              "      <td>02:57:49</td>\n",
              "      <td>2020-01-20</td>\n",
              "    </tr>\n",
              "  </tbody>\n",
              "</table>\n",
              "<p>10233 rows × 7 columns</p>\n",
              "</div>"
            ],
            "text/plain": [
              "                        id  ...        Date\n",
              "30889   795770006306861057  ...  2016-11-08\n",
              "30890   795779987152523264  ...  2016-11-08\n",
              "30891   795781945607278592  ...  2016-11-08\n",
              "30892   795782371895349250  ...  2016-11-08\n",
              "30893   795834203430645760  ...  2016-11-08\n",
              "...                    ...  ...         ...\n",
              "41117  1218962544372670467  ...  2020-01-19\n",
              "41118  1219004689716412416  ...  2020-01-19\n",
              "41119  1219053709428248576  ...  2020-01-20\n",
              "41120  1219066007731310593  ...  2020-01-20\n",
              "41121  1219076533354037249  ...  2020-01-20\n",
              "\n",
              "[10233 rows x 7 columns]"
            ]
          },
          "metadata": {
            "tags": []
          },
          "execution_count": 52
        }
      ]
    },
    {
      "cell_type": "markdown",
      "metadata": {
        "id": "VAOK1pu8sTiR"
      },
      "source": [
        "#### Stock Market Data"
      ]
    },
    {
      "cell_type": "markdown",
      "metadata": {
        "id": "A__c6pWu4HLf"
      },
      "source": [
        "The Yahoo Finance API is utilized for market data from November 8th 2016 through present day."
      ]
    },
    {
      "cell_type": "code",
      "metadata": {
        "id": "v2wBDo0Rn5_e",
        "outputId": "cf9a01c9-46b1-4591-9226-d22f15d5fe95",
        "colab": {
          "base_uri": "https://localhost:8080/",
          "height": 0
        }
      },
      "source": [
        "import yfinance as yf\n",
        "market_data = yf.download('NDAQ',start='2016-11-08')\n",
        "market_data.to_csv('market_data.csv')"
      ],
      "execution_count": 21,
      "outputs": [
        {
          "output_type": "stream",
          "text": [
            "\r[*********************100%***********************]  1 of 1 completed\n"
          ],
          "name": "stdout"
        }
      ]
    },
    {
      "cell_type": "code",
      "metadata": {
        "id": "_qJQU_1AxfnO",
        "outputId": "c53cbfe7-1baa-43f1-f46a-ad3d3a362985",
        "colab": {
          "base_uri": "https://localhost:8080/",
          "height": 0
        }
      },
      "source": [
        "stock_data = pd.read_csv('/content/market_data.csv')\n",
        "stock_data.head()"
      ],
      "execution_count": 22,
      "outputs": [
        {
          "output_type": "execute_result",
          "data": {
            "text/html": [
              "<div>\n",
              "<style scoped>\n",
              "    .dataframe tbody tr th:only-of-type {\n",
              "        vertical-align: middle;\n",
              "    }\n",
              "\n",
              "    .dataframe tbody tr th {\n",
              "        vertical-align: top;\n",
              "    }\n",
              "\n",
              "    .dataframe thead th {\n",
              "        text-align: right;\n",
              "    }\n",
              "</style>\n",
              "<table border=\"1\" class=\"dataframe\">\n",
              "  <thead>\n",
              "    <tr style=\"text-align: right;\">\n",
              "      <th></th>\n",
              "      <th>Date</th>\n",
              "      <th>Open</th>\n",
              "      <th>High</th>\n",
              "      <th>Low</th>\n",
              "      <th>Close</th>\n",
              "      <th>Adj Close</th>\n",
              "      <th>Volume</th>\n",
              "    </tr>\n",
              "  </thead>\n",
              "  <tbody>\n",
              "    <tr>\n",
              "      <th>0</th>\n",
              "      <td>2016-11-08</td>\n",
              "      <td>65.440002</td>\n",
              "      <td>65.570000</td>\n",
              "      <td>64.190002</td>\n",
              "      <td>65.379997</td>\n",
              "      <td>60.622059</td>\n",
              "      <td>666500</td>\n",
              "    </tr>\n",
              "    <tr>\n",
              "      <th>1</th>\n",
              "      <td>2016-11-09</td>\n",
              "      <td>65.209999</td>\n",
              "      <td>67.139999</td>\n",
              "      <td>64.690002</td>\n",
              "      <td>66.930000</td>\n",
              "      <td>62.059265</td>\n",
              "      <td>1034000</td>\n",
              "    </tr>\n",
              "    <tr>\n",
              "      <th>2</th>\n",
              "      <td>2016-11-10</td>\n",
              "      <td>67.489998</td>\n",
              "      <td>68.290001</td>\n",
              "      <td>66.889999</td>\n",
              "      <td>67.099998</td>\n",
              "      <td>62.216900</td>\n",
              "      <td>1211200</td>\n",
              "    </tr>\n",
              "    <tr>\n",
              "      <th>3</th>\n",
              "      <td>2016-11-11</td>\n",
              "      <td>66.980003</td>\n",
              "      <td>67.320000</td>\n",
              "      <td>65.870003</td>\n",
              "      <td>66.440002</td>\n",
              "      <td>61.604923</td>\n",
              "      <td>889400</td>\n",
              "    </tr>\n",
              "    <tr>\n",
              "      <th>4</th>\n",
              "      <td>2016-11-14</td>\n",
              "      <td>66.620003</td>\n",
              "      <td>66.660004</td>\n",
              "      <td>64.570000</td>\n",
              "      <td>64.730003</td>\n",
              "      <td>60.019367</td>\n",
              "      <td>1413300</td>\n",
              "    </tr>\n",
              "  </tbody>\n",
              "</table>\n",
              "</div>"
            ],
            "text/plain": [
              "         Date       Open       High        Low      Close  Adj Close   Volume\n",
              "0  2016-11-08  65.440002  65.570000  64.190002  65.379997  60.622059   666500\n",
              "1  2016-11-09  65.209999  67.139999  64.690002  66.930000  62.059265  1034000\n",
              "2  2016-11-10  67.489998  68.290001  66.889999  67.099998  62.216900  1211200\n",
              "3  2016-11-11  66.980003  67.320000  65.870003  66.440002  61.604923   889400\n",
              "4  2016-11-14  66.620003  66.660004  64.570000  64.730003  60.019367  1413300"
            ]
          },
          "metadata": {
            "tags": []
          },
          "execution_count": 22
        }
      ]
    },
    {
      "cell_type": "code",
      "metadata": {
        "id": "RGVocnbmcgCB",
        "outputId": "9a3be72a-3059-495d-9356-fdae9bbfb908",
        "colab": {
          "base_uri": "https://localhost:8080/",
          "height": 0
        }
      },
      "source": [
        "stock_data.tail()"
      ],
      "execution_count": 23,
      "outputs": [
        {
          "output_type": "execute_result",
          "data": {
            "text/html": [
              "<div>\n",
              "<style scoped>\n",
              "    .dataframe tbody tr th:only-of-type {\n",
              "        vertical-align: middle;\n",
              "    }\n",
              "\n",
              "    .dataframe tbody tr th {\n",
              "        vertical-align: top;\n",
              "    }\n",
              "\n",
              "    .dataframe thead th {\n",
              "        text-align: right;\n",
              "    }\n",
              "</style>\n",
              "<table border=\"1\" class=\"dataframe\">\n",
              "  <thead>\n",
              "    <tr style=\"text-align: right;\">\n",
              "      <th></th>\n",
              "      <th>Date</th>\n",
              "      <th>Open</th>\n",
              "      <th>High</th>\n",
              "      <th>Low</th>\n",
              "      <th>Close</th>\n",
              "      <th>Adj Close</th>\n",
              "      <th>Volume</th>\n",
              "    </tr>\n",
              "  </thead>\n",
              "  <tbody>\n",
              "    <tr>\n",
              "      <th>992</th>\n",
              "      <td>2020-10-19</td>\n",
              "      <td>129.710007</td>\n",
              "      <td>130.100006</td>\n",
              "      <td>127.389999</td>\n",
              "      <td>127.480003</td>\n",
              "      <td>127.480003</td>\n",
              "      <td>886800</td>\n",
              "    </tr>\n",
              "    <tr>\n",
              "      <th>993</th>\n",
              "      <td>2020-10-20</td>\n",
              "      <td>127.510002</td>\n",
              "      <td>131.080002</td>\n",
              "      <td>127.510002</td>\n",
              "      <td>128.990005</td>\n",
              "      <td>128.990005</td>\n",
              "      <td>884400</td>\n",
              "    </tr>\n",
              "    <tr>\n",
              "      <th>994</th>\n",
              "      <td>2020-10-21</td>\n",
              "      <td>130.470001</td>\n",
              "      <td>134.039993</td>\n",
              "      <td>128.000000</td>\n",
              "      <td>132.369995</td>\n",
              "      <td>132.369995</td>\n",
              "      <td>1105900</td>\n",
              "    </tr>\n",
              "    <tr>\n",
              "      <th>995</th>\n",
              "      <td>2020-10-22</td>\n",
              "      <td>133.169998</td>\n",
              "      <td>133.169998</td>\n",
              "      <td>129.979996</td>\n",
              "      <td>130.089996</td>\n",
              "      <td>130.089996</td>\n",
              "      <td>602300</td>\n",
              "    </tr>\n",
              "    <tr>\n",
              "      <th>996</th>\n",
              "      <td>2020-10-23</td>\n",
              "      <td>130.559998</td>\n",
              "      <td>130.559998</td>\n",
              "      <td>127.430000</td>\n",
              "      <td>129.119995</td>\n",
              "      <td>129.119995</td>\n",
              "      <td>578700</td>\n",
              "    </tr>\n",
              "  </tbody>\n",
              "</table>\n",
              "</div>"
            ],
            "text/plain": [
              "           Date        Open        High  ...       Close   Adj Close   Volume\n",
              "992  2020-10-19  129.710007  130.100006  ...  127.480003  127.480003   886800\n",
              "993  2020-10-20  127.510002  131.080002  ...  128.990005  128.990005   884400\n",
              "994  2020-10-21  130.470001  134.039993  ...  132.369995  132.369995  1105900\n",
              "995  2020-10-22  133.169998  133.169998  ...  130.089996  130.089996   602300\n",
              "996  2020-10-23  130.559998  130.559998  ...  129.119995  129.119995   578700\n",
              "\n",
              "[5 rows x 7 columns]"
            ]
          },
          "metadata": {
            "tags": []
          },
          "execution_count": 23
        }
      ]
    },
    {
      "cell_type": "code",
      "metadata": {
        "id": "_qCHC6YT33PR",
        "outputId": "b336264b-349f-4c25-a659-2d551a5e9c96",
        "colab": {
          "base_uri": "https://localhost:8080/",
          "height": 0
        }
      },
      "source": [
        "stock_data.shape"
      ],
      "execution_count": 24,
      "outputs": [
        {
          "output_type": "execute_result",
          "data": {
            "text/plain": [
              "(997, 7)"
            ]
          },
          "metadata": {
            "tags": []
          },
          "execution_count": 24
        }
      ]
    },
    {
      "cell_type": "code",
      "metadata": {
        "id": "jlXTrMPfyYM_",
        "outputId": "d6f6eafb-2358-467b-98c0-3d27bf4c2521",
        "colab": {
          "base_uri": "https://localhost:8080/",
          "height": 0
        }
      },
      "source": [
        "stock_data.describe()"
      ],
      "execution_count": 25,
      "outputs": [
        {
          "output_type": "execute_result",
          "data": {
            "text/html": [
              "<div>\n",
              "<style scoped>\n",
              "    .dataframe tbody tr th:only-of-type {\n",
              "        vertical-align: middle;\n",
              "    }\n",
              "\n",
              "    .dataframe tbody tr th {\n",
              "        vertical-align: top;\n",
              "    }\n",
              "\n",
              "    .dataframe thead th {\n",
              "        text-align: right;\n",
              "    }\n",
              "</style>\n",
              "<table border=\"1\" class=\"dataframe\">\n",
              "  <thead>\n",
              "    <tr style=\"text-align: right;\">\n",
              "      <th></th>\n",
              "      <th>Open</th>\n",
              "      <th>High</th>\n",
              "      <th>Low</th>\n",
              "      <th>Close</th>\n",
              "      <th>Adj Close</th>\n",
              "      <th>Volume</th>\n",
              "    </tr>\n",
              "  </thead>\n",
              "  <tbody>\n",
              "    <tr>\n",
              "      <th>count</th>\n",
              "      <td>997.000000</td>\n",
              "      <td>997.000000</td>\n",
              "      <td>997.000000</td>\n",
              "      <td>997.000000</td>\n",
              "      <td>997.000000</td>\n",
              "      <td>9.970000e+02</td>\n",
              "    </tr>\n",
              "    <tr>\n",
              "      <th>mean</th>\n",
              "      <td>90.661976</td>\n",
              "      <td>91.487302</td>\n",
              "      <td>89.796770</td>\n",
              "      <td>90.674042</td>\n",
              "      <td>87.773662</td>\n",
              "      <td>8.601152e+05</td>\n",
              "    </tr>\n",
              "    <tr>\n",
              "      <th>std</th>\n",
              "      <td>17.458867</td>\n",
              "      <td>17.692310</td>\n",
              "      <td>17.160337</td>\n",
              "      <td>17.434016</td>\n",
              "      <td>18.737144</td>\n",
              "      <td>3.802214e+05</td>\n",
              "    </tr>\n",
              "    <tr>\n",
              "      <th>min</th>\n",
              "      <td>63.700001</td>\n",
              "      <td>64.320000</td>\n",
              "      <td>63.360001</td>\n",
              "      <td>63.549999</td>\n",
              "      <td>58.925240</td>\n",
              "      <td>2.179000e+05</td>\n",
              "    </tr>\n",
              "    <tr>\n",
              "      <th>25%</th>\n",
              "      <td>76.129997</td>\n",
              "      <td>76.790001</td>\n",
              "      <td>75.610001</td>\n",
              "      <td>76.129997</td>\n",
              "      <td>72.213440</td>\n",
              "      <td>5.988000e+05</td>\n",
              "    </tr>\n",
              "    <tr>\n",
              "      <th>50%</th>\n",
              "      <td>88.900002</td>\n",
              "      <td>89.849998</td>\n",
              "      <td>88.099998</td>\n",
              "      <td>88.989998</td>\n",
              "      <td>86.121536</td>\n",
              "      <td>7.721000e+05</td>\n",
              "    </tr>\n",
              "    <tr>\n",
              "      <th>75%</th>\n",
              "      <td>100.440002</td>\n",
              "      <td>101.629997</td>\n",
              "      <td>99.250000</td>\n",
              "      <td>100.660004</td>\n",
              "      <td>98.668488</td>\n",
              "      <td>1.017400e+06</td>\n",
              "    </tr>\n",
              "    <tr>\n",
              "      <th>max</th>\n",
              "      <td>137.809998</td>\n",
              "      <td>137.940002</td>\n",
              "      <td>135.000000</td>\n",
              "      <td>137.279999</td>\n",
              "      <td>136.759308</td>\n",
              "      <td>2.973800e+06</td>\n",
              "    </tr>\n",
              "  </tbody>\n",
              "</table>\n",
              "</div>"
            ],
            "text/plain": [
              "             Open        High         Low       Close   Adj Close        Volume\n",
              "count  997.000000  997.000000  997.000000  997.000000  997.000000  9.970000e+02\n",
              "mean    90.661976   91.487302   89.796770   90.674042   87.773662  8.601152e+05\n",
              "std     17.458867   17.692310   17.160337   17.434016   18.737144  3.802214e+05\n",
              "min     63.700001   64.320000   63.360001   63.549999   58.925240  2.179000e+05\n",
              "25%     76.129997   76.790001   75.610001   76.129997   72.213440  5.988000e+05\n",
              "50%     88.900002   89.849998   88.099998   88.989998   86.121536  7.721000e+05\n",
              "75%    100.440002  101.629997   99.250000  100.660004   98.668488  1.017400e+06\n",
              "max    137.809998  137.940002  135.000000  137.279999  136.759308  2.973800e+06"
            ]
          },
          "metadata": {
            "tags": []
          },
          "execution_count": 25
        }
      ]
    },
    {
      "cell_type": "code",
      "metadata": {
        "id": "lgyV2LOW5-co",
        "outputId": "b058dca2-45ea-47c1-d751-4e33349abb6c",
        "colab": {
          "base_uri": "https://localhost:8080/",
          "height": 0
        }
      },
      "source": [
        "# Round columns with decimal places to only 2 decimal places\n",
        "stock_data = stock_data.round(decimals=2)\n",
        "stock_data"
      ],
      "execution_count": 26,
      "outputs": [
        {
          "output_type": "execute_result",
          "data": {
            "text/html": [
              "<div>\n",
              "<style scoped>\n",
              "    .dataframe tbody tr th:only-of-type {\n",
              "        vertical-align: middle;\n",
              "    }\n",
              "\n",
              "    .dataframe tbody tr th {\n",
              "        vertical-align: top;\n",
              "    }\n",
              "\n",
              "    .dataframe thead th {\n",
              "        text-align: right;\n",
              "    }\n",
              "</style>\n",
              "<table border=\"1\" class=\"dataframe\">\n",
              "  <thead>\n",
              "    <tr style=\"text-align: right;\">\n",
              "      <th></th>\n",
              "      <th>Date</th>\n",
              "      <th>Open</th>\n",
              "      <th>High</th>\n",
              "      <th>Low</th>\n",
              "      <th>Close</th>\n",
              "      <th>Adj Close</th>\n",
              "      <th>Volume</th>\n",
              "    </tr>\n",
              "  </thead>\n",
              "  <tbody>\n",
              "    <tr>\n",
              "      <th>0</th>\n",
              "      <td>2016-11-08</td>\n",
              "      <td>65.44</td>\n",
              "      <td>65.57</td>\n",
              "      <td>64.19</td>\n",
              "      <td>65.38</td>\n",
              "      <td>60.62</td>\n",
              "      <td>666500</td>\n",
              "    </tr>\n",
              "    <tr>\n",
              "      <th>1</th>\n",
              "      <td>2016-11-09</td>\n",
              "      <td>65.21</td>\n",
              "      <td>67.14</td>\n",
              "      <td>64.69</td>\n",
              "      <td>66.93</td>\n",
              "      <td>62.06</td>\n",
              "      <td>1034000</td>\n",
              "    </tr>\n",
              "    <tr>\n",
              "      <th>2</th>\n",
              "      <td>2016-11-10</td>\n",
              "      <td>67.49</td>\n",
              "      <td>68.29</td>\n",
              "      <td>66.89</td>\n",
              "      <td>67.10</td>\n",
              "      <td>62.22</td>\n",
              "      <td>1211200</td>\n",
              "    </tr>\n",
              "    <tr>\n",
              "      <th>3</th>\n",
              "      <td>2016-11-11</td>\n",
              "      <td>66.98</td>\n",
              "      <td>67.32</td>\n",
              "      <td>65.87</td>\n",
              "      <td>66.44</td>\n",
              "      <td>61.60</td>\n",
              "      <td>889400</td>\n",
              "    </tr>\n",
              "    <tr>\n",
              "      <th>4</th>\n",
              "      <td>2016-11-14</td>\n",
              "      <td>66.62</td>\n",
              "      <td>66.66</td>\n",
              "      <td>64.57</td>\n",
              "      <td>64.73</td>\n",
              "      <td>60.02</td>\n",
              "      <td>1413300</td>\n",
              "    </tr>\n",
              "    <tr>\n",
              "      <th>...</th>\n",
              "      <td>...</td>\n",
              "      <td>...</td>\n",
              "      <td>...</td>\n",
              "      <td>...</td>\n",
              "      <td>...</td>\n",
              "      <td>...</td>\n",
              "      <td>...</td>\n",
              "    </tr>\n",
              "    <tr>\n",
              "      <th>992</th>\n",
              "      <td>2020-10-19</td>\n",
              "      <td>129.71</td>\n",
              "      <td>130.10</td>\n",
              "      <td>127.39</td>\n",
              "      <td>127.48</td>\n",
              "      <td>127.48</td>\n",
              "      <td>886800</td>\n",
              "    </tr>\n",
              "    <tr>\n",
              "      <th>993</th>\n",
              "      <td>2020-10-20</td>\n",
              "      <td>127.51</td>\n",
              "      <td>131.08</td>\n",
              "      <td>127.51</td>\n",
              "      <td>128.99</td>\n",
              "      <td>128.99</td>\n",
              "      <td>884400</td>\n",
              "    </tr>\n",
              "    <tr>\n",
              "      <th>994</th>\n",
              "      <td>2020-10-21</td>\n",
              "      <td>130.47</td>\n",
              "      <td>134.04</td>\n",
              "      <td>128.00</td>\n",
              "      <td>132.37</td>\n",
              "      <td>132.37</td>\n",
              "      <td>1105900</td>\n",
              "    </tr>\n",
              "    <tr>\n",
              "      <th>995</th>\n",
              "      <td>2020-10-22</td>\n",
              "      <td>133.17</td>\n",
              "      <td>133.17</td>\n",
              "      <td>129.98</td>\n",
              "      <td>130.09</td>\n",
              "      <td>130.09</td>\n",
              "      <td>602300</td>\n",
              "    </tr>\n",
              "    <tr>\n",
              "      <th>996</th>\n",
              "      <td>2020-10-23</td>\n",
              "      <td>130.56</td>\n",
              "      <td>130.56</td>\n",
              "      <td>127.43</td>\n",
              "      <td>129.12</td>\n",
              "      <td>129.12</td>\n",
              "      <td>578700</td>\n",
              "    </tr>\n",
              "  </tbody>\n",
              "</table>\n",
              "<p>997 rows × 7 columns</p>\n",
              "</div>"
            ],
            "text/plain": [
              "           Date    Open    High     Low   Close  Adj Close   Volume\n",
              "0    2016-11-08   65.44   65.57   64.19   65.38      60.62   666500\n",
              "1    2016-11-09   65.21   67.14   64.69   66.93      62.06  1034000\n",
              "2    2016-11-10   67.49   68.29   66.89   67.10      62.22  1211200\n",
              "3    2016-11-11   66.98   67.32   65.87   66.44      61.60   889400\n",
              "4    2016-11-14   66.62   66.66   64.57   64.73      60.02  1413300\n",
              "..          ...     ...     ...     ...     ...        ...      ...\n",
              "992  2020-10-19  129.71  130.10  127.39  127.48     127.48   886800\n",
              "993  2020-10-20  127.51  131.08  127.51  128.99     128.99   884400\n",
              "994  2020-10-21  130.47  134.04  128.00  132.37     132.37  1105900\n",
              "995  2020-10-22  133.17  133.17  129.98  130.09     130.09   602300\n",
              "996  2020-10-23  130.56  130.56  127.43  129.12     129.12   578700\n",
              "\n",
              "[997 rows x 7 columns]"
            ]
          },
          "metadata": {
            "tags": []
          },
          "execution_count": 26
        }
      ]
    },
    {
      "cell_type": "markdown",
      "metadata": {
        "id": "vzfrhHmb7ryD"
      },
      "source": [
        "There is not much cleaning that needs to take place for the stock market data. "
      ]
    },
    {
      "cell_type": "markdown",
      "metadata": {
        "id": "WFkR_EIg4ybD"
      },
      "source": [
        "## Exploratory Analysis"
      ]
    },
    {
      "cell_type": "code",
      "metadata": {
        "id": "7srqg1wHELSK"
      },
      "source": [
        "import seaborn as sns \n",
        "import matplotlib.pyplot as plt\n",
        "%matplotlib inline \n",
        "sns.set(color_codes=True)"
      ],
      "execution_count": 67,
      "outputs": []
    },
    {
      "cell_type": "markdown",
      "metadata": {
        "id": "VBXfvoAC-pPX"
      },
      "source": [
        "### Null Values"
      ]
    },
    {
      "cell_type": "markdown",
      "metadata": {
        "id": "FMKq5BbF4tfL"
      },
      "source": [
        "Now that the data is cleaned up, lets preform some exploritory anlaysis for the 2 data sets."
      ]
    },
    {
      "cell_type": "code",
      "metadata": {
        "id": "qPo1JhPUwCSy",
        "outputId": "397dd3a4-5c5b-4d37-ce92-7490455b5090",
        "colab": {
          "base_uri": "https://localhost:8080/",
          "height": 235
        }
      },
      "source": [
        "tweets.isnull().sum()"
      ],
      "execution_count": 68,
      "outputs": [
        {
          "output_type": "execute_result",
          "data": {
            "text/plain": [
              "id            0\n",
              "link          0\n",
              "content       0\n",
              "retweets      0\n",
              "favorites     0\n",
              "Time          0\n",
              "Date          0\n",
              "Day           0\n",
              "Month         0\n",
              "Year          0\n",
              "Month_Year    0\n",
              "dtype: int64"
            ]
          },
          "metadata": {
            "tags": []
          },
          "execution_count": 68
        }
      ]
    },
    {
      "cell_type": "code",
      "metadata": {
        "id": "IAqG4QYK-a_m",
        "outputId": "ae04eb0a-963a-4b57-bfe4-3c905a75033a",
        "colab": {
          "base_uri": "https://localhost:8080/",
          "height": 163
        }
      },
      "source": [
        "stock_data.isnull().sum()"
      ],
      "execution_count": 69,
      "outputs": [
        {
          "output_type": "execute_result",
          "data": {
            "text/plain": [
              "Date         0\n",
              "Open         0\n",
              "High         0\n",
              "Low          0\n",
              "Close        0\n",
              "Adj Close    0\n",
              "Volume       0\n",
              "dtype: int64"
            ]
          },
          "metadata": {
            "tags": []
          },
          "execution_count": 69
        }
      ]
    },
    {
      "cell_type": "markdown",
      "metadata": {
        "id": "W3tSzNqb-f__"
      },
      "source": [
        "There are no missing values for either of the data sets. "
      ]
    },
    {
      "cell_type": "markdown",
      "metadata": {
        "id": "mt2d2l0ue3fu"
      },
      "source": [
        "### Categorization"
      ]
    },
    {
      "cell_type": "code",
      "metadata": {
        "id": "cBLzFX2oeg1L",
        "outputId": "26348592-0d88-4b89-a55a-92fac6e3ce4e",
        "colab": {
          "base_uri": "https://localhost:8080/",
          "height": 285
        }
      },
      "source": [
        "tweets.head()"
      ],
      "execution_count": 70,
      "outputs": [
        {
          "output_type": "execute_result",
          "data": {
            "text/html": [
              "<div>\n",
              "<style scoped>\n",
              "    .dataframe tbody tr th:only-of-type {\n",
              "        vertical-align: middle;\n",
              "    }\n",
              "\n",
              "    .dataframe tbody tr th {\n",
              "        vertical-align: top;\n",
              "    }\n",
              "\n",
              "    .dataframe thead th {\n",
              "        text-align: right;\n",
              "    }\n",
              "</style>\n",
              "<table border=\"1\" class=\"dataframe\">\n",
              "  <thead>\n",
              "    <tr style=\"text-align: right;\">\n",
              "      <th></th>\n",
              "      <th>id</th>\n",
              "      <th>link</th>\n",
              "      <th>content</th>\n",
              "      <th>retweets</th>\n",
              "      <th>favorites</th>\n",
              "      <th>Time</th>\n",
              "      <th>Date</th>\n",
              "      <th>Day</th>\n",
              "      <th>Month</th>\n",
              "      <th>Year</th>\n",
              "      <th>Month_Year</th>\n",
              "    </tr>\n",
              "  </thead>\n",
              "  <tbody>\n",
              "    <tr>\n",
              "      <th>30889</th>\n",
              "      <td>795770006306861057</td>\n",
              "      <td>https://twitter.com/realDonaldTrump/status/795...</td>\n",
              "      <td>LIVE on  Periscope Join me for a few minutes i...</td>\n",
              "      <td>8765</td>\n",
              "      <td>27429</td>\n",
              "      <td>00:28:48</td>\n",
              "      <td>2016-11-08</td>\n",
              "      <td>8</td>\n",
              "      <td>11</td>\n",
              "      <td>2016</td>\n",
              "      <td>2016-11</td>\n",
              "    </tr>\n",
              "    <tr>\n",
              "      <th>30890</th>\n",
              "      <td>795779987152523264</td>\n",
              "      <td>https://twitter.com/realDonaldTrump/status/795...</td>\n",
              "      <td>Thank you Pennsylvania Going to New Hampshire ...</td>\n",
              "      <td>7743</td>\n",
              "      <td>25771</td>\n",
              "      <td>01:08:28</td>\n",
              "      <td>2016-11-08</td>\n",
              "      <td>8</td>\n",
              "      <td>11</td>\n",
              "      <td>2016</td>\n",
              "      <td>2016-11</td>\n",
              "    </tr>\n",
              "    <tr>\n",
              "      <th>30891</th>\n",
              "      <td>795781945607278592</td>\n",
              "      <td>https://twitter.com/realDonaldTrump/status/795...</td>\n",
              "      <td>Today in Florida I pledged to stand with the p...</td>\n",
              "      <td>12110</td>\n",
              "      <td>32433</td>\n",
              "      <td>01:16:15</td>\n",
              "      <td>2016-11-08</td>\n",
              "      <td>8</td>\n",
              "      <td>11</td>\n",
              "      <td>2016</td>\n",
              "      <td>2016-11</td>\n",
              "    </tr>\n",
              "    <tr>\n",
              "      <th>30892</th>\n",
              "      <td>795782371895349250</td>\n",
              "      <td>https://twitter.com/realDonaldTrump/status/795...</td>\n",
              "      <td>Big news to share in New Hampshire tonight Pol...</td>\n",
              "      <td>11281</td>\n",
              "      <td>38360</td>\n",
              "      <td>01:17:57</td>\n",
              "      <td>2016-11-08</td>\n",
              "      <td>8</td>\n",
              "      <td>11</td>\n",
              "      <td>2016</td>\n",
              "      <td>2016-11</td>\n",
              "    </tr>\n",
              "    <tr>\n",
              "      <th>30893</th>\n",
              "      <td>795834203430645760</td>\n",
              "      <td>https://twitter.com/realDonaldTrump/status/795...</td>\n",
              "      <td>Unbelievable evening in New Hampshire  THANK Y...</td>\n",
              "      <td>7796</td>\n",
              "      <td>28222</td>\n",
              "      <td>04:43:54</td>\n",
              "      <td>2016-11-08</td>\n",
              "      <td>8</td>\n",
              "      <td>11</td>\n",
              "      <td>2016</td>\n",
              "      <td>2016-11</td>\n",
              "    </tr>\n",
              "  </tbody>\n",
              "</table>\n",
              "</div>"
            ],
            "text/plain": [
              "                       id  ... Month_Year\n",
              "30889  795770006306861057  ...    2016-11\n",
              "30890  795779987152523264  ...    2016-11\n",
              "30891  795781945607278592  ...    2016-11\n",
              "30892  795782371895349250  ...    2016-11\n",
              "30893  795834203430645760  ...    2016-11\n",
              "\n",
              "[5 rows x 11 columns]"
            ]
          },
          "metadata": {
            "tags": []
          },
          "execution_count": 70
        }
      ]
    },
    {
      "cell_type": "code",
      "metadata": {
        "id": "JGp-yYkAh_Ze"
      },
      "source": [
        "tweets['Date'] = pd.to_datetime(tweets['Date'])"
      ],
      "execution_count": null,
      "outputs": []
    },
    {
      "cell_type": "code",
      "metadata": {
        "id": "pFpLILrOiOqr",
        "outputId": "188535ec-2c1c-4bf9-ee6c-160d1d079a68",
        "colab": {
          "base_uri": "https://localhost:8080/",
          "height": 235
        }
      },
      "source": [
        "tweets['Date'].describe"
      ],
      "execution_count": 72,
      "outputs": [
        {
          "output_type": "execute_result",
          "data": {
            "text/plain": [
              "<bound method NDFrame.describe of 30889   2016-11-08\n",
              "30890   2016-11-08\n",
              "30891   2016-11-08\n",
              "30892   2016-11-08\n",
              "30893   2016-11-08\n",
              "           ...    \n",
              "41117   2020-01-19\n",
              "41118   2020-01-19\n",
              "41119   2020-01-20\n",
              "41120   2020-01-20\n",
              "41121   2020-01-20\n",
              "Name: Date, Length: 10233, dtype: datetime64[ns]>"
            ]
          },
          "metadata": {
            "tags": []
          },
          "execution_count": 72
        }
      ]
    },
    {
      "cell_type": "code",
      "metadata": {
        "id": "Jj-FXhoNju9L",
        "outputId": "df74aa8b-21da-49ba-e8c7-38b1de2c6d4d",
        "colab": {
          "base_uri": "https://localhost:8080/",
          "height": 285
        }
      },
      "source": [
        "tweets.head()"
      ],
      "execution_count": 73,
      "outputs": [
        {
          "output_type": "execute_result",
          "data": {
            "text/html": [
              "<div>\n",
              "<style scoped>\n",
              "    .dataframe tbody tr th:only-of-type {\n",
              "        vertical-align: middle;\n",
              "    }\n",
              "\n",
              "    .dataframe tbody tr th {\n",
              "        vertical-align: top;\n",
              "    }\n",
              "\n",
              "    .dataframe thead th {\n",
              "        text-align: right;\n",
              "    }\n",
              "</style>\n",
              "<table border=\"1\" class=\"dataframe\">\n",
              "  <thead>\n",
              "    <tr style=\"text-align: right;\">\n",
              "      <th></th>\n",
              "      <th>id</th>\n",
              "      <th>link</th>\n",
              "      <th>content</th>\n",
              "      <th>retweets</th>\n",
              "      <th>favorites</th>\n",
              "      <th>Time</th>\n",
              "      <th>Date</th>\n",
              "      <th>Day</th>\n",
              "      <th>Month</th>\n",
              "      <th>Year</th>\n",
              "      <th>Month_Year</th>\n",
              "    </tr>\n",
              "  </thead>\n",
              "  <tbody>\n",
              "    <tr>\n",
              "      <th>30889</th>\n",
              "      <td>795770006306861057</td>\n",
              "      <td>https://twitter.com/realDonaldTrump/status/795...</td>\n",
              "      <td>LIVE on  Periscope Join me for a few minutes i...</td>\n",
              "      <td>8765</td>\n",
              "      <td>27429</td>\n",
              "      <td>00:28:48</td>\n",
              "      <td>2016-11-08</td>\n",
              "      <td>8</td>\n",
              "      <td>11</td>\n",
              "      <td>2016</td>\n",
              "      <td>2016-11</td>\n",
              "    </tr>\n",
              "    <tr>\n",
              "      <th>30890</th>\n",
              "      <td>795779987152523264</td>\n",
              "      <td>https://twitter.com/realDonaldTrump/status/795...</td>\n",
              "      <td>Thank you Pennsylvania Going to New Hampshire ...</td>\n",
              "      <td>7743</td>\n",
              "      <td>25771</td>\n",
              "      <td>01:08:28</td>\n",
              "      <td>2016-11-08</td>\n",
              "      <td>8</td>\n",
              "      <td>11</td>\n",
              "      <td>2016</td>\n",
              "      <td>2016-11</td>\n",
              "    </tr>\n",
              "    <tr>\n",
              "      <th>30891</th>\n",
              "      <td>795781945607278592</td>\n",
              "      <td>https://twitter.com/realDonaldTrump/status/795...</td>\n",
              "      <td>Today in Florida I pledged to stand with the p...</td>\n",
              "      <td>12110</td>\n",
              "      <td>32433</td>\n",
              "      <td>01:16:15</td>\n",
              "      <td>2016-11-08</td>\n",
              "      <td>8</td>\n",
              "      <td>11</td>\n",
              "      <td>2016</td>\n",
              "      <td>2016-11</td>\n",
              "    </tr>\n",
              "    <tr>\n",
              "      <th>30892</th>\n",
              "      <td>795782371895349250</td>\n",
              "      <td>https://twitter.com/realDonaldTrump/status/795...</td>\n",
              "      <td>Big news to share in New Hampshire tonight Pol...</td>\n",
              "      <td>11281</td>\n",
              "      <td>38360</td>\n",
              "      <td>01:17:57</td>\n",
              "      <td>2016-11-08</td>\n",
              "      <td>8</td>\n",
              "      <td>11</td>\n",
              "      <td>2016</td>\n",
              "      <td>2016-11</td>\n",
              "    </tr>\n",
              "    <tr>\n",
              "      <th>30893</th>\n",
              "      <td>795834203430645760</td>\n",
              "      <td>https://twitter.com/realDonaldTrump/status/795...</td>\n",
              "      <td>Unbelievable evening in New Hampshire  THANK Y...</td>\n",
              "      <td>7796</td>\n",
              "      <td>28222</td>\n",
              "      <td>04:43:54</td>\n",
              "      <td>2016-11-08</td>\n",
              "      <td>8</td>\n",
              "      <td>11</td>\n",
              "      <td>2016</td>\n",
              "      <td>2016-11</td>\n",
              "    </tr>\n",
              "  </tbody>\n",
              "</table>\n",
              "</div>"
            ],
            "text/plain": [
              "                       id  ... Month_Year\n",
              "30889  795770006306861057  ...    2016-11\n",
              "30890  795779987152523264  ...    2016-11\n",
              "30891  795781945607278592  ...    2016-11\n",
              "30892  795782371895349250  ...    2016-11\n",
              "30893  795834203430645760  ...    2016-11\n",
              "\n",
              "[5 rows x 11 columns]"
            ]
          },
          "metadata": {
            "tags": []
          },
          "execution_count": 73
        }
      ]
    },
    {
      "cell_type": "code",
      "metadata": {
        "id": "jbyZ1kogkLdL"
      },
      "source": [
        "tweets['Day'] = tweets['Date'].dt.day\n",
        "tweets['Month'] = tweets['Date'].dt.month\n",
        "tweets['Year'] = tweets['Date'].dt.year\n",
        "tweets['Month_Year'] = pd.to_datetime(tweets['Date']).dt.to_period('M')"
      ],
      "execution_count": null,
      "outputs": []
    },
    {
      "cell_type": "code",
      "metadata": {
        "id": "298dvbjQlzDv",
        "outputId": "84ca0400-8c81-490f-92c2-5884a1d6fd8f",
        "colab": {
          "base_uri": "https://localhost:8080/",
          "height": 285
        }
      },
      "source": [
        "tweets.head()"
      ],
      "execution_count": 75,
      "outputs": [
        {
          "output_type": "execute_result",
          "data": {
            "text/html": [
              "<div>\n",
              "<style scoped>\n",
              "    .dataframe tbody tr th:only-of-type {\n",
              "        vertical-align: middle;\n",
              "    }\n",
              "\n",
              "    .dataframe tbody tr th {\n",
              "        vertical-align: top;\n",
              "    }\n",
              "\n",
              "    .dataframe thead th {\n",
              "        text-align: right;\n",
              "    }\n",
              "</style>\n",
              "<table border=\"1\" class=\"dataframe\">\n",
              "  <thead>\n",
              "    <tr style=\"text-align: right;\">\n",
              "      <th></th>\n",
              "      <th>id</th>\n",
              "      <th>link</th>\n",
              "      <th>content</th>\n",
              "      <th>retweets</th>\n",
              "      <th>favorites</th>\n",
              "      <th>Time</th>\n",
              "      <th>Date</th>\n",
              "      <th>Day</th>\n",
              "      <th>Month</th>\n",
              "      <th>Year</th>\n",
              "      <th>Month_Year</th>\n",
              "    </tr>\n",
              "  </thead>\n",
              "  <tbody>\n",
              "    <tr>\n",
              "      <th>30889</th>\n",
              "      <td>795770006306861057</td>\n",
              "      <td>https://twitter.com/realDonaldTrump/status/795...</td>\n",
              "      <td>LIVE on  Periscope Join me for a few minutes i...</td>\n",
              "      <td>8765</td>\n",
              "      <td>27429</td>\n",
              "      <td>00:28:48</td>\n",
              "      <td>2016-11-08</td>\n",
              "      <td>8</td>\n",
              "      <td>11</td>\n",
              "      <td>2016</td>\n",
              "      <td>2016-11</td>\n",
              "    </tr>\n",
              "    <tr>\n",
              "      <th>30890</th>\n",
              "      <td>795779987152523264</td>\n",
              "      <td>https://twitter.com/realDonaldTrump/status/795...</td>\n",
              "      <td>Thank you Pennsylvania Going to New Hampshire ...</td>\n",
              "      <td>7743</td>\n",
              "      <td>25771</td>\n",
              "      <td>01:08:28</td>\n",
              "      <td>2016-11-08</td>\n",
              "      <td>8</td>\n",
              "      <td>11</td>\n",
              "      <td>2016</td>\n",
              "      <td>2016-11</td>\n",
              "    </tr>\n",
              "    <tr>\n",
              "      <th>30891</th>\n",
              "      <td>795781945607278592</td>\n",
              "      <td>https://twitter.com/realDonaldTrump/status/795...</td>\n",
              "      <td>Today in Florida I pledged to stand with the p...</td>\n",
              "      <td>12110</td>\n",
              "      <td>32433</td>\n",
              "      <td>01:16:15</td>\n",
              "      <td>2016-11-08</td>\n",
              "      <td>8</td>\n",
              "      <td>11</td>\n",
              "      <td>2016</td>\n",
              "      <td>2016-11</td>\n",
              "    </tr>\n",
              "    <tr>\n",
              "      <th>30892</th>\n",
              "      <td>795782371895349250</td>\n",
              "      <td>https://twitter.com/realDonaldTrump/status/795...</td>\n",
              "      <td>Big news to share in New Hampshire tonight Pol...</td>\n",
              "      <td>11281</td>\n",
              "      <td>38360</td>\n",
              "      <td>01:17:57</td>\n",
              "      <td>2016-11-08</td>\n",
              "      <td>8</td>\n",
              "      <td>11</td>\n",
              "      <td>2016</td>\n",
              "      <td>2016-11</td>\n",
              "    </tr>\n",
              "    <tr>\n",
              "      <th>30893</th>\n",
              "      <td>795834203430645760</td>\n",
              "      <td>https://twitter.com/realDonaldTrump/status/795...</td>\n",
              "      <td>Unbelievable evening in New Hampshire  THANK Y...</td>\n",
              "      <td>7796</td>\n",
              "      <td>28222</td>\n",
              "      <td>04:43:54</td>\n",
              "      <td>2016-11-08</td>\n",
              "      <td>8</td>\n",
              "      <td>11</td>\n",
              "      <td>2016</td>\n",
              "      <td>2016-11</td>\n",
              "    </tr>\n",
              "  </tbody>\n",
              "</table>\n",
              "</div>"
            ],
            "text/plain": [
              "                       id  ... Month_Year\n",
              "30889  795770006306861057  ...    2016-11\n",
              "30890  795779987152523264  ...    2016-11\n",
              "30891  795781945607278592  ...    2016-11\n",
              "30892  795782371895349250  ...    2016-11\n",
              "30893  795834203430645760  ...    2016-11\n",
              "\n",
              "[5 rows x 11 columns]"
            ]
          },
          "metadata": {
            "tags": []
          },
          "execution_count": 75
        }
      ]
    },
    {
      "cell_type": "code",
      "metadata": {
        "id": "AAFyNHXG0zUd",
        "outputId": "c47f2135-c360-4c28-8098-2840d48311ca",
        "colab": {
          "base_uri": "https://localhost:8080/",
          "height": 345
        }
      },
      "source": [
        "tweets.info()"
      ],
      "execution_count": 76,
      "outputs": [
        {
          "output_type": "stream",
          "text": [
            "<class 'pandas.core.frame.DataFrame'>\n",
            "Int64Index: 10233 entries, 30889 to 41121\n",
            "Data columns (total 11 columns):\n",
            " #   Column      Non-Null Count  Dtype         \n",
            "---  ------      --------------  -----         \n",
            " 0   id          10233 non-null  int64         \n",
            " 1   link        10233 non-null  object        \n",
            " 2   content     10233 non-null  object        \n",
            " 3   retweets    10233 non-null  int64         \n",
            " 4   favorites   10233 non-null  int64         \n",
            " 5   Time        10233 non-null  object        \n",
            " 6   Date        10233 non-null  datetime64[ns]\n",
            " 7   Day         10233 non-null  int64         \n",
            " 8   Month       10233 non-null  int64         \n",
            " 9   Year        10233 non-null  int64         \n",
            " 10  Month_Year  10233 non-null  period[M]     \n",
            "dtypes: datetime64[ns](1), int64(6), object(3), period[M](1)\n",
            "memory usage: 959.3+ KB\n"
          ],
          "name": "stdout"
        }
      ]
    },
    {
      "cell_type": "code",
      "metadata": {
        "id": "32WE_RfJr-gM",
        "outputId": "9f8218f6-063f-4ebe-afc1-45d235e272ce",
        "colab": {
          "base_uri": "https://localhost:8080/",
          "height": 286
        }
      },
      "source": [
        "tweets_per_year = {}\n",
        "for i in tweets['Year']:\n",
        "  if i not in tweets_per_year:\n",
        "    tweets_per_year[i] = 1\n",
        "  else:\n",
        "    tweets_per_year[i] += 1\n",
        "\n",
        "keys = tweets_per_year.keys()\n",
        "values = tweets_per_year.values()\n",
        "\n",
        "plt.bar(keys,values)"
      ],
      "execution_count": 77,
      "outputs": [
        {
          "output_type": "execute_result",
          "data": {
            "text/plain": [
              "<BarContainer object of 5 artists>"
            ]
          },
          "metadata": {
            "tags": []
          },
          "execution_count": 77
        },
        {
          "output_type": "display_data",
          "data": {
            "image/png": "[encoded data removed]",
            "text/plain": [
              "<Figure size 432x288 with 1 Axes>"
            ]
          },
          "metadata": {
            "tags": []
          }
        }
      ]
    },
    {
      "cell_type": "code",
      "metadata": {
        "id": "5LHLAB-Rz5eK",
        "outputId": "4b6b9a14-0eef-4bcb-d1d7-38531886ee1f",
        "colab": {
          "base_uri": "https://localhost:8080/",
          "height": 726
        }
      },
      "source": [
        "tweets_per_month = {}\n",
        "for i in tweets['Month_Year']:\n",
        "  if i not in tweets_per_month:\n",
        "    tweets_per_month[i] = 1\n",
        "  else:\n",
        "    tweets_per_month[i] += 1\n",
        "\n",
        "keys = tweets_per_month.keys()\n",
        "values = tweets_per_month.values()\n",
        "tweets_per_month"
      ],
      "execution_count": 78,
      "outputs": [
        {
          "output_type": "execute_result",
          "data": {
            "text/plain": [
              "{Period('2016-11', 'M'): 103,\n",
              " Period('2016-12', 'M'): 131,\n",
              " Period('2017-01', 'M'): 202,\n",
              " Period('2017-02', 'M'): 146,\n",
              " Period('2017-03', 'M'): 131,\n",
              " Period('2017-04', 'M'): 137,\n",
              " Period('2017-05', 'M'): 135,\n",
              " Period('2017-06', 'M'): 172,\n",
              " Period('2017-07', 'M'): 226,\n",
              " Period('2017-08', 'M'): 192,\n",
              " Period('2017-09', 'M'): 235,\n",
              " Period('2017-10', 'M'): 256,\n",
              " Period('2017-11', 'M'): 231,\n",
              " Period('2017-12', 'M'): 169,\n",
              " Period('2018-01', 'M'): 182,\n",
              " Period('2018-02', 'M'): 163,\n",
              " Period('2018-03', 'M'): 158,\n",
              " Period('2018-04', 'M'): 210,\n",
              " Period('2018-05', 'M'): 239,\n",
              " Period('2018-06', 'M'): 319,\n",
              " Period('2018-07', 'M'): 265,\n",
              " Period('2018-08', 'M'): 332,\n",
              " Period('2018-09', 'M'): 282,\n",
              " Period('2018-10', 'M'): 320,\n",
              " Period('2018-11', 'M'): 259,\n",
              " Period('2018-12', 'M'): 269,\n",
              " Period('2019-01', 'M'): 285,\n",
              " Period('2019-02', 'M'): 188,\n",
              " Period('2019-03', 'M'): 280,\n",
              " Period('2019-04', 'M'): 311,\n",
              " Period('2019-05', 'M'): 381,\n",
              " Period('2019-06', 'M'): 331,\n",
              " Period('2019-07', 'M'): 470,\n",
              " Period('2019-08', 'M'): 423,\n",
              " Period('2019-09', 'M'): 475,\n",
              " Period('2019-10', 'M'): 594,\n",
              " Period('2019-11', 'M'): 411,\n",
              " Period('2019-12', 'M'): 439,\n",
              " Period('2020-01', 'M'): 181}"
            ]
          },
          "metadata": {
            "tags": []
          },
          "execution_count": 78
        }
      ]
    }
  ]
}